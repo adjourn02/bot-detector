{
 "cells": [
  {
   "cell_type": "markdown",
   "source": [
    "CS 7643 Project\n",
    "Georgia Institute of Technology\n",
    "\n",
    "Authors: Erick Ordonez and Daniel Solon"
   ],
   "metadata": {
    "collapsed": false
   },
   "id": "ac4f78259c7078d2"
  },
  {
   "cell_type": "markdown",
   "source": [
    "# Preprocessing 2024 US Elections Dataset using Glove Embeddings"
   ],
   "metadata": {
    "collapsed": false
   },
   "id": "97a03490401a3f97"
  },
  {
   "cell_type": "markdown",
   "id": "26a83f6b",
   "metadata": {},
   "source": [
    "## Import libraries"
   ]
  },
  {
   "cell_type": "code",
   "execution_count": 1,
   "id": "8c8d9e22",
   "metadata": {
    "ExecuteTime": {
     "end_time": "2025-04-18T22:39:57.498605500Z",
     "start_time": "2025-04-18T22:39:49.524669300Z"
    }
   },
   "outputs": [],
   "source": [
    "import os\n",
    "\n",
    "# Torch \n",
    "import torch\n",
    "\n",
    "# Reading Data\n",
    "import pandas as pd\n",
    "\n",
    "# NLP\n",
    "from nltk.tokenize import word_tokenize\n",
    "import numpy as np\n",
    "import nltk\n",
    "\n",
    "import emoji"
   ]
  },
  {
   "cell_type": "markdown",
   "source": [
    "## Download Tokenizer"
   ],
   "metadata": {
    "collapsed": false
   },
   "id": "1a352b8132b5c8ed"
  },
  {
   "cell_type": "code",
   "execution_count": 153,
   "id": "57653284",
   "metadata": {
    "ExecuteTime": {
     "end_time": "2025-04-19T00:47:19.027591Z",
     "start_time": "2025-04-19T00:47:18.703848100Z"
    }
   },
   "outputs": [
    {
     "name": "stderr",
     "output_type": "stream",
     "text": [
      "[nltk_data] Downloading package punkt to\n",
      "[nltk_data]     C:\\Users\\djsal\\AppData\\Roaming\\nltk_data...\n",
      "[nltk_data]   Package punkt is already up-to-date!\n",
      "[nltk_data] Downloading package punkt_tab to\n",
      "[nltk_data]     C:\\Users\\djsal\\AppData\\Roaming\\nltk_data...\n",
      "[nltk_data]   Package punkt_tab is already up-to-date!\n"
     ]
    },
    {
     "data": {
      "text/plain": "True"
     },
     "execution_count": 153,
     "metadata": {},
     "output_type": "execute_result"
    }
   ],
   "source": [
    "nltk.download('punkt')\n",
    "nltk.download('punkt_tab')"
   ]
  },
  {
   "cell_type": "markdown",
   "id": "e4612b96",
   "metadata": {},
   "source": [
    "## Tokenization and Embedding Helper Functions"
   ]
  },
  {
   "cell_type": "code",
   "execution_count": 154,
   "id": "73240040",
   "metadata": {
    "ExecuteTime": {
     "end_time": "2025-04-19T00:47:24.183107800Z",
     "start_time": "2025-04-19T00:47:24.176139100Z"
    }
   },
   "outputs": [],
   "source": [
    "def load_glove_embeddings(glove_file_path):\n",
    "        embeddings = {}\n",
    "        with open(glove_file_path, 'r', encoding='utf-8') as f:\n",
    "            for line in f:\n",
    "                values = line.split()\n",
    "                word = values[0]\n",
    "                vector = np.asarray(values[1:], dtype='float32')\n",
    "                embeddings[word] = vector\n",
    "        return embeddings\n",
    "\n",
    "\n",
    "def is_float(s):\n",
    "    try:\n",
    "        float(s)\n",
    "        return True\n",
    "    except ValueError:\n",
    "        return False\n",
    "    \n",
    "    \n",
    "def embed_text(text, glove_embeddings):\n",
    "        # Tokenize the text\n",
    "        tokens = word_tokenize(text)\n",
    "        embedding = []\n",
    "        \n",
    "        # Get GloVe embeddings for each word in the tokenized text\n",
    "        for word in tokens:\n",
    "            \n",
    "            # Applying Kudugunta's Rules\n",
    "            if word == '#':\n",
    "                \n",
    "                word = \"<hashtag>\"\n",
    "            \n",
    "            elif word == '@':\n",
    "                \n",
    "                word = \"<user>\"\n",
    "            \n",
    "            elif word == \"https\" or word == \"HTTPS\":\n",
    "                \n",
    "                word = \"<url>\"\n",
    "            \n",
    "            elif word[0:3] == \"//t\":\n",
    "                \n",
    "                word = \"<url>\"\n",
    "            \n",
    "            elif word.isdigit() or is_float(word):\n",
    "                \n",
    "                word = \"<number>\"\n",
    "                \n",
    "            # Replacing emojis\n",
    "            if emoji.is_emoji(word):\n",
    "                word = emoji.demojize(word)\n",
    "                word = \"<\" + word[1:-1] + \">\"\n",
    "                            \n",
    "            # For word in all caps\n",
    "            if word.isupper():\n",
    "                \n",
    "                first_word = word.lower()\n",
    "                \n",
    "                if first_word in glove_embeddings:\n",
    "                    embedding.append(glove_embeddings[first_word])\n",
    "                else:\n",
    "                    # If the word is not in GloVe, append a zero vector (or you can handle it differently)\n",
    "                    embedding.append(np.zeros(200))  # Assuming the GloVe embeddings are 200-dimensional\n",
    "                    \n",
    "                second_word = \"<allcaps>\"\n",
    "                \n",
    "                if second_word in glove_embeddings:\n",
    "                    \n",
    "                    embedding.append(glove_embeddings[second_word])\n",
    "                else:\n",
    "                    # If the word is not in GloVe, append a zero vector (or you can handle it differently)\n",
    "                    embedding.append(np.zeros(200))  # Assuming the GloVe embeddings are 200-dimensional\n",
    "            \n",
    "            else: \n",
    "                word = word.lower()\n",
    "                \n",
    "                if word in glove_embeddings:\n",
    "                    embedding.append(glove_embeddings[word])\n",
    "                else:\n",
    "                    # If the word is not in GloVe, append a zero vector (or you can handle it differently)\n",
    "                    embedding.append(np.zeros(200))  # Assuming the GloVe embeddings are 200-dimensional\n",
    "\n",
    "        # Return the average embedding for the entire sentence (or you can return a list of vectors)\n",
    "        if embedding:\n",
    "            return np.mean(embedding, axis=0)\n",
    "        else:\n",
    "            return np.zeros(200)  # Default if no tokens are found in the embeddings"
   ]
  },
  {
   "cell_type": "markdown",
   "id": "c0d789fb",
   "metadata": {},
   "source": [
    "## Data Processing Helper Functions"
   ]
  },
  {
   "cell_type": "code",
   "execution_count": 155,
   "id": "2665fbd4",
   "metadata": {
    "ExecuteTime": {
     "end_time": "2025-04-19T00:47:28.106727600Z",
     "start_time": "2025-04-19T00:47:28.097743900Z"
    }
   },
   "outputs": [],
   "source": [
    "def process_user_info(s):\n",
    "\n",
    "    # Getting Indices for Data\n",
    "    user_id_index = s.find(\"\\'id\\'':\")\n",
    "    user_id_str_index = s.find(\"\\'id_str\\'':\")\n",
    "    url_index = s.find(\"\\'url\\'':\")\n",
    "    username_index = s.find(\"\\'username\\':\")\n",
    "    raw_desc_index = s.find(\"\\'rawDescription\\':\")\n",
    "    created_index = s.find(\"\\'created\\':\")\n",
    "    followers_count_index = s.find(\"\\'followersCount\\':\")\n",
    "    friends_count_index = s.find(\"\\'friendsCount\\':\")\n",
    "    statuses_count_index = s.find(\"\\'statusesCount\\':\")\n",
    "    favourites_count_index = s.find(\"\\'favouritesCount\\':\")\n",
    "    listed_count_index = s.find(\"\\'listedCount\\':\")\n",
    "    media_count_index = s.find(\"\\'mediaCount\\':\")\n",
    "    location_index = s.find(\"\\'location\\':\")\n",
    "    profileImageUrl_index = s.find(\"\\'profileImageUrl\\':\")\n",
    "    profileBannerUrl_index = s.find(\"\\'profileBannerUrl\\':\")\n",
    "    protected_index = s.find(\"\\'protected\\':\")\n",
    "    verified_index = s.find(\"\\'verified\\':\")\n",
    "    blue_index = s.find(\"\\'blue\\':\")\n",
    "    blue_type_index = s.find(\"\\'blueType\\':\")\n",
    "    description_links_index = s.find(\"\\'descriptionLinks\\':\")\n",
    "    type_index = s.find(\"\\'x_type\\':\")\n",
    "    \n",
    "    all_data = []\n",
    "    \n",
    "    # Getting items for data  \n",
    "    followers_count_items = s[followers_count_index: friends_count_index - 2].split(\":\")\n",
    "    all_data.append((followers_count_items[0], followers_count_items[1]))\n",
    "    \n",
    "    friends_count_items = s[friends_count_index: statuses_count_index - 2].split(\":\")\n",
    "    all_data.append((friends_count_items[0], friends_count_items[1]))\n",
    "    \n",
    "    favourites_count_items = s[favourites_count_index: listed_count_index - 2].split(\":\")\n",
    "    all_data.append((favourites_count_items[0], favourites_count_items[1]))\n",
    "    \n",
    "    listed_count_items = s[listed_count_index: media_count_index - 2].split(\":\")\n",
    "    all_data.append((listed_count_items[0], listed_count_items[1]))\n",
    "    \n",
    "    verified_items = s[verified_index: blue_index - 2].split(\":\")\n",
    "    all_data.append((verified_items[0], verified_items[1]))\n",
    "    \n",
    "    numerical = [\"followersCount\", \"friendsCount\", \"favouritesCount\", \"listedCount\"]\n",
    "    \n",
    "    result = {}\n",
    "    for data in all_data:\n",
    "        \n",
    "        key, value = data\n",
    "        \n",
    "        key = key.replace(\"\\'\",'')\n",
    "        if key in numerical:\n",
    "            \n",
    "            result[key.strip()] = int(value)\n",
    "        \n",
    "        else:\n",
    "            result[key.strip()] = value.strip()\n",
    "        \n",
    "    return result\n",
    "\n",
    "\n",
    "def get_followers(user_info):\n",
    "    \n",
    "    return user_info['followersCount']\n",
    "\n",
    "\n",
    "def get_friends(user_info):\n",
    "    \n",
    "    return user_info['friendsCount']\n",
    "\n",
    "\n",
    "def get_favorites(user_info):\n",
    "    \n",
    "    return user_info['favouritesCount']\n",
    "\n",
    "\n",
    "def get_listed(user_info):\n",
    "    \n",
    "    return user_info['listedCount']\n",
    "\n",
    "\n",
    "def get_verified(user_info):\n",
    "    \n",
    "    return user_info['verified']\n",
    "\n",
    "\n",
    "def encode_verified(row):\n",
    "    if row == \"False\":\n",
    "        \n",
    "        return  0\n",
    "    \n",
    "    else:\n",
    "        \n",
    "        return 1"
   ]
  },
  {
   "cell_type": "markdown",
   "source": [
    "## Reading in Data"
   ],
   "metadata": {
    "collapsed": false
   },
   "id": "f7e4c9452a1b664c"
  },
  {
   "cell_type": "markdown",
   "source": [
    "Read elections data for August 2024 from random days:"
   ],
   "metadata": {
    "collapsed": false
   },
   "id": "9a35303d6a797bc7"
  },
  {
   "cell_type": "code",
   "execution_count": 119,
   "outputs": [
    {
     "data": {
      "text/plain": "date      \n2024-08-12    50000\nName: count, dtype: int64"
     },
     "execution_count": 119,
     "metadata": {},
     "output_type": "execute_result"
    }
   ],
   "source": [
    "df_aug12 = pd.read_csv(\"../Data/aug_chunk_20.csv.gz\",  compression='gzip')\n",
    "df_aug12[[\"date\"]].value_counts()"
   ],
   "metadata": {
    "collapsed": false,
    "ExecuteTime": {
     "end_time": "2025-04-19T00:36:29.047908Z",
     "start_time": "2025-04-19T00:36:26.985513800Z"
    }
   },
   "id": "765b14fdbd9c4e2"
  },
  {
   "cell_type": "code",
   "execution_count": 118,
   "outputs": [
    {
     "data": {
      "text/plain": "date      \n2024-08-18    50000\nName: count, dtype: int64"
     },
     "execution_count": 118,
     "metadata": {},
     "output_type": "execute_result"
    }
   ],
   "source": [
    "df_aug18 = pd.read_csv(\"../Data/aug_chunk_10.csv.gz\",  compression='gzip')\n",
    "df_aug18[[\"date\"]].value_counts()"
   ],
   "metadata": {
    "collapsed": false,
    "ExecuteTime": {
     "end_time": "2025-04-19T00:36:26.987512900Z",
     "start_time": "2025-04-19T00:36:24.887491200Z"
    }
   },
   "id": "9bdb76cf26ec1cf8"
  },
  {
   "cell_type": "code",
   "execution_count": 117,
   "outputs": [
    {
     "data": {
      "text/plain": "date      \n2024-08-21    50000\nName: count, dtype: int64"
     },
     "execution_count": 117,
     "metadata": {},
     "output_type": "execute_result"
    }
   ],
   "source": [
    "df_aug21 = pd.read_csv(\"../Data/aug_chunk_40.csv.gz\",  compression='gzip')\n",
    "df_aug21[[\"date\"]].value_counts()"
   ],
   "metadata": {
    "collapsed": false,
    "ExecuteTime": {
     "end_time": "2025-04-19T00:36:24.895485100Z",
     "start_time": "2025-04-19T00:36:22.822446400Z"
    }
   },
   "id": "3974df6a28f60b54"
  },
  {
   "cell_type": "markdown",
   "source": [
    "Read elections data for September 2024 from random days:"
   ],
   "metadata": {
    "collapsed": false
   },
   "id": "4ac0f7921d2131aa"
  },
  {
   "cell_type": "code",
   "execution_count": 116,
   "outputs": [
    {
     "data": {
      "text/plain": "date      \n2024-09-04    50000\nName: count, dtype: int64"
     },
     "execution_count": 116,
     "metadata": {},
     "output_type": "execute_result"
    }
   ],
   "source": [
    "df_sept4 = pd.read_csv(\"../Data/september_chunk_1.csv.gz\",  compression='gzip')\n",
    "df_sept4[[\"date\"]].value_counts()"
   ],
   "metadata": {
    "collapsed": false,
    "ExecuteTime": {
     "end_time": "2025-04-19T00:36:22.830455Z",
     "start_time": "2025-04-19T00:36:20.713999200Z"
    }
   },
   "id": "59836b59ece33de7"
  },
  {
   "cell_type": "code",
   "execution_count": 115,
   "outputs": [
    {
     "data": {
      "text/plain": "date      \n2024-09-17    50000\nName: count, dtype: int64"
     },
     "execution_count": 115,
     "metadata": {},
     "output_type": "execute_result"
    }
   ],
   "source": [
    "df_sept17 = pd.read_csv(\"../Data/september_chunk_30.csv.gz\",  compression='gzip')\n",
    "df_sept17[[\"date\"]].value_counts()"
   ],
   "metadata": {
    "collapsed": false,
    "ExecuteTime": {
     "end_time": "2025-04-19T00:36:20.734001300Z",
     "start_time": "2025-04-19T00:36:18.564836700Z"
    }
   },
   "id": "54ce4729a8e9b5fc"
  },
  {
   "cell_type": "code",
   "execution_count": 114,
   "outputs": [
    {
     "data": {
      "text/plain": "date      \n2024-09-20    50000\nName: count, dtype: int64"
     },
     "execution_count": 114,
     "metadata": {},
     "output_type": "execute_result"
    }
   ],
   "source": [
    "df_sept20 = pd.read_csv(\"../Data/september_chunk_20.csv.gz\",  compression='gzip')\n",
    "df_sept20[[\"date\"]].value_counts()"
   ],
   "metadata": {
    "collapsed": false,
    "ExecuteTime": {
     "end_time": "2025-04-19T00:36:18.567837100Z",
     "start_time": "2025-04-19T00:36:16.463414800Z"
    }
   },
   "id": "c6c777d01b8932e9"
  },
  {
   "cell_type": "markdown",
   "source": [
    "Read elections data for October 2024 from random days:"
   ],
   "metadata": {
    "collapsed": false
   },
   "id": "c48bc031db21415b"
  },
  {
   "cell_type": "code",
   "execution_count": 113,
   "outputs": [
    {
     "data": {
      "text/plain": "date      \n2024-10-03    46882\n2024-10-02     3118\nName: count, dtype: int64"
     },
     "execution_count": 113,
     "metadata": {},
     "output_type": "execute_result"
    }
   ],
   "source": [
    "df_oct3 = pd.read_csv(\"../Data/october_chunk_15.csv.gz\",  compression='gzip')\n",
    "df_oct3[[\"date\"]].value_counts()"
   ],
   "metadata": {
    "collapsed": false,
    "ExecuteTime": {
     "end_time": "2025-04-19T00:36:15.325609600Z",
     "start_time": "2025-04-19T00:36:13.327101900Z"
    }
   },
   "id": "6ef86c155be88689"
  },
  {
   "cell_type": "code",
   "execution_count": 111,
   "outputs": [
    {
     "data": {
      "text/plain": "date      \n2024-10-15    47537\n2024-10-12     2463\nName: count, dtype: int64"
     },
     "execution_count": 111,
     "metadata": {},
     "output_type": "execute_result"
    }
   ],
   "source": [
    "df_oct15 = pd.read_csv(\"../Data/october_chunk_10.csv.gz\",  compression='gzip')\n",
    "df_oct15[[\"date\"]].value_counts()"
   ],
   "metadata": {
    "collapsed": false,
    "ExecuteTime": {
     "end_time": "2025-04-19T00:36:07.666752Z",
     "start_time": "2025-04-19T00:36:05.700910500Z"
    }
   },
   "id": "e0a218afc75ef505"
  },
  {
   "cell_type": "code",
   "execution_count": 112,
   "outputs": [
    {
     "data": {
      "text/plain": "date      \n2024-10-31    46949\n2024-10-29     3051\nName: count, dtype: int64"
     },
     "execution_count": 112,
     "metadata": {},
     "output_type": "execute_result"
    }
   ],
   "source": [
    "df_oct31 = pd.read_csv(\"../Data/october_chunk_21.csv.gz\",  compression='gzip')\n",
    "df_oct31[[\"date\"]].value_counts()"
   ],
   "metadata": {
    "collapsed": false,
    "ExecuteTime": {
     "end_time": "2025-04-19T00:36:11.211182500Z",
     "start_time": "2025-04-19T00:36:09.209224Z"
    }
   },
   "id": "f10e2d5c20391eb3"
  },
  {
   "cell_type": "markdown",
   "source": [
    "Read elections data for November 2024 (post-elections) from random days:"
   ],
   "metadata": {
    "collapsed": false
   },
   "id": "dc795ec34d32e6c0"
  },
  {
   "cell_type": "code",
   "execution_count": 120,
   "outputs": [
    {
     "data": {
      "text/plain": "date      \n2024-11-07    50000\nName: count, dtype: int64"
     },
     "execution_count": 120,
     "metadata": {},
     "output_type": "execute_result"
    }
   ],
   "source": [
    "df_nov7 = pd.read_csv(\"../Data/november_chunk_10.csv.gz\",  compression='gzip')\n",
    "df_nov7[[\"date\"]].value_counts()"
   ],
   "metadata": {
    "collapsed": false,
    "ExecuteTime": {
     "end_time": "2025-04-19T00:36:57.376238Z",
     "start_time": "2025-04-19T00:36:55.250913700Z"
    }
   },
   "id": "63ed5cbf2fbca221"
  },
  {
   "cell_type": "code",
   "execution_count": 121,
   "outputs": [
    {
     "data": {
      "text/plain": "date      \n2024-11-24    50000\nName: count, dtype: int64"
     },
     "execution_count": 121,
     "metadata": {},
     "output_type": "execute_result"
    }
   ],
   "source": [
    "df_nov24 = pd.read_csv(\"../Data/november_chunk_20.csv.gz\",  compression='gzip')\n",
    "df_nov24[[\"date\"]].value_counts()"
   ],
   "metadata": {
    "collapsed": false,
    "ExecuteTime": {
     "end_time": "2025-04-19T00:36:59.356467400Z",
     "start_time": "2025-04-19T00:36:57.376238Z"
    }
   },
   "id": "a0c2bc0f06c18ab8"
  },
  {
   "cell_type": "code",
   "execution_count": 122,
   "outputs": [
    {
     "data": {
      "text/plain": "date      \n2024-11-29    50000\nName: count, dtype: int64"
     },
     "execution_count": 122,
     "metadata": {},
     "output_type": "execute_result"
    }
   ],
   "source": [
    "df_nov29 = pd.read_csv(\"../Data/november_chunk_30.csv.gz\",  compression='gzip')\n",
    "df_nov29[[\"date\"]].value_counts()"
   ],
   "metadata": {
    "collapsed": false,
    "ExecuteTime": {
     "end_time": "2025-04-19T00:37:01.316440600Z",
     "start_time": "2025-04-19T00:36:59.354464Z"
    }
   },
   "id": "3e6d9213cccb7c65"
  },
  {
   "cell_type": "markdown",
   "source": [
    "Concatenate random days data for each month:"
   ],
   "metadata": {
    "collapsed": false
   },
   "id": "ea6fb1e7217d7bc2"
  },
  {
   "cell_type": "code",
   "execution_count": 128,
   "outputs": [],
   "source": [
    "df_aug = pd.concat([df_aug12, df_aug18, df_aug21], axis=0)\n",
    "df_sept = pd.concat([df_sept4, df_sept17, df_sept20], axis=0)\n",
    "df_oct = pd.concat([df_oct3, df_oct15, df_oct31], axis=0)\n",
    "df_nov = pd.concat([df_nov7, df_nov24, df_nov29], axis=0)"
   ],
   "metadata": {
    "collapsed": false,
    "ExecuteTime": {
     "end_time": "2025-04-19T00:38:21.392527500Z",
     "start_time": "2025-04-19T00:38:21.205484700Z"
    }
   },
   "id": "280a9dd8ceb1cb46"
  },
  {
   "cell_type": "code",
   "execution_count": 129,
   "outputs": [
    {
     "data": {
      "text/plain": "date      \n2024-08-12    50000\n2024-08-18    50000\n2024-08-21    50000\nName: count, dtype: int64"
     },
     "execution_count": 129,
     "metadata": {},
     "output_type": "execute_result"
    }
   ],
   "source": [
    "df_aug[[\"date\"]].value_counts()"
   ],
   "metadata": {
    "collapsed": false,
    "ExecuteTime": {
     "end_time": "2025-04-19T00:38:30.011383300Z",
     "start_time": "2025-04-19T00:38:29.968921200Z"
    }
   },
   "id": "6a541ca80d96755"
  },
  {
   "cell_type": "code",
   "execution_count": 130,
   "outputs": [
    {
     "data": {
      "text/plain": "date      \n2024-09-04    50000\n2024-09-17    50000\n2024-09-20    50000\nName: count, dtype: int64"
     },
     "execution_count": 130,
     "metadata": {},
     "output_type": "execute_result"
    }
   ],
   "source": [
    "df_sept[[\"date\"]].value_counts()"
   ],
   "metadata": {
    "collapsed": false,
    "ExecuteTime": {
     "end_time": "2025-04-19T00:38:42.156600600Z",
     "start_time": "2025-04-19T00:38:42.128090400Z"
    }
   },
   "id": "efe5bf5228201627"
  },
  {
   "cell_type": "code",
   "execution_count": 142,
   "outputs": [
    {
     "data": {
      "text/plain": "date      \n2024-10-15    47537\n2024-10-31    46949\n2024-10-03    46882\n2024-10-02     3118\n2024-10-29     3051\n2024-10-12     2463\nName: count, dtype: int64"
     },
     "metadata": {},
     "output_type": "display_data"
    },
    {
     "data": {
      "text/plain": "150000"
     },
     "execution_count": 142,
     "metadata": {},
     "output_type": "execute_result"
    }
   ],
   "source": [
    "display(df_oct[[\"date\"]].value_counts())\n",
    "df_oct[[\"date\"]].value_counts().sum()"
   ],
   "metadata": {
    "collapsed": false,
    "ExecuteTime": {
     "end_time": "2025-04-19T00:41:11.879728700Z",
     "start_time": "2025-04-19T00:41:11.779369Z"
    }
   },
   "id": "11589c72b9962573"
  },
  {
   "cell_type": "code",
   "execution_count": 136,
   "outputs": [
    {
     "data": {
      "text/plain": "date      \n2024-11-07    50000\n2024-11-24    50000\n2024-11-29    50000\nName: count, dtype: int64"
     },
     "execution_count": 136,
     "metadata": {},
     "output_type": "execute_result"
    }
   ],
   "source": [
    "df_nov[[\"date\"]].value_counts()"
   ],
   "metadata": {
    "collapsed": false,
    "ExecuteTime": {
     "end_time": "2025-04-19T00:40:16.646817600Z",
     "start_time": "2025-04-19T00:40:16.612295500Z"
    }
   },
   "id": "da07ee38c5f3920a"
  },
  {
   "cell_type": "markdown",
   "source": [
    "Extract relevant data:"
   ],
   "metadata": {
    "collapsed": false
   },
   "id": "2328cc5d36510381"
  },
  {
   "cell_type": "code",
   "execution_count": 143,
   "outputs": [],
   "source": [
    "df_aug_relevant = df_aug[['text', 'user']]\n",
    "df_sept_relevant = df_sept[['text', 'user']]\n",
    "df_oct_relevant = df_oct[['text', 'user']]\n",
    "df_nov_relevant = df_nov[['text', 'user']]"
   ],
   "metadata": {
    "collapsed": false,
    "ExecuteTime": {
     "end_time": "2025-04-19T00:43:39.631217700Z",
     "start_time": "2025-04-19T00:43:39.553799200Z"
    }
   },
   "id": "e7fbcda4c4b29d86"
  },
  {
   "cell_type": "code",
   "execution_count": 150,
   "outputs": [
    {
     "data": {
      "text/plain": "                                                text  \\\n0  @FoxNews You’re running a crooked GOP candidat...   \n1  @TheBadgerCzar @BubblegumOut @jaybleft All qui...   \n2  @EFCJamesLynch @BrutalNz Thanks. Puts a bit mo...   \n3  @redleg1066 @Bonderant2 @shipwreckedcrew Trump...   \n4  Dan Pena predict Donald Trump 2024 election wi...   \n\n                                                user  \n0  {'id': 1087605901417156608, 'id_str': '1087605...  \n1  {'id': 1579037977354727425, 'id_str': '1579037...  \n2  {'id': 1232939726396542977, 'id_str': '1232939...  \n3  {'id': 3269133127, 'id_str': '3269133127', 'ur...  \n4  {'id': 1487411247024848901, 'id_str': '1487411...  ",
      "text/html": "<div>\n<style scoped>\n    .dataframe tbody tr th:only-of-type {\n        vertical-align: middle;\n    }\n\n    .dataframe tbody tr th {\n        vertical-align: top;\n    }\n\n    .dataframe thead th {\n        text-align: right;\n    }\n</style>\n<table border=\"1\" class=\"dataframe\">\n  <thead>\n    <tr style=\"text-align: right;\">\n      <th></th>\n      <th>text</th>\n      <th>user</th>\n    </tr>\n  </thead>\n  <tbody>\n    <tr>\n      <th>0</th>\n      <td>@FoxNews You’re running a crooked GOP candidat...</td>\n      <td>{'id': 1087605901417156608, 'id_str': '1087605...</td>\n    </tr>\n    <tr>\n      <th>1</th>\n      <td>@TheBadgerCzar @BubblegumOut @jaybleft All qui...</td>\n      <td>{'id': 1579037977354727425, 'id_str': '1579037...</td>\n    </tr>\n    <tr>\n      <th>2</th>\n      <td>@EFCJamesLynch @BrutalNz Thanks. Puts a bit mo...</td>\n      <td>{'id': 1232939726396542977, 'id_str': '1232939...</td>\n    </tr>\n    <tr>\n      <th>3</th>\n      <td>@redleg1066 @Bonderant2 @shipwreckedcrew Trump...</td>\n      <td>{'id': 3269133127, 'id_str': '3269133127', 'ur...</td>\n    </tr>\n    <tr>\n      <th>4</th>\n      <td>Dan Pena predict Donald Trump 2024 election wi...</td>\n      <td>{'id': 1487411247024848901, 'id_str': '1487411...</td>\n    </tr>\n  </tbody>\n</table>\n</div>"
     },
     "metadata": {},
     "output_type": "display_data"
    },
    {
     "data": {
      "text/plain": "                                                text  \\\n0  @UHN_Plus Lo malo es que luego la admi istraci...   \n1  @RossKneeDeep Because they legitimately care a...   \n2  @JazzyJa78308052 @marklevinshow Christ?...you ...   \n3  @realDonaldTrump will always be my president. ...   \n4                            @MSNBC Where is Biden 🤔   \n\n                                                user  \n0  {'id': 1434722499053379586, 'id_str': '1434722...  \n1  {'id': 1615180209422041092, 'id_str': '1615180...  \n2  {'id': 31494130, 'id_str': '31494130', 'url': ...  \n3  {'id': 899742746688278528, 'id_str': '89974274...  \n4  {'id': 1688299498903044096, 'id_str': '1688299...  ",
      "text/html": "<div>\n<style scoped>\n    .dataframe tbody tr th:only-of-type {\n        vertical-align: middle;\n    }\n\n    .dataframe tbody tr th {\n        vertical-align: top;\n    }\n\n    .dataframe thead th {\n        text-align: right;\n    }\n</style>\n<table border=\"1\" class=\"dataframe\">\n  <thead>\n    <tr style=\"text-align: right;\">\n      <th></th>\n      <th>text</th>\n      <th>user</th>\n    </tr>\n  </thead>\n  <tbody>\n    <tr>\n      <th>0</th>\n      <td>@UHN_Plus Lo malo es que luego la admi istraci...</td>\n      <td>{'id': 1434722499053379586, 'id_str': '1434722...</td>\n    </tr>\n    <tr>\n      <th>1</th>\n      <td>@RossKneeDeep Because they legitimately care a...</td>\n      <td>{'id': 1615180209422041092, 'id_str': '1615180...</td>\n    </tr>\n    <tr>\n      <th>2</th>\n      <td>@JazzyJa78308052 @marklevinshow Christ?...you ...</td>\n      <td>{'id': 31494130, 'id_str': '31494130', 'url': ...</td>\n    </tr>\n    <tr>\n      <th>3</th>\n      <td>@realDonaldTrump will always be my president. ...</td>\n      <td>{'id': 899742746688278528, 'id_str': '89974274...</td>\n    </tr>\n    <tr>\n      <th>4</th>\n      <td>@MSNBC Where is Biden 🤔</td>\n      <td>{'id': 1688299498903044096, 'id_str': '1688299...</td>\n    </tr>\n  </tbody>\n</table>\n</div>"
     },
     "metadata": {},
     "output_type": "display_data"
    },
    {
     "data": {
      "text/plain": "                                                text  \\\n0  @ndelriego Actually you should have respected ...   \n1  @TheGrayRider @Eb67735B @KidRocker76 @TomaisMa...   \n2  After #SCOTUS ruled presidents can't be charge...   \n3              @PunchingCat Donald Trump? Is it you?   \n4                          We are trying not to 🤬🤬🤬🤬   \n\n                                                user  \n0  {'id': 1809634223256682496, 'id_str': '1809634...  \n1  {'id': 1818287928747163648, 'id_str': '1818287...  \n2  {'id': 1603804200336498688, 'id_str': '1603804...  \n3  {'id': 717874436, 'id_str': '717874436', 'url'...  \n4  {'id': 1920840390, 'id_str': '1920840390', 'ur...  ",
      "text/html": "<div>\n<style scoped>\n    .dataframe tbody tr th:only-of-type {\n        vertical-align: middle;\n    }\n\n    .dataframe tbody tr th {\n        vertical-align: top;\n    }\n\n    .dataframe thead th {\n        text-align: right;\n    }\n</style>\n<table border=\"1\" class=\"dataframe\">\n  <thead>\n    <tr style=\"text-align: right;\">\n      <th></th>\n      <th>text</th>\n      <th>user</th>\n    </tr>\n  </thead>\n  <tbody>\n    <tr>\n      <th>0</th>\n      <td>@ndelriego Actually you should have respected ...</td>\n      <td>{'id': 1809634223256682496, 'id_str': '1809634...</td>\n    </tr>\n    <tr>\n      <th>1</th>\n      <td>@TheGrayRider @Eb67735B @KidRocker76 @TomaisMa...</td>\n      <td>{'id': 1818287928747163648, 'id_str': '1818287...</td>\n    </tr>\n    <tr>\n      <th>2</th>\n      <td>After #SCOTUS ruled presidents can't be charge...</td>\n      <td>{'id': 1603804200336498688, 'id_str': '1603804...</td>\n    </tr>\n    <tr>\n      <th>3</th>\n      <td>@PunchingCat Donald Trump? Is it you?</td>\n      <td>{'id': 717874436, 'id_str': '717874436', 'url'...</td>\n    </tr>\n    <tr>\n      <th>4</th>\n      <td>We are trying not to 🤬🤬🤬🤬</td>\n      <td>{'id': 1920840390, 'id_str': '1920840390', 'ur...</td>\n    </tr>\n  </tbody>\n</table>\n</div>"
     },
     "metadata": {},
     "output_type": "display_data"
    },
    {
     "data": {
      "text/plain": "                                                text  \\\n0  Barack Obama Congratulates Donald Trump, Break...   \n1  @ivankatrumpo Yes\\nIn far does that try to kil...   \n2  Over time, Southern whites increasingly shifte...   \n3  This led to a \"Southern Strategy,\" where the R...   \n4  @MarioNawfal A new coalition, a new Republican...   \n\n                                                user  \n0  {'id': 2262532860, 'id_str': '2262532860', 'ur...  \n1  {'id': 1591147489763131392, 'id_str': '1591147...  \n2  {'id': 1507777504370593795, 'id_str': '1507777...  \n3  {'id': 1507777504370593795, 'id_str': '1507777...  \n4  {'id': 1831664841976688640, 'id_str': '1831664...  ",
      "text/html": "<div>\n<style scoped>\n    .dataframe tbody tr th:only-of-type {\n        vertical-align: middle;\n    }\n\n    .dataframe tbody tr th {\n        vertical-align: top;\n    }\n\n    .dataframe thead th {\n        text-align: right;\n    }\n</style>\n<table border=\"1\" class=\"dataframe\">\n  <thead>\n    <tr style=\"text-align: right;\">\n      <th></th>\n      <th>text</th>\n      <th>user</th>\n    </tr>\n  </thead>\n  <tbody>\n    <tr>\n      <th>0</th>\n      <td>Barack Obama Congratulates Donald Trump, Break...</td>\n      <td>{'id': 2262532860, 'id_str': '2262532860', 'ur...</td>\n    </tr>\n    <tr>\n      <th>1</th>\n      <td>@ivankatrumpo Yes\\nIn far does that try to kil...</td>\n      <td>{'id': 1591147489763131392, 'id_str': '1591147...</td>\n    </tr>\n    <tr>\n      <th>2</th>\n      <td>Over time, Southern whites increasingly shifte...</td>\n      <td>{'id': 1507777504370593795, 'id_str': '1507777...</td>\n    </tr>\n    <tr>\n      <th>3</th>\n      <td>This led to a \"Southern Strategy,\" where the R...</td>\n      <td>{'id': 1507777504370593795, 'id_str': '1507777...</td>\n    </tr>\n    <tr>\n      <th>4</th>\n      <td>@MarioNawfal A new coalition, a new Republican...</td>\n      <td>{'id': 1831664841976688640, 'id_str': '1831664...</td>\n    </tr>\n  </tbody>\n</table>\n</div>"
     },
     "metadata": {},
     "output_type": "display_data"
    }
   ],
   "source": [
    "display(df_aug_relevant.head())\n",
    "display(df_sept_relevant.head())\n",
    "display(df_oct_relevant.head())\n",
    "display(df_nov_relevant.head())"
   ],
   "metadata": {
    "collapsed": false,
    "ExecuteTime": {
     "end_time": "2025-04-19T00:45:06.894740100Z",
     "start_time": "2025-04-19T00:45:06.851501300Z"
    }
   },
   "id": "bf6377fa1319adb1"
  },
  {
   "cell_type": "markdown",
   "source": [
    "## Getting Tensors (tweet embeddings, metadata)"
   ],
   "metadata": {
    "collapsed": false
   },
   "id": "2ff369e980f866bd"
  },
  {
   "cell_type": "code",
   "execution_count": 151,
   "outputs": [],
   "source": [
    "def process_data(df):\n",
    "    # Getting user info from user col\n",
    "    relevant = df.copy()\n",
    "    relevant['user'] = relevant['user'].astype(str)\n",
    "\n",
    "    relevant['user_dict'] = relevant['user'].apply(process_user_info)\n",
    "\n",
    "    relevant['followers_count'] = relevant['user_dict'].apply(get_followers)\n",
    "\n",
    "    relevant['friends_count'] = relevant['user_dict'].apply(get_friends)\n",
    "\n",
    "    relevant['favourites_count'] = relevant['user_dict'].apply(get_favorites)\n",
    "\n",
    "    relevant['listed_count'] = relevant['user_dict'].apply(get_listed)\n",
    "\n",
    "    relevant['verified'] = relevant['user_dict'].apply(get_verified)\n",
    "\n",
    "    # Getting Correct Data Types\n",
    "    relevant['verified'] = relevant['verified'].astype(str)\n",
    "    relevant['text'] = relevant['text'].astype(str)\n",
    "\n",
    "    relevant['verified'] = relevant['verified'].apply(encode_verified)\n",
    "\n",
    "    # Dropping unused columns\n",
    "    relevant = relevant.drop(columns = ['user', 'user_dict'])\n",
    "\n",
    "    # Tokenizing and Gtting glove embeddings for tweets\n",
    "    tweets_df = relevant.copy()\n",
    "\n",
    "    # Loading Glove Embeddings\n",
    "    glove_embeddings = load_glove_embeddings('../Data/glove.6B.200d.txt')\n",
    "\n",
    "    # Apply embedding to the 'Text' column\n",
    "    tweets_df['glove_emb'] = tweets_df['text'].apply(lambda x: embed_text(x, glove_embeddings))\n",
    "\n",
    "    embedding_list = np.vstack(tweets_df['glove_emb'].values)\n",
    "\n",
    "    # EMBEDDINGS TENSOR\n",
    "    tweet_glove_embeddings = torch.tensor(embedding_list)\n",
    "\n",
    "    # METADATA TENSOR\n",
    "    df_num_cat = relevant.copy()\n",
    "    df_num_cat = df_num_cat.drop(columns = ['text'])\n",
    "\n",
    "    metadata_tensor = torch.tensor(df_num_cat.values)\n",
    "\n",
    "    return tweet_glove_embeddings, metadata_tensor"
   ],
   "metadata": {
    "collapsed": false,
    "ExecuteTime": {
     "end_time": "2025-04-19T00:45:32.693366300Z",
     "start_time": "2025-04-19T00:45:32.669113100Z"
    }
   },
   "id": "2210cc2a91e22782"
  },
  {
   "cell_type": "code",
   "execution_count": 156,
   "outputs": [],
   "source": [
    "aug_tweet_embeddings, aug_metadata = process_data(df_aug_relevant)\n",
    "sept_tweet_embeddings, sept_metadata = process_data(df_sept_relevant)\n",
    "oct_tweet_embeddings, oct_metadata = process_data(df_oct_relevant)\n",
    "nov_tweet_embeddings, nov_metadata = process_data(df_nov_relevant)"
   ],
   "metadata": {
    "collapsed": false,
    "ExecuteTime": {
     "end_time": "2025-04-19T00:52:46.032697700Z",
     "start_time": "2025-04-19T00:48:07.848054500Z"
    }
   },
   "id": "112c611d2ad359e4"
  },
  {
   "cell_type": "code",
   "execution_count": 157,
   "outputs": [
    {
     "name": "stdout",
     "output_type": "stream",
     "text": [
      "torch.Size([150000, 200]) torch.Size([150000, 5])\n",
      "torch.Size([150000, 200]) torch.Size([150000, 5])\n",
      "torch.Size([150000, 200]) torch.Size([150000, 5])\n",
      "torch.Size([150000, 200]) torch.Size([150000, 5])\n"
     ]
    }
   ],
   "source": [
    "print(aug_tweet_embeddings.shape, aug_metadata.shape)\n",
    "print(sept_tweet_embeddings.shape, sept_metadata.shape)\n",
    "print(oct_tweet_embeddings.shape, oct_metadata.shape)\n",
    "print(nov_tweet_embeddings.shape, nov_metadata.shape)"
   ],
   "metadata": {
    "collapsed": false,
    "ExecuteTime": {
     "end_time": "2025-04-19T01:04:25.218876700Z",
     "start_time": "2025-04-19T01:04:25.195052300Z"
    }
   },
   "id": "eb03b3c1567f19a3"
  },
  {
   "cell_type": "markdown",
   "source": [
    "## Save Embeddings"
   ],
   "metadata": {
    "collapsed": false
   },
   "id": "ea8bc1c79ab1394a"
  },
  {
   "cell_type": "code",
   "execution_count": 158,
   "outputs": [
    {
     "name": "stdout",
     "output_type": "stream",
     "text": [
      "Directory already exists: ../Data/Processed_Data\n"
     ]
    }
   ],
   "source": [
    "newpath = r\"../Data/Processed_Data\"\n",
    "\n",
    "if not os.path.exists(newpath):\n",
    "    os.makedirs(newpath) \n",
    "    print(f\"Directory created: {newpath}\")\n",
    "else:\n",
    "    print(f\"Directory already exists: {newpath}\")"
   ],
   "metadata": {
    "collapsed": false,
    "ExecuteTime": {
     "end_time": "2025-04-19T01:04:32.343699600Z",
     "start_time": "2025-04-19T01:04:32.323610700Z"
    }
   },
   "id": "bfa5bd09cd17cb57"
  },
  {
   "cell_type": "code",
   "execution_count": 159,
   "outputs": [],
   "source": [
    "# Saving tensors to files\n",
    "torch.save(aug_tweet_embeddings, '../Data/Processed_Data/aug_elections_tweet_emb.pth')\n",
    "torch.save(sept_tweet_embeddings, '../Data/Processed_Data/sept_elections_tweet_emb.pth')\n",
    "torch.save(oct_tweet_embeddings, '../Data/Processed_Data/oct_elections_tweet_emb.pth')\n",
    "torch.save(nov_tweet_embeddings, '../Data/Processed_Data/nov_elections_tweet_emb.pth')\n",
    "\n",
    "torch.save(aug_metadata, '../Data/Processed_Data/aug_elections_metadata.pth')\n",
    "torch.save(sept_metadata, '../Data/Processed_Data/sept_elections_metadata.pth')\n",
    "torch.save(oct_metadata, '../Data/Processed_Data/oct_elections_metadata.pth')\n",
    "torch.save(nov_metadata, '../Data/Processed_Data/nov_elections_metadata.pth')"
   ],
   "metadata": {
    "collapsed": false,
    "ExecuteTime": {
     "end_time": "2025-04-19T01:07:02.967003600Z",
     "start_time": "2025-04-19T01:07:01.561787400Z"
    }
   },
   "id": "8ce709f3f0bef068"
  }
 ],
 "metadata": {
  "kernelspec": {
   "display_name": "Python 3 (ipykernel)",
   "language": "python",
   "name": "python3"
  },
  "language_info": {
   "codemirror_mode": {
    "name": "ipython",
    "version": 3
   },
   "file_extension": ".py",
   "mimetype": "text/x-python",
   "name": "python",
   "nbconvert_exporter": "python",
   "pygments_lexer": "ipython3",
   "version": "3.11.5"
  }
 },
 "nbformat": 4,
 "nbformat_minor": 5
}

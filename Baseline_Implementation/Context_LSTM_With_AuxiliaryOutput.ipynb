{
 "cells": [
  {
   "cell_type": "markdown",
   "source": [
    "CS 7643 Project\n",
    "\n",
    "Georgia Institute of Technology\n",
    "\n",
    "Author: Carmen Yu"
   ],
   "metadata": {
    "collapsed": false
   },
   "id": "578cf9556b880bb4"
  },
  {
   "cell_type": "markdown",
   "id": "ba14b2f1f6e05817",
   "metadata": {},
   "source": [
    "# Baseline Implementation\n",
    "Based on “Deep Neural Networks for Bot Detection” paper by Kudugunta et al. which uses a Contextual LSTM (200D GloVE) model. Our goal is to match the following performance metric scores reported on “TwiBot-20 A Comprehensive Twitter Bot Detection Benchmark” by Feng et al. paper for this model. Our scores are as follows:\n",
    "1. ACC = 82.9513\n",
    "2. F1 = 84.0390\n",
    "3. MCC = 65.9867 "
   ]
  },
  {
   "cell_type": "markdown",
   "id": "bb7b5605",
   "metadata": {},
   "source": [
    "## Imports"
   ]
  },
  {
   "cell_type": "code",
   "execution_count": 1,
   "id": "9333d8db",
   "metadata": {
    "ExecuteTime": {
     "end_time": "2025-03-29T20:08:25.158253700Z",
     "start_time": "2025-03-29T20:08:24.835247800Z"
    }
   },
   "outputs": [],
   "source": [
    "import torch\n",
    "import torch.nn as nn\n",
    "import torch.optim as optim\n",
    "from torch.utils.data import DataLoader, TensorDataset"
   ]
  },
  {
   "cell_type": "code",
   "execution_count": 26,
   "outputs": [
    {
     "data": {
      "text/plain": [
       "device(type='cuda')"
      ]
     },
     "execution_count": 26,
     "metadata": {},
     "output_type": "execute_result"
    }
   ],
   "source": [
    "# if training on GPU\n",
    "device = torch.device(\"cuda\" if torch.cuda.is_available() else \"cpu\")\n",
    "device"
   ],
   "metadata": {
    "collapsed": false
   },
   "id": "384c5713"
  },
  {
   "cell_type": "markdown",
   "id": "0b52c301",
   "metadata": {},
   "source": [
    "## Loading Data (Test, Train, Validate)"
   ]
  },
  {
   "cell_type": "code",
   "execution_count": 2,
   "id": "7feec608",
   "metadata": {
    "ExecuteTime": {
     "end_time": "2025-03-29T20:08:28.107869600Z",
     "start_time": "2025-03-29T20:08:24.884578400Z"
    }
   },
   "outputs": [],
   "source": [
    "# User Metadata\n",
    "train_metadata = torch.load(\"../Data/Processed_Data/train_metadata_tensor.pth\")\n",
    "test_metadata = torch.load(\"../Data/Processed_Data/test_metadata_tensor.pth\")\n",
    "validate_metadata = torch.load(\"../Data/Processed_Data/validate_metadata_tensor.pth\")\n",
    "\n",
    "# Tweets Data\n",
    "train_tweets = torch.load(\"../Data/Processed_Data/train_tweet_emb_tensor.pth\")\n",
    "test_tweets = torch.load(\"../Data/Processed_Data/test_tweet_emb_tensor.pth\")\n",
    "validate_tweets = torch.load(\"../Data/Processed_Data/validate_tweet_emb_tensor.pth\")\n",
    "\n",
    "# Labels\n",
    "train_labels = torch.load(\"../Data/Processed_Data/train_label_tensor.pth\")\n",
    "test_labels = torch.load(\"../Data/Processed_Data/test_label_tensor.pth\")\n",
    "validate_labels = torch.load(\"../Data/Processed_Data/validate_label_tensor.pth\")"
   ]
  },
  {
   "cell_type": "code",
   "execution_count": 3,
   "id": "6db83c63",
   "metadata": {
    "ExecuteTime": {
     "end_time": "2025-03-29T20:08:28.165371800Z",
     "start_time": "2025-03-29T20:08:28.098131900Z"
    }
   },
   "outputs": [
    {
     "name": "stdout",
     "output_type": "stream",
     "text": [
      "torch.Size([1398465, 200])\n",
      "torch.Size([199863, 200])\n",
      "torch.Size([401540, 200])\n"
     ]
    }
   ],
   "source": [
    "print(train_tweets.shape)\n",
    "print(test_tweets.shape)\n",
    "print(validate_tweets.shape)"
   ]
  },
  {
   "cell_type": "code",
   "execution_count": 4,
   "id": "f3c25343",
   "metadata": {},
   "outputs": [
    {
     "data": {
      "text/plain": [
       "<torch._C.Generator at 0x2976c160630>"
      ]
     },
     "execution_count": 4,
     "metadata": {},
     "output_type": "execute_result"
    }
   ],
   "source": [
    "# For Reproducability\n",
    "seed = 42\n",
    "torch.manual_seed(seed)"
   ]
  },
  {
   "cell_type": "code",
   "execution_count": 5,
   "id": "19b3e5ce",
   "metadata": {},
   "outputs": [
    {
     "name": "stdout",
     "output_type": "stream",
     "text": [
      "torch.Size([641831])\n",
      "torch.Size([756634])\n",
      "torch.Size([349616])\n",
      "torch.Size([349616])\n"
     ]
    }
   ],
   "source": [
    "# Using only 50% of training for time constraints\n",
    "num_samples = int(train_tweets.shape[0] * 0.5) // 2\n",
    "\n",
    "class_0_indices = torch.nonzero(train_labels == 0).squeeze()\n",
    "class_1_indices = torch.nonzero(train_labels == 1).squeeze()\n",
    "\n",
    "print(class_0_indices.shape)\n",
    "print(class_1_indices.shape)\n",
    "\n",
    "# Shuffle the indices using torch.randperm\n",
    "shuffled_class_0_indices = class_0_indices[torch.randperm(class_0_indices.size(0))]\n",
    "shuffled_class_1_indices = class_1_indices[torch.randperm(class_1_indices.size(0))]\n",
    "\n",
    "# Select an equal number of samples from each class\n",
    "class_0_sampled_indices = shuffled_class_0_indices[:num_samples]\n",
    "class_1_sampled_indices = shuffled_class_1_indices[:num_samples]\n",
    "\n",
    "print(class_0_sampled_indices.shape)\n",
    "print(class_1_sampled_indices.shape)\n",
    "\n",
    "# Combine the selected indices for a balanced dataset\n",
    "balanced_indices = torch.cat((class_0_sampled_indices, class_1_sampled_indices))"
   ]
  },
  {
   "cell_type": "code",
   "execution_count": 6,
   "id": "599e6c69",
   "metadata": {
    "ExecuteTime": {
     "end_time": "2025-03-29T20:08:29.199543400Z",
     "start_time": "2025-03-29T20:08:28.121957600Z"
    }
   },
   "outputs": [
    {
     "name": "stdout",
     "output_type": "stream",
     "text": [
      "torch.Size([699232, 200])\n"
     ]
    }
   ],
   "source": [
    "train_tweets = train_tweets[balanced_indices]\n",
    "train_metadata = train_metadata[balanced_indices]\n",
    "train_labels = train_labels[balanced_indices]\n",
    "\n",
    "print(train_tweets.shape)"
   ]
  },
  {
   "cell_type": "code",
   "execution_count": 7,
   "id": "16594e92",
   "metadata": {},
   "outputs": [
    {
     "name": "stdout",
     "output_type": "stream",
     "text": [
      "tensor(0.5150)\n",
      "tensor(0.4850)\n"
     ]
    }
   ],
   "source": [
    "print((test_labels == True).sum() / test_labels.shape[0])\n",
    "print((test_labels == False).sum() / test_labels.shape[0])"
   ]
  },
  {
   "cell_type": "code",
   "execution_count": 8,
   "id": "846d2891",
   "metadata": {},
   "outputs": [
    {
     "name": "stdout",
     "output_type": "stream",
     "text": [
      "tensor(0.5000)\n",
      "tensor(0.5000)\n"
     ]
    }
   ],
   "source": [
    "print((train_labels == True).sum() / train_labels.shape[0])\n",
    "print((train_labels == False).sum() / train_labels.shape[0])"
   ]
  },
  {
   "cell_type": "markdown",
   "id": "6a327619",
   "metadata": {},
   "source": [
    "\n",
    "## Passing tweets through LSTM"
   ]
  },
  {
   "cell_type": "code",
   "execution_count": 9,
   "id": "96cf4293",
   "metadata": {
    "ExecuteTime": {
     "end_time": "2025-03-29T20:08:29.245355500Z",
     "start_time": "2025-03-29T20:08:29.192355100Z"
    }
   },
   "outputs": [],
   "source": [
    "# LSTM Model\n",
    "class LSTMModel(nn.Module):\n",
    "    \n",
    "    def __init__(self, input_size, hidden_size, output_size, num_layers=1):\n",
    "        super(LSTMModel, self).__init__()\n",
    "        \n",
    "        # Define the LSTM layer\n",
    "        self.lstm = nn.LSTM(input_size, hidden_size, num_layers, batch_first=False)\n",
    "        \n",
    "        # Define a fully connected output layer\n",
    "        self.fc = nn.Linear(hidden_size, output_size)\n",
    "        \n",
    "        \n",
    "    def forward(self, x):\n",
    "        # Pass the input through the LSTM layer\n",
    "        lstm_out, (h_n, c_n) = self.lstm(x)\n",
    "        \n",
    "        # Get the output from the last time step\n",
    "        output = self.fc(lstm_out[:, -1, :])  # Only take the last output for prediction\n",
    "        return output"
   ]
  },
  {
   "cell_type": "code",
   "execution_count": 10,
   "id": "c39c0eda",
   "metadata": {
    "ExecuteTime": {
     "end_time": "2025-03-29T20:08:29.391024300Z",
     "start_time": "2025-03-29T20:08:29.220450100Z"
    }
   },
   "outputs": [],
   "source": [
    "# LSTM Model Parameters\n",
    "input_size = 200 # Number of features in input data(200 for 200D embeddings)\n",
    "hidden_size = 50\n",
    "output_size = 32\n",
    "number_layers = 1 # Number of LSTM Layers\n",
    "\n",
    "# Creating LSTM Model\n",
    "lstm_model = LSTMModel(input_size = input_size, hidden_size = hidden_size, output_size = output_size, \n",
    "                      num_layers = number_layers)"
   ]
  },
  {
   "cell_type": "code",
   "execution_count": null,
   "id": "de497f17",
   "metadata": {
    "ExecuteTime": {
     "end_time": "2025-03-29T20:08:35.276191300Z",
     "start_time": "2025-03-29T20:08:29.246351900Z"
    }
   },
   "outputs": [],
   "source": [
    "train_input_data = train_tweets.unsqueeze(1)\n",
    "train_input_data = train_input_data.to(torch.float32).to(device)\n",
    "\n",
    "test_input_data = test_tweets.unsqueeze(1)\n",
    "test_input_data = test_input_data.to(torch.float32)\n",
    "\n",
    "validate_input_data = validate_tweets.unsqueeze(1)\n",
    "validate_input_data = validate_input_data.to(torch.float32)\n",
    "\n",
    "# Getting lstm_output for datasets\n",
    "train_lstm_output = lstm_model(train_input_data)\n",
    "train_lstm_output = train_lstm_output.detach()\n",
    "\n",
    "test_lstm_output = lstm_model(test_input_data)\n",
    "test_lstm_output = test_lstm_output.detach()\n",
    "\n",
    "validate_lstm_output = lstm_model(validate_input_data)\n",
    "validate_lstm_output = validate_lstm_output.detach()"
   ]
  },
  {
   "cell_type": "code",
   "execution_count": 12,
   "id": "53cd2ead",
   "metadata": {
    "ExecuteTime": {
     "end_time": "2025-03-29T20:08:35.301895700Z",
     "start_time": "2025-03-29T20:08:35.281195700Z"
    }
   },
   "outputs": [
    {
     "name": "stdout",
     "output_type": "stream",
     "text": [
      "torch.Size([699232, 32])\n"
     ]
    }
   ],
   "source": [
    "print(train_lstm_output.shape)"
   ]
  },
  {
   "cell_type": "markdown",
   "id": "fe4fb8be",
   "metadata": {},
   "source": [
    "## Set aux output (output from LSTM)"
   ]
  },
  {
   "cell_type": "code",
   "execution_count": 28,
   "id": "ad971ceb",
   "metadata": {},
   "outputs": [],
   "source": [
    "aux_train = train_lstm_output.to(device)\n",
    "aux_test = test_lstm_output.to(device)"
   ]
  },
  {
   "cell_type": "markdown",
   "id": "0016517a",
   "metadata": {},
   "source": [
    "## Concatenating with aux input (user metadata)"
   ]
  },
  {
   "cell_type": "code",
   "execution_count": 27,
   "id": "f4c34093",
   "metadata": {
    "ExecuteTime": {
     "end_time": "2025-03-29T20:08:35.394019800Z",
     "start_time": "2025-03-29T20:08:35.293893200Z"
    }
   },
   "outputs": [],
   "source": [
    "x_train = torch.hstack((train_lstm_output, train_metadata)).to(torch.float32).to(device)\n",
    "\n",
    "x_test = torch.hstack((test_lstm_output, test_metadata)).to(torch.float32).to(device)\n",
    "\n",
    "x_validate = torch.hstack((validate_lstm_output, validate_metadata)).to(torch.float32).to(device)"
   ]
  },
  {
   "cell_type": "code",
   "execution_count": 29,
   "id": "0dc5f66b",
   "metadata": {
    "ExecuteTime": {
     "end_time": "2025-03-29T20:08:35.418039Z",
     "start_time": "2025-03-29T20:08:35.400095700Z"
    }
   },
   "outputs": [],
   "source": [
    "y_train = train_labels.view(-1, 1).to(torch.float32).to(device)\n",
    "\n",
    "y_test = test_labels.view(-1, 1).to(torch.float32).to(device)\n",
    "\n",
    "y_validate = validate_labels.view(-1, 1).to(torch.float32).to(device)"
   ]
  },
  {
   "cell_type": "code",
   "execution_count": 30,
   "id": "cc829a3c",
   "metadata": {
    "ExecuteTime": {
     "end_time": "2025-03-29T20:08:35.442691200Z",
     "start_time": "2025-03-29T20:08:35.413719400Z"
    }
   },
   "outputs": [
    {
     "name": "stdout",
     "output_type": "stream",
     "text": [
      "torch.Size([699232, 37]) torch.Size([699232, 1])\n",
      "torch.Size([199863, 37]) torch.Size([199863, 1])\n",
      "torch.Size([401540, 37]) torch.Size([401540, 1])\n"
     ]
    }
   ],
   "source": [
    "print(x_train.shape, y_train.shape)\n",
    "print(x_test.shape, y_test.shape)\n",
    "print(x_validate.shape, y_validate.shape)"
   ]
  },
  {
   "cell_type": "code",
   "execution_count": 31,
   "id": "6743abae",
   "metadata": {
    "ExecuteTime": {
     "end_time": "2025-03-29T20:08:35.490668900Z",
     "start_time": "2025-03-29T20:08:35.426309600Z"
    }
   },
   "outputs": [
    {
     "data": {
      "text/plain": [
       "tensor([[0.],\n",
       "        [0.],\n",
       "        [0.],\n",
       "        ...,\n",
       "        [1.],\n",
       "        [1.],\n",
       "        [1.]], device='cuda:0')"
      ]
     },
     "execution_count": 31,
     "metadata": {},
     "output_type": "execute_result"
    }
   ],
   "source": [
    "x_train.requires_grad_(False)\n",
    "y_train.requires_grad_(False)"
   ]
  },
  {
   "cell_type": "markdown",
   "id": "60ae5e19",
   "metadata": {},
   "source": [
    "## Creating Neural Network"
   ]
  },
  {
   "cell_type": "code",
   "execution_count": 32,
   "id": "ef0a6065",
   "metadata": {
    "ExecuteTime": {
     "end_time": "2025-03-29T20:08:35.491653300Z",
     "start_time": "2025-03-29T20:08:35.457025Z"
    }
   },
   "outputs": [],
   "source": [
    "class NeuralNetwork(nn.Module):\n",
    "    \n",
    "    def __init__(self, input_size, hidden_size, output_size, aux_input_size):\n",
    "        super(NeuralNetwork, self).__init__()\n",
    "        self.fc1 = nn.Linear(input_size, hidden_size)  # First fully connected layer\n",
    "        self.fc2 = nn.Linear(hidden_size, output_size)  # Second fully connected layer\n",
    "\n",
    "        # layers for aux output\n",
    "        self.fc1_aux = nn.Linear(aux_input_size, hidden_size)\n",
    "        self.fc2_aux = nn.Linear(hidden_size, output_size)\n",
    "        \n",
    "        \n",
    "    def forward(self, x, aux):\n",
    "        x = torch.relu(self.fc1(x))  # Apply ReLU activation after the first layer\n",
    "        x = self.fc2(x)  # Output layer\n",
    "\n",
    "        aux = torch.relu(self.fc1_aux((aux)))\n",
    "        aux = self.fc2_aux(aux)\n",
    "\n",
    "        return x, aux"
   ]
  },
  {
   "cell_type": "code",
   "execution_count": 44,
   "id": "02de3bae",
   "metadata": {
    "ExecuteTime": {
     "end_time": "2025-03-29T20:30:55.691292Z",
     "start_time": "2025-03-29T20:30:55.684281Z"
    }
   },
   "outputs": [],
   "source": [
    "# Network Parameters\n",
    "input_size = 37 #40  # Number of input features (tweet embeddings + metadata)\n",
    "hidden_size = 128  # Number of hidden units in the first fully connected layer\n",
    "output_size = 1  # Output size (binary classification: 1 output)\n",
    "batch_size = 64  # Batch size for training\n",
    "aux_input_size = 32 # Number of input features for aux output"
   ]
  },
  {
   "cell_type": "code",
   "execution_count": 45,
   "id": "eb299dc6",
   "metadata": {
    "ExecuteTime": {
     "end_time": "2025-03-29T20:30:56.813146300Z",
     "start_time": "2025-03-29T20:30:56.802580500Z"
    }
   },
   "outputs": [],
   "source": [
    "# Creating dataloader\n",
    "dataset = TensorDataset(x_train, aux_train, y_train)\n",
    "dataloader = DataLoader(dataset, batch_size=batch_size, shuffle=True)"
   ]
  },
  {
   "cell_type": "code",
   "execution_count": 46,
   "id": "25672dac",
   "metadata": {
    "ExecuteTime": {
     "end_time": "2025-03-29T20:30:57.937658400Z",
     "start_time": "2025-03-29T20:30:57.929123700Z"
    }
   },
   "outputs": [],
   "source": [
    "# Initialize mode, loss function, and optimizer\n",
    "model = NeuralNetwork(input_size, hidden_size, output_size, aux_input_size)\n",
    "model.to(device)\n",
    "criterion = nn.BCEWithLogitsLoss()  # Binary Cross Entropy with logits\n",
    "optimizer = optim.Adam(model.parameters(), lr=0.0001)  "
   ]
  },
  {
   "cell_type": "code",
   "execution_count": null,
   "id": "52005af5",
   "metadata": {
    "ExecuteTime": {
     "end_time": "2025-03-29T20:32:55.923284400Z",
     "start_time": "2025-03-29T20:30:59.732531200Z"
    },
    "scrolled": false
   },
   "outputs": [
    {
     "name": "stdout",
     "output_type": "stream",
     "text": [
      "Epoch [1/15], Loss: 61.3112\n",
      "Epoch [2/15], Loss: 36.1531\n",
      "Epoch [3/15], Loss: 33.5535\n",
      "Epoch [4/15], Loss: 32.9373\n",
      "Epoch [5/15], Loss: 31.2158\n",
      "Epoch [6/15], Loss: 32.0792\n",
      "Epoch [7/15], Loss: 32.8778\n",
      "Epoch [8/15], Loss: 32.8107\n",
      "Epoch [9/15], Loss: 30.8312\n",
      "Epoch [10/15], Loss: 28.7027\n",
      "Epoch [11/15], Loss: 29.0252\n",
      "Epoch [12/15], Loss: 25.7905\n",
      "Epoch [13/15], Loss: 30.2366\n",
      "Epoch [14/15], Loss: 26.7204\n",
      "Epoch [15/15], Loss: 24.8851\n"
     ]
    }
   ],
   "source": [
    "# Training model\n",
    "num_epochs = 15  # Number of epochs to train\n",
    "\n",
    "for epoch in range(num_epochs):\n",
    "    model.train()  # Set the model to training mode\n",
    "    running_loss = 0.0\n",
    "    \n",
    "    for inputs, aux_inputs, labels in dataloader:\n",
    "        # Zero the gradients\n",
    "        optimizer.zero_grad()\n",
    "        \n",
    "        # Forward pass\n",
    "        outputs, aux_outputs = model(inputs, aux_inputs)\n",
    "        \n",
    "        # Compute individual loss\n",
    "        loss = criterion(outputs, labels)\n",
    "        aux_loss = criterion(aux_outputs, labels)\n",
    "\n",
    "        # Total loss\n",
    "        total_loss = 0.8* loss + 0.2*aux_loss\n",
    "        \n",
    "        # Backward pass and optimization\n",
    "        total_loss.backward()\n",
    "        optimizer.step()\n",
    "        \n",
    "        running_loss += loss.item()\n",
    "    \n",
    "    avg_loss = running_loss / len(dataloader)\n",
    "    print(f\"Epoch [{epoch+1}/{num_epochs}], Loss: {avg_loss:.4f}\")"
   ]
  },
  {
   "cell_type": "markdown",
   "id": "9457eae0",
   "metadata": {},
   "source": [
    "## Metrics"
   ]
  },
  {
   "cell_type": "code",
   "execution_count": 48,
   "id": "b3a9e219",
   "metadata": {
    "ExecuteTime": {
     "end_time": "2025-03-29T20:33:43.741684100Z",
     "start_time": "2025-03-29T20:33:43.703455Z"
    }
   },
   "outputs": [
    {
     "name": "stdout",
     "output_type": "stream",
     "text": [
      "Predictions: tensor([[1.],\n",
      "        [1.],\n",
      "        [1.],\n",
      "        ...,\n",
      "        [1.],\n",
      "        [1.],\n",
      "        [1.]], device='cuda:0')\n"
     ]
    }
   ],
   "source": [
    "# Set the model to evaluation mode \n",
    "model.eval()\n",
    "\n",
    "# Make predictions\n",
    "with torch.no_grad():  # Disable gradient calculation to save memory and computations\n",
    "    predictions_main, predictions_aux = model(x_test, aux_test)\n",
    "    \n",
    "predictions_binary = (predictions_main > 0).float()\n",
    "print(\"Predictions:\", predictions_binary)"
   ]
  },
  {
   "cell_type": "code",
   "execution_count": 49,
   "id": "074e70e6",
   "metadata": {
    "ExecuteTime": {
     "end_time": "2025-03-29T20:33:45.790619400Z",
     "start_time": "2025-03-29T20:33:45.766213800Z"
    }
   },
   "outputs": [],
   "source": [
    "# Function to calculate TP, FP, TN, FN\n",
    "def calculate_confusion_values(y_true, y_pred):\n",
    "    \"\"\"\n",
    "    Calculate TP, FP, TN, FN for binary classification.\n",
    "    \n",
    "    Args:\n",
    "        y_true (tensor): Ground truth labels.\n",
    "        y_pred (tensor): Predicted labels.\n",
    "        \n",
    "    Returns:\n",
    "        tuple: (TP, FP, TN, FN)\n",
    "    \"\"\"\n",
    "    TP = ((y_true == 1) & (y_pred == 1)).sum().item()  # True Positive: True labels are 1, Predicted labels are 1\n",
    "    FP = ((y_true == 0) & (y_pred == 1)).sum().item()  # False Positive: True labels are 0, Predicted labels are 1\n",
    "    TN = ((y_true == 0) & (y_pred == 0)).sum().item()  # True Negative: True labels are 0, Predicted labels are 0\n",
    "    FN = ((y_true == 1) & (y_pred == 0)).sum().item()  # False Negative: True labels are 1, Predicted labels are 0\n",
    "    \n",
    "    return TP, FP, TN, FN"
   ]
  },
  {
   "cell_type": "code",
   "execution_count": 40,
   "id": "d10f8317",
   "metadata": {
    "ExecuteTime": {
     "end_time": "2025-03-29T20:33:48.135562100Z",
     "start_time": "2025-03-29T20:33:48.119039800Z"
    }
   },
   "outputs": [],
   "source": [
    "TP, FP, TN, FN = calculate_confusion_values(y_test, predictions_binary)"
   ]
  },
  {
   "cell_type": "code",
   "execution_count": 54,
   "id": "edc80754",
   "metadata": {
    "ExecuteTime": {
     "end_time": "2025-03-29T20:33:50.325264Z",
     "start_time": "2025-03-29T20:33:50.319777800Z"
    }
   },
   "outputs": [
    {
     "name": "stdout",
     "output_type": "stream",
     "text": [
      "Accuracy: 82.9513216553339\n",
      "F1-Score 84.039084896292\n",
      "MCC Score: 65.9867112059793\n"
     ]
    }
   ],
   "source": [
    "# Accuracy\n",
    "accuracy = (TP + TN) / (TP + FP + TN + FN) * 100.0\n",
    "print(\"Accuracy:\", accuracy)\n",
    "\n",
    "# F1\n",
    "f1_score = TP / (TP + 0.5 * (FP + FN)) * 100.0\n",
    "print(\"F1-Score\", f1_score)\n",
    "\n",
    "# MCC\n",
    "mcc_score = ((TP * TN) - (FP * FN)) / (((TP +FP) * (TP + FN) * (TN + FP) * (TN + FN)) ** 0.5) * 100.0\n",
    "\n",
    "print(\"MCC Score:\", mcc_score)"
   ]
  },
  {
   "cell_type": "code",
   "execution_count": 52,
   "id": "52507863",
   "metadata": {
    "ExecuteTime": {
     "end_time": "2025-03-29T20:33:52.252911100Z",
     "start_time": "2025-03-29T20:33:52.215412400Z"
    }
   },
   "outputs": [
    {
     "name": "stdout",
     "output_type": "stream",
     "text": [
      "194148\n"
     ]
    }
   ],
   "source": [
    "print(len(predictions_main.unique()))"
   ]
  },
  {
   "cell_type": "code",
   "execution_count": 55,
   "id": "61ab09b4",
   "metadata": {
    "ExecuteTime": {
     "end_time": "2025-03-29T20:33:53.719170300Z",
     "start_time": "2025-03-29T20:33:53.713133400Z"
    }
   },
   "outputs": [
    {
     "name": "stdout",
     "output_type": "stream",
     "text": [
      "89705 20846 76084 13228\n"
     ]
    }
   ],
   "source": [
    "print(TP, FP, TN, FN)"
   ]
  }
 ],
 "metadata": {
  "kernelspec": {
   "display_name": "bot-detector",
   "language": "python",
   "name": "python3"
  },
  "language_info": {
   "codemirror_mode": {
    "name": "ipython",
    "version": 3
   },
   "file_extension": ".py",
   "mimetype": "text/x-python",
   "name": "python",
   "nbconvert_exporter": "python",
   "pygments_lexer": "ipython3",
   "version": "3.12.9"
  }
 },
 "nbformat": 4,
 "nbformat_minor": 5
}

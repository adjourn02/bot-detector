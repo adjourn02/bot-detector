{
 "cells": [
  {
   "cell_type": "markdown",
   "id": "bb7b5605",
   "metadata": {},
   "source": [
    "# Imports"
   ]
  },
  {
   "cell_type": "code",
   "execution_count": 1,
   "id": "9333d8db",
   "metadata": {},
   "outputs": [],
   "source": [
    "import pandas as pd\n",
    "import torch\n",
    "import torch.nn as nn\n",
    "import torch.optim as optim\n",
    "from torch.utils.data import Dataset, DataLoader, TensorDataset\n",
    "import numpy as np"
   ]
  },
  {
   "cell_type": "markdown",
   "id": "0b52c301",
   "metadata": {},
   "source": [
    "# Loading Data (Test, Train, Validate)"
   ]
  },
  {
   "cell_type": "code",
   "execution_count": 2,
   "id": "7feec608",
   "metadata": {},
   "outputs": [],
   "source": [
    "\n",
    "# User Metadata\n",
    "train_metadata = torch.load(\"../Data/Processed_Data/train_metadata_tensor.pth\")\n",
    "test_metadata = torch.load(\"../Data/Processed_Data/test_metadata_tensor.pth\")\n",
    "validate_metadata = torch.load(\"../Data/Processed_Data/validate_metadata_tensor.pth\")\n",
    "\n",
    "# Tweets Data\n",
    "train_tweets = torch.load(\"../Data/Processed_Data/train_tweet_emb_tensor.pth\")\n",
    "test_tweets = torch.load(\"../Data/Processed_Data/test_tweet_emb_tensor.pth\")\n",
    "validate_tweets = torch.load(\"../Data/Processed_Data/validate_tweet_emb_tensor.pth\")\n",
    "\n",
    "# Labels\n",
    "train_labels = torch.load(\"../Data/Processed_Data/train_label_tensor.pth\")\n",
    "test_labels = torch.load(\"../Data/Processed_Data/test_label_tensor.pth\")\n",
    "validate_labels = torch.load(\"../Data/Processed_Data/validate_label_tensor.pth\")"
   ]
  },
  {
   "cell_type": "code",
   "execution_count": 3,
   "id": "6db83c63",
   "metadata": {},
   "outputs": [
    {
     "name": "stdout",
     "output_type": "stream",
     "text": [
      "torch.Size([1778865, 200])\n",
      "torch.Size([251066, 200])\n",
      "torch.Size([512329, 200])\n"
     ]
    }
   ],
   "source": [
    "print(train_tweets.shape)\n",
    "print(test_tweets.shape)\n",
    "print(validate_tweets.shape)"
   ]
  },
  {
   "cell_type": "code",
   "execution_count": 113,
   "id": "599e6c69",
   "metadata": {},
   "outputs": [
    {
     "name": "stdout",
     "output_type": "stream",
     "text": [
      "torch.Size([533659, 200])\n"
     ]
    }
   ],
   "source": [
    "# Using only 10% of training for time constraints\n",
    "num_samples = int(train_tweets.shape[0] * 0.3)\n",
    "\n",
    "random_indices = torch.randperm(train_tweets.shape[0])[:num_samples]\n",
    "\n",
    "train_tweets = train_tweets[random_indices]\n",
    "train_metadata = train_metadata[random_indices]\n",
    "train_labels = train_labels[random_indices]\n",
    "\n",
    "print(train_tweets.shape)"
   ]
  },
  {
   "cell_type": "markdown",
   "id": "6a327619",
   "metadata": {},
   "source": [
    "# Passing tweets through LSTM"
   ]
  },
  {
   "cell_type": "code",
   "execution_count": 114,
   "id": "96cf4293",
   "metadata": {},
   "outputs": [],
   "source": [
    "# LSTM Model\n",
    "class LSTMModel(nn.Module):\n",
    "    \n",
    "    def __init__(self, input_size, hidden_size, output_size, num_layers=1):\n",
    "        super(LSTMModel, self).__init__()\n",
    "        \n",
    "        # Define the LSTM layer\n",
    "        self.lstm = nn.LSTM(input_size, hidden_size, num_layers, batch_first=False)\n",
    "        \n",
    "        # Define a fully connected output layer\n",
    "        self.fc = nn.Linear(hidden_size, output_size)\n",
    "        \n",
    "    def forward(self, x):\n",
    "        # Pass the input through the LSTM layer\n",
    "        lstm_out, (h_n, c_n) = self.lstm(x)\n",
    "        \n",
    "        # Get the output from the last time step\n",
    "        output = self.fc(lstm_out[:, -1, :])  # Only take the last output for prediction\n",
    "        return output"
   ]
  },
  {
   "cell_type": "code",
   "execution_count": 115,
   "id": "c39c0eda",
   "metadata": {},
   "outputs": [],
   "source": [
    "# LSTM Model Parameters\n",
    "\n",
    "input_size = 200 # Number of features in input data(200 for 200D embeddings)\n",
    "hidden_size = 50\n",
    "output_size = 32\n",
    "number_layers = 1 # Number of LSTM Layers\n",
    "\n",
    "# Creating LSTM Model\n",
    "\n",
    "lstm_model = LSTMModel(input_size = input_size, hidden_size = hidden_size, output_size = output_size, \n",
    "                      num_layers = number_layers)"
   ]
  },
  {
   "cell_type": "code",
   "execution_count": 116,
   "id": "de497f17",
   "metadata": {},
   "outputs": [],
   "source": [
    "train_input_data = train_tweets.unsqueeze(1)\n",
    "train_input_data = train_input_data.to(torch.float32)\n",
    "\n",
    "test_input_data = test_tweets.unsqueeze(1)\n",
    "test_input_data = test_input_data.to(torch.float32)\n",
    "\n",
    "validate_input_data = validate_tweets.unsqueeze(1)\n",
    "validate_input_data = validate_input_data.to(torch.float32)\n",
    "\n",
    "# Getting lstm_output for datasets\n",
    "train_lstm_output = lstm_model(train_input_data)\n",
    "train_lstm_output = train_lstm_output.detach()\n",
    "\n",
    "test_lstm_output = lstm_model(test_input_data)\n",
    "test_lstm_output = test_lstm_output.detach()\n",
    "\n",
    "validate_lstm_output = lstm_model(validate_input_data)\n",
    "validate_lstm_output = validate_lstm_output.detach()"
   ]
  },
  {
   "cell_type": "code",
   "execution_count": 117,
   "id": "53cd2ead",
   "metadata": {},
   "outputs": [
    {
     "name": "stdout",
     "output_type": "stream",
     "text": [
      "torch.Size([533659, 32])\n"
     ]
    }
   ],
   "source": [
    "print(train_lstm_output.shape)"
   ]
  },
  {
   "cell_type": "markdown",
   "id": "0016517a",
   "metadata": {},
   "source": [
    "# Concatenating with aux input (user metadata)"
   ]
  },
  {
   "cell_type": "code",
   "execution_count": 118,
   "id": "f4c34093",
   "metadata": {},
   "outputs": [],
   "source": [
    "x_train = torch.hstack((train_lstm_output, train_metadata)).to(torch.float32)\n",
    "\n",
    "x_test = torch.hstack((test_lstm_output, test_metadata)).to(torch.float32)\n",
    "\n",
    "x_validate = torch.hstack((validate_lstm_output, validate_metadata)).to(torch.float32)"
   ]
  },
  {
   "cell_type": "code",
   "execution_count": 119,
   "id": "0dc5f66b",
   "metadata": {},
   "outputs": [],
   "source": [
    "y_train = train_labels.view(-1, 1).to(torch.float32)\n",
    "\n",
    "y_test = test_labels.view(-1, 1).to(torch.float32)\n",
    "\n",
    "y_validate = validate_labels.view(-1, 1).to(torch.float32)"
   ]
  },
  {
   "cell_type": "code",
   "execution_count": 120,
   "id": "cc829a3c",
   "metadata": {},
   "outputs": [
    {
     "name": "stdout",
     "output_type": "stream",
     "text": [
      "torch.Size([533659, 40]) torch.Size([533659, 1])\n",
      "torch.Size([251066, 40]) torch.Size([251066, 1])\n",
      "torch.Size([512329, 40]) torch.Size([512329, 1])\n"
     ]
    }
   ],
   "source": [
    "print(x_train.shape, y_train.shape)\n",
    "print(x_test.shape, y_test.shape)\n",
    "print(x_validate.shape, y_validate.shape)"
   ]
  },
  {
   "cell_type": "code",
   "execution_count": 121,
   "id": "6743abae",
   "metadata": {},
   "outputs": [
    {
     "data": {
      "text/plain": [
       "tensor([[1.],\n",
       "        [1.],\n",
       "        [0.],\n",
       "        ...,\n",
       "        [1.],\n",
       "        [0.],\n",
       "        [0.]])"
      ]
     },
     "execution_count": 121,
     "metadata": {},
     "output_type": "execute_result"
    }
   ],
   "source": [
    "x_train.requires_grad_(False)\n",
    "y_train.requires_grad_(False)"
   ]
  },
  {
   "cell_type": "markdown",
   "id": "60ae5e19",
   "metadata": {},
   "source": [
    "# Creating Neural Network"
   ]
  },
  {
   "cell_type": "code",
   "execution_count": 122,
   "id": "ef0a6065",
   "metadata": {},
   "outputs": [],
   "source": [
    "class NeuralNetwork(nn.Module):\n",
    "    \n",
    "    def __init__(self, input_size, hidden_size, output_size):\n",
    "        super(NeuralNetwork, self).__init__()\n",
    "        self.fc1 = nn.Linear(input_size, hidden_size)  # First fully connected layer\n",
    "        self.fc2 = nn.Linear(hidden_size, output_size)  # Second fully connected layer\n",
    "        \n",
    "    def forward(self, x):\n",
    "        x = torch.relu(self.fc1(x))  # Apply ReLU activation after the first layer\n",
    "        x = self.fc2(x)  # Output layer\n",
    "        return x"
   ]
  },
  {
   "cell_type": "code",
   "execution_count": 123,
   "id": "02de3bae",
   "metadata": {},
   "outputs": [],
   "source": [
    "# Network Parameters\n",
    "\n",
    "input_size = 40  # Number of input features (tweet embeddings + metadata)\n",
    "hidden_size = 50  # Number of hidden units in the first fully connected layer\n",
    "output_size = 1  # Output size (binary classification: 1 output)\n",
    "batch_size = 64  # Batch size for training"
   ]
  },
  {
   "cell_type": "code",
   "execution_count": 124,
   "id": "eb299dc6",
   "metadata": {},
   "outputs": [],
   "source": [
    "# Creating dataloader\n",
    "\n",
    "dataset = TensorDataset(x_train, y_train)\n",
    "dataloader = DataLoader(dataset, batch_size=batch_size, shuffle=True)"
   ]
  },
  {
   "cell_type": "code",
   "execution_count": 133,
   "id": "25672dac",
   "metadata": {},
   "outputs": [],
   "source": [
    "# Initialize mode, loss function, and optimizer\n",
    "model = NeuralNetwork(input_size, hidden_size, output_size)\n",
    "criterion = nn.BCEWithLogitsLoss()  # Binary Cross Entropy with logits\n",
    "optimizer = optim.Adam(model.parameters(), lr=0.001)  "
   ]
  },
  {
   "cell_type": "code",
   "execution_count": 134,
   "id": "52005af5",
   "metadata": {
    "scrolled": false
   },
   "outputs": [
    {
     "name": "stdout",
     "output_type": "stream",
     "text": [
      "Epoch [1/10], Loss: 333.7279\n",
      "Epoch [2/10], Loss: 195.5378\n",
      "Epoch [3/10], Loss: 93.2539\n",
      "Epoch [4/10], Loss: 17.6485\n",
      "Epoch [5/10], Loss: 0.6456\n",
      "Epoch [6/10], Loss: 0.7144\n",
      "Epoch [7/10], Loss: 0.6380\n",
      "Epoch [8/10], Loss: 0.7227\n",
      "Epoch [9/10], Loss: 0.6481\n",
      "Epoch [10/10], Loss: 0.7950\n"
     ]
    }
   ],
   "source": [
    "# Step 5: Training loop\n",
    "num_epochs = 10  # Number of epochs to train\n",
    "\n",
    "for epoch in range(num_epochs):\n",
    "    model.train()  # Set the model to training mode\n",
    "    running_loss = 0.0\n",
    "    \n",
    "    for inputs, labels in dataloader:\n",
    "        # Zero the gradients\n",
    "        optimizer.zero_grad()\n",
    "        \n",
    "        # Forward pass\n",
    "        outputs = model(inputs)\n",
    "        \n",
    "        # Compute loss\n",
    "        loss = criterion(outputs, labels)\n",
    "        \n",
    "        # Backward pass and optimization\n",
    "        loss.backward()\n",
    "        optimizer.step()\n",
    "        \n",
    "        running_loss += loss.item()\n",
    "    \n",
    "    avg_loss = running_loss / len(dataloader)\n",
    "    print(f\"Epoch [{epoch+1}/{num_epochs}], Loss: {avg_loss:.4f}\")"
   ]
  },
  {
   "cell_type": "markdown",
   "id": "9457eae0",
   "metadata": {},
   "source": [
    "# Metrics"
   ]
  },
  {
   "cell_type": "code",
   "execution_count": 135,
   "id": "b3a9e219",
   "metadata": {},
   "outputs": [
    {
     "name": "stdout",
     "output_type": "stream",
     "text": [
      "Predictions: tensor([[0.],\n",
      "        [0.],\n",
      "        [0.],\n",
      "        ...,\n",
      "        [1.],\n",
      "        [1.],\n",
      "        [1.]])\n"
     ]
    }
   ],
   "source": [
    "# Set the model to evaluation mode \n",
    "model.eval()\n",
    "\n",
    "# Make predictions\n",
    "with torch.no_grad():  # Disable gradient calculation to save memory and computations\n",
    "    predictions = model(x_test)\n",
    "    \n",
    "predictions_binary = (predictions > 0).float()\n",
    "print(\"Predictions:\", predictions_binary)"
   ]
  },
  {
   "cell_type": "code",
   "execution_count": 136,
   "id": "074e70e6",
   "metadata": {},
   "outputs": [],
   "source": [
    "# Function to calculate TP, FP, TN, FN\n",
    "def calculate_confusion_values(y_true, y_pred):\n",
    "    \"\"\"\n",
    "    Calculate TP, FP, TN, FN for binary classification.\n",
    "    \n",
    "    Args:\n",
    "        y_true (tensor): Ground truth labels.\n",
    "        y_pred (tensor): Predicted labels.\n",
    "        \n",
    "    Returns:\n",
    "        tuple: (TP, FP, TN, FN)\n",
    "    \"\"\"\n",
    "    TP = ((y_true == 1) & (y_pred == 1)).sum().item()  # True Positive: True labels are 1, Predicted labels are 1\n",
    "    FP = ((y_true == 0) & (y_pred == 1)).sum().item()  # False Positive: True labels are 0, Predicted labels are 1\n",
    "    TN = ((y_true == 0) & (y_pred == 0)).sum().item()  # True Negative: True labels are 0, Predicted labels are 0\n",
    "    FN = ((y_true == 1) & (y_pred == 0)).sum().item()  # False Negative: True labels are 1, Predicted labels are 0\n",
    "    \n",
    "    return TP, FP, TN, FN"
   ]
  },
  {
   "cell_type": "code",
   "execution_count": 137,
   "id": "d10f8317",
   "metadata": {},
   "outputs": [],
   "source": [
    "TP, FP, TN, FN = calculate_confusion_values(y_test, predictions_binary)"
   ]
  },
  {
   "cell_type": "code",
   "execution_count": 138,
   "id": "edc80754",
   "metadata": {},
   "outputs": [
    {
     "name": "stdout",
     "output_type": "stream",
     "text": [
      "Accuracy: 77.0749524029538\n",
      "F1-Score 73.03022777431552\n",
      "MCC Score: 53.128694254098384\n"
     ]
    }
   ],
   "source": [
    "# accuracy\n",
    "accuracy = (TP + TN) / (TP + FP + TN + FN) * 100.0\n",
    "print(\"Accuracy:\", accuracy)\n",
    "\n",
    "# F1\n",
    "f1_score = TP / (TP + 0.5 * (FP + FN)) * 100.0\n",
    "print(\"F1-Score\", f1_score)\n",
    "\n",
    "# MCC\n",
    "mcc_score = ((TP * TN) - (FP * FN)) / (((TP +FP) * (TP + FN) * (TN + FP) * (TN + FN)) ** 0.5) * 100.0\n",
    "\n",
    "print(\"MCC Score:\", mcc_score)"
   ]
  },
  {
   "cell_type": "code",
   "execution_count": 139,
   "id": "52507863",
   "metadata": {},
   "outputs": [
    {
     "name": "stdout",
     "output_type": "stream",
     "text": [
      "118166\n"
     ]
    }
   ],
   "source": [
    "print(len(predictions.unique()))"
   ]
  },
  {
   "cell_type": "code",
   "execution_count": 140,
   "id": "61ab09b4",
   "metadata": {},
   "outputs": [
    {
     "name": "stdout",
     "output_type": "stream",
     "text": [
      "77928 26950 115581 30607\n"
     ]
    }
   ],
   "source": [
    "print(TP, FP, TN, FN)"
   ]
  },
  {
   "cell_type": "code",
   "execution_count": null,
   "id": "aa338a66",
   "metadata": {},
   "outputs": [],
   "source": []
  }
 ],
 "metadata": {
  "kernelspec": {
   "display_name": "base",
   "language": "python",
   "name": "python3"
  },
  "language_info": {
   "codemirror_mode": {
    "name": "ipython",
    "version": 3
   },
   "file_extension": ".py",
   "mimetype": "text/x-python",
   "name": "python",
   "nbconvert_exporter": "python",
   "pygments_lexer": "ipython3",
   "version": "3.12.3"
  }
 },
 "nbformat": 4,
 "nbformat_minor": 5
}

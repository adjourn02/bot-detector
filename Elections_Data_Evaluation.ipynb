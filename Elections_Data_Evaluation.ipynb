{
 "cells": [
  {
   "cell_type": "markdown",
   "source": [
    "# Evaluate on Elections Data"
   ],
   "metadata": {
    "collapsed": false
   },
   "id": "408b00e1761a3e49"
  },
  {
   "cell_type": "markdown",
   "source": [
    "## Import libraries"
   ],
   "metadata": {
    "collapsed": false
   },
   "id": "c6e18de697489b7d"
  },
  {
   "cell_type": "code",
   "execution_count": 3,
   "outputs": [],
   "source": [
    "import torch\n",
    "import torch.nn as nn\n",
    "import pandas as pd\n",
    "import matplotlib.pyplot as plt"
   ],
   "metadata": {
    "collapsed": false,
    "ExecuteTime": {
     "end_time": "2025-04-20T00:27:47.235924400Z",
     "start_time": "2025-04-20T00:27:44.636863500Z"
    }
   },
   "id": "87320c4a41471dda"
  },
  {
   "cell_type": "markdown",
   "source": [
    "## Load pre-processed Elections Data"
   ],
   "metadata": {
    "collapsed": false
   },
   "id": "8c63352ca7de9e7e"
  },
  {
   "cell_type": "markdown",
   "source": [
    "Metadata"
   ],
   "metadata": {
    "collapsed": false
   },
   "id": "a71ffa67b99f8db2"
  },
  {
   "cell_type": "code",
   "execution_count": 4,
   "outputs": [],
   "source": [
    "aug_metadata = torch.load(\"Data/Processed_Data/aug_elections_metadata.pth\")\n",
    "sept_metadata = torch.load(\"Data/Processed_Data/sept_elections_metadata.pth\")\n",
    "oct_metadata = torch.load(\"Data/Processed_Data/oct_elections_metadata.pth\")\n",
    "nov_metadata = torch.load(\"Data/Processed_Data/nov_elections_metadata.pth\")"
   ],
   "metadata": {
    "collapsed": false,
    "ExecuteTime": {
     "end_time": "2025-04-20T00:27:47.267372300Z",
     "start_time": "2025-04-20T00:27:47.240924600Z"
    }
   },
   "id": "a849e9f91fcc67be"
  },
  {
   "cell_type": "code",
   "execution_count": 5,
   "outputs": [
    {
     "name": "stdout",
     "output_type": "stream",
     "text": [
      "torch.Size([150000, 5]) torch.Size([150000, 5]) torch.Size([150000, 5]) torch.Size([150000, 5])\n"
     ]
    }
   ],
   "source": [
    "print(aug_metadata.shape, sept_metadata.shape, oct_metadata.shape, nov_metadata.shape)"
   ],
   "metadata": {
    "collapsed": false,
    "ExecuteTime": {
     "end_time": "2025-04-20T00:27:47.268359500Z",
     "start_time": "2025-04-20T00:27:47.259884Z"
    }
   },
   "id": "f62f498f083c67e2"
  },
  {
   "cell_type": "markdown",
   "source": [
    "Tweets Data"
   ],
   "metadata": {
    "collapsed": false
   },
   "id": "8e47eeadf2263814"
  },
  {
   "cell_type": "code",
   "execution_count": 6,
   "outputs": [],
   "source": [
    "aug_tweets = torch.load(\"Data/Processed_Data/aug_elections_tweet_emb.pth\")\n",
    "sept_tweets = torch.load(\"Data/Processed_Data/sept_elections_tweet_emb.pth\")\n",
    "oct_tweets = torch.load(\"Data/Processed_Data/oct_elections_tweet_emb.pth\")\n",
    "nov_tweets = torch.load(\"Data/Processed_Data/nov_elections_tweet_emb.pth\")"
   ],
   "metadata": {
    "collapsed": false,
    "ExecuteTime": {
     "end_time": "2025-04-20T00:27:47.612629900Z",
     "start_time": "2025-04-20T00:27:47.268359500Z"
    }
   },
   "id": "c4788e3722680060"
  },
  {
   "cell_type": "code",
   "execution_count": 7,
   "outputs": [
    {
     "name": "stdout",
     "output_type": "stream",
     "text": [
      "torch.Size([150000, 200]) torch.Size([150000, 200]) torch.Size([150000, 200]) torch.Size([150000, 200])\n"
     ]
    }
   ],
   "source": [
    "print(aug_tweets.shape, sept_tweets.shape, oct_tweets.shape, nov_tweets.shape)"
   ],
   "metadata": {
    "collapsed": false,
    "ExecuteTime": {
     "end_time": "2025-04-20T00:27:47.612629900Z",
     "start_time": "2025-04-20T00:27:47.608650Z"
    }
   },
   "id": "e407f370f0a5a83e"
  },
  {
   "cell_type": "markdown",
   "source": [
    "## Define Layers"
   ],
   "metadata": {
    "collapsed": false
   },
   "id": "7d384e2f42fdf0f7"
  },
  {
   "cell_type": "markdown",
   "source": [
    "BiLSTM Layer"
   ],
   "metadata": {
    "collapsed": false
   },
   "id": "321384b942dcb9bd"
  },
  {
   "cell_type": "code",
   "execution_count": 8,
   "outputs": [],
   "source": [
    "class BiLSTM(nn.Module):\n",
    "    \n",
    "    def __init__(self, input_size=200, hidden_size=50, output_size=32, num_layers=1, dropout_rate=0):\n",
    "        super(BiLSTM, self).__init__()\n",
    "        \n",
    "        # Define the LSTM layer\n",
    "        self.lstm = nn.LSTM(input_size, hidden_size, num_layers, batch_first=False, bidirectional = True, dropout = dropout_rate)\n",
    "        \n",
    "        # Define a fully connected output layer\n",
    "        self.fc = nn.Linear(hidden_size * 2, output_size)\n",
    "        \n",
    "        \n",
    "    def forward(self, x):\n",
    "        # Pass through BiLSTM\n",
    "        lstm_out, (hn, cn) = self.lstm(x)    \n",
    "        \n",
    "        output = self.fc(lstm_out[:, -1, :])\n",
    "         \n",
    "        return output"
   ],
   "metadata": {
    "collapsed": false,
    "ExecuteTime": {
     "end_time": "2025-04-20T00:27:47.625284600Z",
     "start_time": "2025-04-20T00:27:47.614634800Z"
    }
   },
   "id": "b68dc60db16bd7fe"
  },
  {
   "cell_type": "markdown",
   "source": [
    "Dense Layer"
   ],
   "metadata": {
    "collapsed": false
   },
   "id": "39e69c3865768796"
  },
  {
   "cell_type": "code",
   "execution_count": 9,
   "outputs": [],
   "source": [
    "class DenseNet(nn.Module):\n",
    "    \n",
    "    def __init__(self, input_size=37, hidden_size_1=128, hidden_size_2=64, output_size=1, dropout=0.2):\n",
    "        super(DenseNet, self).__init__()\n",
    "        self.fc1 = nn.Linear(input_size, hidden_size_1)  # First fully connected layer\n",
    "        self.fc2 = nn.Linear(hidden_size_1, hidden_size_2)  # Second fully connected layer\n",
    "        self.out = nn.Linear(hidden_size_2, output_size)\n",
    "        self.dropout = nn.Dropout(p=dropout)\n",
    "        \n",
    "        \n",
    "    def forward(self, x):\n",
    "        x = torch.relu(self.fc1(x))  # Apply ReLU activation after the first layer\n",
    "        x = self.dropout(x)\n",
    "        x = torch.relu(self.fc2(x))  # Output layer\n",
    "        \n",
    "        x = self.out(x)\n",
    "        return x"
   ],
   "metadata": {
    "collapsed": false,
    "ExecuteTime": {
     "end_time": "2025-04-20T00:27:47.633622600Z",
     "start_time": "2025-04-20T00:27:47.628320400Z"
    }
   },
   "id": "d698cbc2258db153"
  },
  {
   "cell_type": "markdown",
   "source": [
    "## Load Model"
   ],
   "metadata": {
    "collapsed": false
   },
   "id": "152c36838293e905"
  },
  {
   "cell_type": "markdown",
   "source": [
    "BiLSTM layer"
   ],
   "metadata": {
    "collapsed": false
   },
   "id": "e41e54bb6a9449fb"
  },
  {
   "cell_type": "code",
   "execution_count": 10,
   "outputs": [
    {
     "data": {
      "text/plain": "<All keys matched successfully>"
     },
     "execution_count": 10,
     "metadata": {},
     "output_type": "execute_result"
    }
   ],
   "source": [
    "lstm_layer = BiLSTM()\n",
    "lstm_layer.load_state_dict(torch.load(\"Data/Processed_Data/best_BiLSTM_model.pth\"))"
   ],
   "metadata": {
    "collapsed": false,
    "ExecuteTime": {
     "end_time": "2025-04-20T00:27:47.701383Z",
     "start_time": "2025-04-20T00:27:47.635622800Z"
    }
   },
   "id": "5eb459d25ed6719b"
  },
  {
   "cell_type": "markdown",
   "source": [
    "DenseNet layer"
   ],
   "metadata": {
    "collapsed": false
   },
   "id": "ca5853802adccea2"
  },
  {
   "cell_type": "code",
   "execution_count": 11,
   "outputs": [
    {
     "data": {
      "text/plain": "<All keys matched successfully>"
     },
     "execution_count": 11,
     "metadata": {},
     "output_type": "execute_result"
    }
   ],
   "source": [
    "dense_layer = DenseNet()\n",
    "dense_layer.load_state_dict(torch.load(\"Data/Processed_Data/best_dense_model.pth\"))"
   ],
   "metadata": {
    "collapsed": false,
    "ExecuteTime": {
     "end_time": "2025-04-20T00:27:47.701383Z",
     "start_time": "2025-04-20T00:27:47.651756500Z"
    }
   },
   "id": "61ee4bad83dcfd0b"
  },
  {
   "cell_type": "markdown",
   "source": [
    "## Evaluate"
   ],
   "metadata": {
    "collapsed": false
   },
   "id": "5d1f2d0313516c17"
  },
  {
   "cell_type": "markdown",
   "source": [
    "Define evaluation function"
   ],
   "metadata": {
    "collapsed": false
   },
   "id": "8b0bca0996e2e"
  },
  {
   "cell_type": "code",
   "execution_count": 12,
   "outputs": [],
   "source": [
    "def evaluate_model(lstm_model, dense_model, tweet_data, metadata, threshold):\n",
    "    lstm_model.eval()\n",
    "    dense_model.eval()\n",
    "    \n",
    "    with torch.no_grad():\n",
    "        \n",
    "        tweet_data = tweet_data.unsqueeze(1).to(torch.float32)\n",
    "        \n",
    "        tweet_features = lstm_model(tweet_data)  \n",
    "        \n",
    "        combined_features = torch.cat((tweet_features, metadata), dim=1)\n",
    "        \n",
    "        soft_predictions = dense_model(combined_features)\n",
    "        \n",
    "        hard_predictions = (soft_predictions > threshold).float()\n",
    "        \n",
    "    return hard_predictions"
   ],
   "metadata": {
    "collapsed": false,
    "ExecuteTime": {
     "end_time": "2025-04-20T00:27:47.701383Z",
     "start_time": "2025-04-20T00:27:47.663200200Z"
    }
   },
   "id": "134f988c61ba61e3"
  },
  {
   "cell_type": "markdown",
   "source": [
    "Loop through months"
   ],
   "metadata": {
    "collapsed": false
   },
   "id": "3a1adb765e130b56"
  },
  {
   "cell_type": "code",
   "execution_count": 13,
   "outputs": [
    {
     "name": "stdout",
     "output_type": "stream",
     "text": [
      "Number of predicted bots in Aug: 142453/150000\n",
      "Number of predicted bots in Sept: 140965/150000\n",
      "Number of predicted bots in Oct: 141543/150000\n",
      "Number of predicted bots in Nov: 139040/150000\n"
     ]
    }
   ],
   "source": [
    "months = [(\"Aug\", aug_tweets, aug_metadata),\n",
    "          (\"Sept\", sept_tweets, sept_metadata),\n",
    "          (\"Oct\", oct_tweets, oct_metadata),\n",
    "          (\"Nov\", nov_tweets, nov_metadata)]\n",
    "\n",
    "# print number of predicted bots for selected random days in each month \n",
    "month_predictions = []\n",
    "for month, tweets, metadata in months:\n",
    "    predictions = evaluate_model(lstm_layer, dense_layer, tweets, metadata, threshold=0)\n",
    "    _, counts = torch.unique(predictions.squeeze(1), return_counts=True)\n",
    "    month_predictions.append(counts[1])\n",
    "\n",
    "    print(f\"Number of predicted bots in {month}: {counts[1]}/{aug_tweets.shape[0]}\")"
   ],
   "metadata": {
    "collapsed": false,
    "ExecuteTime": {
     "end_time": "2025-04-20T00:27:53.131770200Z",
     "start_time": "2025-04-20T00:27:47.669387300Z"
    }
   },
   "id": "2af668cc1da83f7"
  },
  {
   "cell_type": "markdown",
   "source": [
    "## Plot result"
   ],
   "metadata": {
    "collapsed": false
   },
   "id": "6977a2ee3267a955"
  },
  {
   "cell_type": "code",
   "execution_count": 14,
   "outputs": [
    {
     "data": {
      "text/plain": "  Month   Value\n0   Aug  142453\n1  Sept  140965\n2   Oct  141543\n3   Nov  139040",
      "text/html": "<div>\n<style scoped>\n    .dataframe tbody tr th:only-of-type {\n        vertical-align: middle;\n    }\n\n    .dataframe tbody tr th {\n        vertical-align: top;\n    }\n\n    .dataframe thead th {\n        text-align: right;\n    }\n</style>\n<table border=\"1\" class=\"dataframe\">\n  <thead>\n    <tr style=\"text-align: right;\">\n      <th></th>\n      <th>Month</th>\n      <th>Value</th>\n    </tr>\n  </thead>\n  <tbody>\n    <tr>\n      <th>0</th>\n      <td>Aug</td>\n      <td>142453</td>\n    </tr>\n    <tr>\n      <th>1</th>\n      <td>Sept</td>\n      <td>140965</td>\n    </tr>\n    <tr>\n      <th>2</th>\n      <td>Oct</td>\n      <td>141543</td>\n    </tr>\n    <tr>\n      <th>3</th>\n      <td>Nov</td>\n      <td>139040</td>\n    </tr>\n  </tbody>\n</table>\n</div>"
     },
     "execution_count": 14,
     "metadata": {},
     "output_type": "execute_result"
    }
   ],
   "source": [
    "names = [\"Aug\", \"Sept\", \"Oct\", \"Nov\"]\n",
    "predictions = [int(val.item()) for val in month_predictions]\n",
    "df = pd.DataFrame({\n",
    "    \"Month\": names,\n",
    "    \"Value\": predictions\n",
    "})\n",
    "df"
   ],
   "metadata": {
    "collapsed": false,
    "ExecuteTime": {
     "end_time": "2025-04-20T00:27:53.148832300Z",
     "start_time": "2025-04-20T00:27:53.130776200Z"
    }
   },
   "id": "55e15eb13c30aa3f"
  },
  {
   "cell_type": "code",
   "execution_count": 15,
   "outputs": [
    {
     "data": {
      "text/plain": "<Figure size 640x480 with 1 Axes>",
      "image/png": "[encoded data removed]"
     },
     "metadata": {},
     "output_type": "display_data"
    }
   ],
   "source": [
    "plt.bar(names, predictions)\n",
    "plt.title('Number of Predicted Bots based on 150,000 Tweets per Month')\n",
    "plt.xlabel('Month')\n",
    "plt.ylabel('#Bots')\n",
    "plt.show()"
   ],
   "metadata": {
    "collapsed": false,
    "ExecuteTime": {
     "end_time": "2025-04-20T00:27:53.333334300Z",
     "start_time": "2025-04-20T00:27:53.145817900Z"
    }
   },
   "id": "c69312c2b86995c"
  }
 ],
 "metadata": {
  "kernelspec": {
   "display_name": "Python 3",
   "language": "python",
   "name": "python3"
  },
  "language_info": {
   "codemirror_mode": {
    "name": "ipython",
    "version": 2
   },
   "file_extension": ".py",
   "mimetype": "text/x-python",
   "name": "python",
   "nbconvert_exporter": "python",
   "pygments_lexer": "ipython2",
   "version": "2.7.6"
  }
 },
 "nbformat": 4,
 "nbformat_minor": 5
}

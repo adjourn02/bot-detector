{
 "cells": [
  {
   "cell_type": "markdown",
   "source": [
    "# Evaluate on Elections Data"
   ],
   "metadata": {
    "collapsed": false
   },
   "id": "408b00e1761a3e49"
  },
  {
   "cell_type": "markdown",
   "source": [
    "## Import libraries"
   ],
   "metadata": {
    "collapsed": false
   },
   "id": "c6e18de697489b7d"
  },
  {
   "cell_type": "code",
   "execution_count": 1,
   "outputs": [],
   "source": [
    "import torch\n",
    "import torch.nn as nn"
   ],
   "metadata": {
    "collapsed": false,
    "ExecuteTime": {
     "end_time": "2025-04-19T03:32:16.370173800Z",
     "start_time": "2025-04-19T03:32:11.726157100Z"
    }
   },
   "id": "87320c4a41471dda"
  },
  {
   "cell_type": "markdown",
   "source": [
    "## Load pre-processed Elections Data"
   ],
   "metadata": {
    "collapsed": false
   },
   "id": "8c63352ca7de9e7e"
  },
  {
   "cell_type": "markdown",
   "source": [
    "Metadata"
   ],
   "metadata": {
    "collapsed": false
   },
   "id": "a71ffa67b99f8db2"
  },
  {
   "cell_type": "code",
   "execution_count": 2,
   "outputs": [],
   "source": [
    "aug_metadata = torch.load(\"Data/Processed_Data/aug_elections_metadata.pth\")\n",
    "sept_metadata = torch.load(\"Data/Processed_Data/sept_elections_metadata.pth\")\n",
    "oct_metadata = torch.load(\"Data/Processed_Data/oct_elections_metadata.pth\")\n",
    "nov_metadata = torch.load(\"Data/Processed_Data/nov_elections_metadata.pth\")"
   ],
   "metadata": {
    "collapsed": false,
    "ExecuteTime": {
     "end_time": "2025-04-19T03:32:32.086792400Z",
     "start_time": "2025-04-19T03:32:32.000768900Z"
    }
   },
   "id": "a849e9f91fcc67be"
  },
  {
   "cell_type": "code",
   "execution_count": 14,
   "outputs": [
    {
     "name": "stdout",
     "output_type": "stream",
     "text": [
      "torch.Size([150000, 5]) torch.Size([150000, 5]) torch.Size([150000, 5]) torch.Size([150000, 5])\n"
     ]
    }
   ],
   "source": [
    "print(aug_metadata.shape, sept_metadata.shape, oct_metadata.shape, nov_metadata.shape)"
   ],
   "metadata": {
    "collapsed": false,
    "ExecuteTime": {
     "end_time": "2025-04-19T03:35:50.450625100Z",
     "start_time": "2025-04-19T03:35:50.440710100Z"
    }
   },
   "id": "f62f498f083c67e2"
  },
  {
   "cell_type": "markdown",
   "source": [
    "Tweets Data"
   ],
   "metadata": {
    "collapsed": false
   },
   "id": "8e47eeadf2263814"
  },
  {
   "cell_type": "code",
   "execution_count": 3,
   "outputs": [],
   "source": [
    "aug_tweets = torch.load(\"Data/Processed_Data/aug_elections_tweet_emb.pth\")\n",
    "sept_tweets = torch.load(\"Data/Processed_Data/sept_elections_tweet_emb.pth\")\n",
    "oct_tweets = torch.load(\"Data/Processed_Data/oct_elections_tweet_emb.pth\")\n",
    "nov_tweets = torch.load(\"Data/Processed_Data/nov_elections_tweet_emb.pth\")"
   ],
   "metadata": {
    "collapsed": false,
    "ExecuteTime": {
     "end_time": "2025-04-19T03:32:34.805115600Z",
     "start_time": "2025-04-19T03:32:34.008190900Z"
    }
   },
   "id": "c4788e3722680060"
  },
  {
   "cell_type": "code",
   "execution_count": 11,
   "outputs": [
    {
     "name": "stdout",
     "output_type": "stream",
     "text": [
      "torch.Size([150000, 200]) torch.Size([150000, 200]) torch.Size([150000, 200]) torch.Size([150000, 200])\n"
     ]
    }
   ],
   "source": [
    "print(aug_tweets.shape, sept_tweets.shape, oct_tweets.shape, nov_tweets.shape)"
   ],
   "metadata": {
    "collapsed": false,
    "ExecuteTime": {
     "end_time": "2025-04-19T03:35:09.248788300Z",
     "start_time": "2025-04-19T03:35:09.237288Z"
    }
   },
   "id": "e407f370f0a5a83e"
  },
  {
   "cell_type": "markdown",
   "source": [
    "## Define Layers"
   ],
   "metadata": {
    "collapsed": false
   },
   "id": "7d384e2f42fdf0f7"
  },
  {
   "cell_type": "markdown",
   "source": [
    "BiLSTM Layer"
   ],
   "metadata": {
    "collapsed": false
   },
   "id": "321384b942dcb9bd"
  },
  {
   "cell_type": "code",
   "execution_count": 4,
   "outputs": [],
   "source": [
    "class BiLSTM(nn.Module):\n",
    "    \n",
    "    def __init__(self, input_size=200, hidden_size=50, output_size=32, num_layers=1, dropout_rate=0):\n",
    "        super(BiLSTM, self).__init__()\n",
    "        \n",
    "        # Define the LSTM layer\n",
    "        self.lstm = nn.LSTM(input_size, hidden_size, num_layers, batch_first=False, bidirectional = True, dropout = dropout_rate)\n",
    "        \n",
    "        # Define a fully connected output layer\n",
    "        self.fc = nn.Linear(hidden_size * 2, output_size)\n",
    "        \n",
    "    def forward(self, x):\n",
    "        # Pass through BiLSTM\n",
    "        lstm_out, (hn, cn) = self.lstm(x)    \n",
    "        \n",
    "        output = self.fc(lstm_out[:, -1, :])\n",
    "         \n",
    "        return output"
   ],
   "metadata": {
    "collapsed": false,
    "ExecuteTime": {
     "end_time": "2025-04-19T03:32:41.011426500Z",
     "start_time": "2025-04-19T03:32:41.006155200Z"
    }
   },
   "id": "b68dc60db16bd7fe"
  },
  {
   "cell_type": "markdown",
   "source": [
    "Dense Layer"
   ],
   "metadata": {
    "collapsed": false
   },
   "id": "39e69c3865768796"
  },
  {
   "cell_type": "code",
   "execution_count": 33,
   "outputs": [],
   "source": [
    "class DenseNet(nn.Module):\n",
    "    \n",
    "    def __init__(self, input_size=37, hidden_size_1=128, hidden_size_2=64, output_size=1, dropout=0.2):\n",
    "        super(DenseNet, self).__init__()\n",
    "        self.fc1 = nn.Linear(input_size, hidden_size_1)  # First fully connected layer\n",
    "        self.fc2 = nn.Linear(hidden_size_1, hidden_size_2)  # Second fully connected layer\n",
    "        self.out = nn.Linear(hidden_size_2, output_size)\n",
    "        self.dropout = nn.Dropout(p=dropout)\n",
    "        \n",
    "    def forward(self, x):\n",
    "        x = torch.relu(self.fc1(x))  # Apply ReLU activation after the first layer\n",
    "        x = self.dropout(x)\n",
    "        x = torch.relu(self.fc2(x))  # Output layer\n",
    "        \n",
    "        x = self.out(x)\n",
    "        return x"
   ],
   "metadata": {
    "collapsed": false,
    "ExecuteTime": {
     "end_time": "2025-04-19T03:57:27.964902Z",
     "start_time": "2025-04-19T03:57:27.957385800Z"
    }
   },
   "id": "d698cbc2258db153"
  },
  {
   "cell_type": "markdown",
   "source": [
    "## Load Model"
   ],
   "metadata": {
    "collapsed": false
   },
   "id": "152c36838293e905"
  },
  {
   "cell_type": "markdown",
   "source": [
    "BiLSTM layer"
   ],
   "metadata": {
    "collapsed": false
   },
   "id": "e41e54bb6a9449fb"
  },
  {
   "cell_type": "code",
   "execution_count": 16,
   "outputs": [
    {
     "data": {
      "text/plain": "<All keys matched successfully>"
     },
     "execution_count": 16,
     "metadata": {},
     "output_type": "execute_result"
    }
   ],
   "source": [
    "lstm_layer = BiLSTM()\n",
    "lstm_layer.load_state_dict(torch.load(\"Data/Processed_Data/best_BiLSTM_model.pth\"))"
   ],
   "metadata": {
    "collapsed": false,
    "ExecuteTime": {
     "end_time": "2025-04-19T03:41:14.914751600Z",
     "start_time": "2025-04-19T03:41:14.902230800Z"
    }
   },
   "id": "5eb459d25ed6719b"
  },
  {
   "cell_type": "markdown",
   "source": [
    "DenseNet layer"
   ],
   "metadata": {
    "collapsed": false
   },
   "id": "ca5853802adccea2"
  },
  {
   "cell_type": "code",
   "execution_count": 34,
   "outputs": [
    {
     "data": {
      "text/plain": "<All keys matched successfully>"
     },
     "execution_count": 34,
     "metadata": {},
     "output_type": "execute_result"
    }
   ],
   "source": [
    "dense_layer = DenseNet()\n",
    "dense_layer.load_state_dict(torch.load(\"Data/Processed_Data/best_dense_model.pth\"))"
   ],
   "metadata": {
    "collapsed": false,
    "ExecuteTime": {
     "end_time": "2025-04-19T03:57:30.922202900Z",
     "start_time": "2025-04-19T03:57:30.913070Z"
    }
   },
   "id": "61ee4bad83dcfd0b"
  },
  {
   "cell_type": "markdown",
   "source": [
    "## Evaluate"
   ],
   "metadata": {
    "collapsed": false
   },
   "id": "5d1f2d0313516c17"
  },
  {
   "cell_type": "markdown",
   "source": [
    "Define evaluation function"
   ],
   "metadata": {
    "collapsed": false
   },
   "id": "8b0bca0996e2e"
  },
  {
   "cell_type": "code",
   "execution_count": 44,
   "outputs": [],
   "source": [
    "def evaluate_model(lstm_model, dense_model, tweet_data, metadata, threshold):\n",
    "    lstm_model.eval()\n",
    "    dense_model.eval()\n",
    "    \n",
    "    with torch.no_grad():\n",
    "        \n",
    "        tweet_data = tweet_data.unsqueeze(1).to(torch.float32)\n",
    "        \n",
    "        tweet_features = lstm_model(tweet_data)  \n",
    "        \n",
    "        combined_features = torch.cat((tweet_features, metadata), dim=1)\n",
    "        \n",
    "        soft_predictions = dense_model(combined_features)\n",
    "        \n",
    "        hard_predictions = (soft_predictions > threshold).float()\n",
    "        \n",
    "    return hard_predictions"
   ],
   "metadata": {
    "collapsed": false,
    "ExecuteTime": {
     "end_time": "2025-04-19T04:01:39.087062600Z",
     "start_time": "2025-04-19T04:01:39.077988700Z"
    }
   },
   "id": "134f988c61ba61e3"
  },
  {
   "cell_type": "markdown",
   "source": [
    "Loop through months"
   ],
   "metadata": {
    "collapsed": false
   },
   "id": "3a1adb765e130b56"
  },
  {
   "cell_type": "code",
   "execution_count": 51,
   "outputs": [
    {
     "name": "stdout",
     "output_type": "stream",
     "text": [
      "Number of predicted bots in Aug: 142453/150000\n",
      "Number of predicted bots in Sept: 140965/150000\n",
      "Number of predicted bots in Oct: 141543/150000\n",
      "Number of predicted bots in Nov: 139040/150000\n"
     ]
    }
   ],
   "source": [
    "months = [(\"Aug\", aug_tweets, aug_metadata),\n",
    "          (\"Sept\", sept_tweets, sept_metadata),\n",
    "          (\"Oct\", oct_tweets, oct_metadata),\n",
    "          (\"Nov\", nov_tweets, nov_metadata)]\n",
    "\n",
    "# print number of predicted bots for selected random days in each month \n",
    "for month, tweets, metadata in months:\n",
    "    predictions = evaluate_model(lstm_layer, dense_layer, tweets, metadata, threshold=0)\n",
    "    _, counts = torch.unique(predictions.squeeze(1), return_counts=True)\n",
    "\n",
    "    print(f\"Number of predicted bots in {month}: {counts[1]}/{aug_tweets.shape[0]}\")"
   ],
   "metadata": {
    "collapsed": false,
    "ExecuteTime": {
     "end_time": "2025-04-19T04:15:24.098524200Z",
     "start_time": "2025-04-19T04:15:19.143884700Z"
    }
   },
   "id": "2af668cc1da83f7"
  }
 ],
 "metadata": {
  "kernelspec": {
   "display_name": "Python 3",
   "language": "python",
   "name": "python3"
  },
  "language_info": {
   "codemirror_mode": {
    "name": "ipython",
    "version": 2
   },
   "file_extension": ".py",
   "mimetype": "text/x-python",
   "name": "python",
   "nbconvert_exporter": "python",
   "pygments_lexer": "ipython2",
   "version": "2.7.6"
  }
 },
 "nbformat": 4,
 "nbformat_minor": 5
}

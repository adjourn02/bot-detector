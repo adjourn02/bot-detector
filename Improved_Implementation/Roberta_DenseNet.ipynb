{
 "cells": [
  {
   "cell_type": "markdown",
   "source": [
    "CS 7643 Project\n",
    "\n",
    "Georgia Institute of Technology\n",
    "\n",
    "Author: Daniel Solon"
   ],
   "metadata": {
    "collapsed": false
   },
   "id": "a4b74662b346a467"
  },
  {
   "cell_type": "markdown",
   "id": "896e16ff92eca711",
   "metadata": {
    "collapsed": false
   },
   "source": [
    "# Improved Implementation: RoBERTa+DenseNet\n",
    "Based on \"A Deep Learning Approach for Robust Detection of Bots in Twitter Using Transformers\" paper where their best model is based on (RoBERTa + metadata) for the input feature vectors fed to a Dense network.\n",
    "\n",
    "Using best parameters on the full training dataset with metadata, the performance metric scores on the test dataset are as follows: \n",
    "1. ACC: 0.765059065\n",
    "2. F1: 0.7575362\n",
    "3. MCC: 0.555427074"
   ]
  },
  {
   "cell_type": "markdown",
   "id": "47d395f90c0599ea",
   "metadata": {
    "collapsed": false
   },
   "source": [
    "## Import Libraries"
   ]
  },
  {
   "cell_type": "code",
   "execution_count": 2,
   "id": "a5c67f3cf6043b98",
   "metadata": {
    "ExecuteTime": {
     "end_time": "2025-03-30T17:33:40.203203100Z",
     "start_time": "2025-03-30T17:33:40.194888100Z"
    },
    "collapsed": false
   },
   "outputs": [],
   "source": [
    "import os\n",
    "import torch\n",
    "import torch.nn as nn\n",
    "import torch.optim as optim\n",
    "from torch.utils.data import DataLoader, TensorDataset\n",
    "from sklearn.metrics import accuracy_score, f1_score, matthews_corrcoef\n",
    "from tqdm import tqdm\n",
    "import itertools\n",
    "import pandas as pd"
   ]
  },
  {
   "cell_type": "markdown",
   "id": "acf931d619b31a8c",
   "metadata": {
    "collapsed": false
   },
   "source": [
    "## Set Device\n",
    "Set device to CUDA if available, else CPU"
   ]
  },
  {
   "cell_type": "code",
   "execution_count": 3,
   "id": "11e2adfb6a42e8ca",
   "metadata": {
    "ExecuteTime": {
     "end_time": "2025-03-30T16:27:21.478631200Z",
     "start_time": "2025-03-30T16:27:20.563928400Z"
    },
    "collapsed": false
   },
   "outputs": [
    {
     "name": "stdout",
     "output_type": "stream",
     "text": [
      "Using device: cuda\n"
     ]
    }
   ],
   "source": [
    "device = torch.device('cuda' if torch.cuda.is_available() else 'cpu')\n",
    "print(f'Using device: {device}')"
   ]
  },
  {
   "cell_type": "code",
   "execution_count": 4,
   "id": "c660fd97",
   "metadata": {},
   "outputs": [],
   "source": [
    "if device == 'cuda': \n",
    "    torch.cuda.empty_cache()"
   ]
  },
  {
   "cell_type": "markdown",
   "id": "8a593c68010deef9",
   "metadata": {
    "collapsed": false
   },
   "source": [
    "## Loading Data (Test, Train, Validate)"
   ]
  },
  {
   "cell_type": "code",
   "execution_count": 5,
   "id": "7fe6443cb58bcc50",
   "metadata": {
    "ExecuteTime": {
     "end_time": "2025-03-30T16:27:25.898206600Z",
     "start_time": "2025-03-30T16:27:24.991455600Z"
    },
    "collapsed": false
   },
   "outputs": [],
   "source": [
    "# User Metadata\n",
    "train_metadata = torch.load(\"../Data/Processed_Data/train_metadata_tensor.pth\").to(device)\n",
    "test_metadata = torch.load(\"../Data/Processed_Data/test_metadata_tensor.pth\").to(device)\n",
    "# validate_metadata = torch.load(\"../Data/Processed_Data/validate_metadata_tensor.pth\").to(device)\n",
    "\n",
    "# Tweets Data\n",
    "train_tweets = torch.load(\"../Data/Processed_Data/train_tweet_roberta_emb_tensor.pth\").to(device)\n",
    "test_tweets = torch.load(\"../Data/Processed_Data/test_tweet_roberta_emb_tensor.pth\").to(device)\n",
    "# validate_tweets = torch.load(\"../Data/Processed_Data/validate_tweet_roberta_emb_tensor.pth\").to(device)\n",
    "\n",
    "# Labels\n",
    "train_labels = torch.load(\"../Data/Processed_Data/train_label_tensor.pth\").to(device)\n",
    "test_labels = torch.load(\"../Data/Processed_Data/test_label_tensor.pth\").to(device)\n",
    "# validate_labels = torch.load(\"../Data/Processed_Data/validate_label_tensor.pth\").to(device)"
   ]
  },
  {
   "cell_type": "code",
   "execution_count": 6,
   "id": "a865a28f03981526",
   "metadata": {
    "ExecuteTime": {
     "end_time": "2025-03-30T16:27:33.418677200Z",
     "start_time": "2025-03-30T16:27:33.412839700Z"
    },
    "collapsed": false
   },
   "outputs": [
    {
     "name": "stdout",
     "output_type": "stream",
     "text": [
      "torch.Size([1398465, 768])\n",
      "torch.Size([199863, 768])\n",
      "torch.Size([1398465, 5])\n",
      "torch.Size([199863, 5])\n"
     ]
    }
   ],
   "source": [
    "print(train_tweets.shape)\n",
    "print(test_tweets.shape)\n",
    "# print(validate_tweets.shape)\n",
    "\n",
    "print(train_metadata.shape)\n",
    "print(test_metadata.shape)\n",
    "# print(validate_metadata.shape)"
   ]
  },
  {
   "cell_type": "markdown",
   "id": "d908b156c6a297f0",
   "metadata": {
    "collapsed": false
   },
   "source": [
    "## DenseNet\n",
    "Define Dense Classifier Model. The layers are as defined on the paper: Input Layer, Hidden Layer, then Output Layer. Model parameters are based on Table 2 from the paper. However, some parameter values might not match because of description ambiguity."
   ]
  },
  {
   "cell_type": "code",
   "execution_count": 7,
   "id": "18e7330fa2b9ffc4",
   "metadata": {
    "ExecuteTime": {
     "end_time": "2025-03-31T03:32:16.182440600Z",
     "start_time": "2025-03-31T03:32:16.155595800Z"
    },
    "collapsed": false
   },
   "outputs": [],
   "source": [
    "class DenseBotClassifier(nn.Module):\n",
    "    \n",
    "    def __init__(self, input_dim=768+5, output_dim=1, hidden_input_dim=1024, hidden_dim=512, hidden_output_dim=256, dropout=0.5):\n",
    "        \"\"\"\n",
    "        :param input_dim: (RoBERTa embeddings + metadata) dimension\n",
    "        :param output_dim: 1 for binary classification\n",
    "        :param input_dim: input_layer input dimension\n",
    "        :param output_dim: input_layer output dimension\n",
    "        :param hidden_input_dim: hidden_layer input dimension\n",
    "        :param hidden_dim: hidden_layer intermediate dimension\n",
    "        :param hidden_output_dim: hidden_layer output dimension\n",
    "        :param dropout: adjust for hyperparameter tuning\n",
    "        \"\"\"\n",
    "        super(DenseBotClassifier, self).__init__()\n",
    "        \n",
    "        self.input_layer = nn.Sequential(\n",
    "                            nn.Linear(input_dim, hidden_input_dim),\n",
    "                            nn.BatchNorm1d(hidden_input_dim),\n",
    "                            nn.SELU(),\n",
    "                            nn.Dropout(dropout)\n",
    "                        )\n",
    "        \n",
    "        self.hidden_layer = nn.Sequential(\n",
    "                            nn.Linear(hidden_input_dim, hidden_dim),\n",
    "                            nn.BatchNorm1d(hidden_dim),\n",
    "                            nn.SELU(),\n",
    "                            nn.Linear(hidden_dim, hidden_output_dim),\n",
    "                            nn.BatchNorm1d(hidden_output_dim),\n",
    "                            nn.SELU(),\n",
    "                            nn.Dropout(dropout)\n",
    "                        )                    \n",
    "        \n",
    "        self.output_layer = nn.Linear(hidden_output_dim, output_dim)\n",
    "    \n",
    "    \n",
    "    def forward(self, x):\n",
    "        input_layer_activation = self.input_layer(x)\n",
    "        hidden_layer_activation = self.hidden_layer(input_layer_activation)\n",
    "\n",
    "        return self.output_layer(hidden_layer_activation)"
   ]
  },
  {
   "cell_type": "markdown",
   "id": "3c02f103",
   "metadata": {},
   "source": [
    "## Prepare Data"
   ]
  },
  {
   "cell_type": "markdown",
   "id": "b4a5bcae",
   "metadata": {},
   "source": [
    "Concatenate text embedding with metadata embedding"
   ]
  },
  {
   "cell_type": "code",
   "execution_count": 8,
   "id": "1d01e3b2",
   "metadata": {},
   "outputs": [],
   "source": [
    "train = torch.hstack((train_tweets, train_metadata))\n",
    "test = torch.hstack((test_tweets, test_metadata))"
   ]
  },
  {
   "cell_type": "code",
   "execution_count": 9,
   "id": "275020eb",
   "metadata": {},
   "outputs": [
    {
     "name": "stdout",
     "output_type": "stream",
     "text": [
      "torch.Size([1398465, 773])\n",
      "torch.Size([199863, 773])\n"
     ]
    }
   ],
   "source": [
    "print(train.shape)\n",
    "print(test.shape)"
   ]
  },
  {
   "cell_type": "markdown",
   "id": "420d2518",
   "metadata": {},
   "source": [
    "Create Dataloaders"
   ]
  },
  {
   "cell_type": "code",
   "execution_count": 18,
   "id": "bb8d7698",
   "metadata": {},
   "outputs": [],
   "source": [
    "batch_size = 256  # Batch size for training\n",
    "\n",
    "train_dataset = TensorDataset(train, train_labels)\n",
    "train_loader = DataLoader(train_dataset, batch_size=batch_size, shuffle=True, drop_last=True)\n",
    "\n",
    "test_dataset = TensorDataset(test, test_labels)\n",
    "test_loader = DataLoader(test_dataset, batch_size=batch_size, shuffle=True)"
   ]
  },
  {
   "cell_type": "markdown",
   "id": "73380799711e3073",
   "metadata": {
    "collapsed": false
   },
   "source": [
    "## Model Training"
   ]
  },
  {
   "cell_type": "markdown",
   "id": "810e4fd22abc0ec8",
   "metadata": {
    "collapsed": false
   },
   "source": [
    "Initialize model, loss function, and optimizer"
   ]
  },
  {
   "cell_type": "code",
   "execution_count": 11,
   "id": "1ed327144e25f42b",
   "metadata": {
    "ExecuteTime": {
     "end_time": "2025-03-30T17:02:47.419633400Z",
     "start_time": "2025-03-30T17:02:47.114149700Z"
    },
    "collapsed": false
   },
   "outputs": [],
   "source": [
    "input_size = train.shape[1] # Number of input features (tweet embeddings + metadata)\n",
    "\n",
    "model = DenseBotClassifier(input_size).to(device)\n",
    "criterion = nn.BCEWithLogitsLoss()  # Binary Cross Entropy with logits\n",
    "optimizer = optim.Adam(model.parameters(), lr=0.001)  "
   ]
  },
  {
   "cell_type": "markdown",
   "id": "23e589c55e31204c",
   "metadata": {
    "collapsed": false
   },
   "source": [
    "Train model"
   ]
  },
  {
   "cell_type": "code",
   "execution_count": 12,
   "id": "3e57d9ef8568a91c",
   "metadata": {
    "ExecuteTime": {
     "end_time": "2025-03-30T17:26:47.222252400Z",
     "start_time": "2025-03-30T17:26:47.207762Z"
    },
    "collapsed": false
   },
   "outputs": [],
   "source": [
    "def train_model(model, train_loader, optimizer, criterion, epochs=10):\n",
    "    \"\"\"\n",
    "    :param model: bot classifier\n",
    "    :param train_loader: training dataset\n",
    "    :param optimizer: Adam as specified on paper\n",
    "    :param criterion: BCE as specified on paper\n",
    "    :param epochs: adjust for hyperparameter tuning\n",
    "    :return: None\n",
    "    \"\"\"\n",
    "    model.train()\n",
    "    for epoch in range(epochs):\n",
    "        total_loss = 0\n",
    "        progress_bar = tqdm(train_loader, desc=f\"Epoch {epoch+1}/{epochs}\", leave=True, dynamic_ncols=True, position=0) \n",
    "        \n",
    "        for i, batch in enumerate(progress_bar):\n",
    "            embeddings, labels = batch[0].float().to(device), batch[1].float().to(device)\n",
    "            optimizer.zero_grad()\n",
    "            outputs = model(embeddings).squeeze(1)  # Ensure correct shape\n",
    "            loss = criterion(outputs, labels)\n",
    "            loss.backward()\n",
    "            optimizer.step()\n",
    "            total_loss += loss.item()\n",
    "\n",
    "            if i % 10 == 0:\n",
    "                progress_bar.set_postfix(loss=f\"{loss.item():.4f}\")"
   ]
  },
  {
   "cell_type": "code",
   "execution_count": null,
   "id": "8e6c7a51-5cd5-4041-994f-965c9c9c2cfb",
   "metadata": {},
   "outputs": [],
   "source": [
    "train_model(model, train_loader, optimizer, criterion, epochs=10)"
   ]
  },
  {
   "cell_type": "markdown",
   "id": "4e2c97f4f66d9e66",
   "metadata": {
    "collapsed": false
   },
   "source": [
    "## Model Evaluation"
   ]
  },
  {
   "cell_type": "markdown",
   "id": "5b76836d7136a84a",
   "metadata": {
    "collapsed": false
   },
   "source": [
    "Evaluate model"
   ]
  },
  {
   "cell_type": "code",
   "execution_count": 13,
   "id": "820cdf456fe7e3cb",
   "metadata": {
    "ExecuteTime": {
     "end_time": "2025-03-30T17:34:10.462433800Z",
     "start_time": "2025-03-30T17:34:10.452921800Z"
    },
    "collapsed": false
   },
   "outputs": [],
   "source": [
    "def evaluate_model(model, test_loader):\n",
    "    \"\"\"\n",
    "    :param model: bot classifier\n",
    "    :param test_loader: testing dataset\n",
    "    :return: None\n",
    "    \"\"\"\n",
    "    model.eval()\n",
    "    preds, true_labels = [], []\n",
    "    \n",
    "    with torch.no_grad():\n",
    "        progress_bar = tqdm(test_loader, desc=\"Evaluating\", unit=\"batch\", dynamic_ncols=True, position=0)\n",
    "        \n",
    "        for batch in progress_bar:\n",
    "            embeddings, labels = batch[0].float().to(device), batch[1].float().to(device)\n",
    "            outputs = model(embeddings).squeeze(1)\n",
    "            probs = torch.sigmoid(outputs)\n",
    "            preds.extend((probs > 0.5).cpu().numpy())\n",
    "            true_labels.extend(labels.cpu().numpy())\n",
    "    \n",
    "    acc = accuracy_score(true_labels, preds)\n",
    "    f1 = f1_score(true_labels, preds, average='weighted')  # Adjust 'weighted' if needed\n",
    "    mcc = matthews_corrcoef(true_labels, preds)\n",
    "    \n",
    "    return acc, f1, mcc"
   ]
  },
  {
   "cell_type": "code",
   "execution_count": null,
   "id": "3bd0284e70703e8b",
   "metadata": {
    "ExecuteTime": {
     "end_time": "2025-03-30T17:34:27.295288300Z",
     "start_time": "2025-03-30T17:34:25.221089900Z"
    },
    "collapsed": false
   },
   "outputs": [],
   "source": [
    "evaluate_model(model, test_loader)"
   ]
  },
  {
   "cell_type": "markdown",
   "id": "6a0d120d",
   "metadata": {},
   "source": [
    "## Grid search"
   ]
  },
  {
   "cell_type": "markdown",
   "id": "e6d2a71b-248a-48ad-be85-3bd8d31d1e68",
   "metadata": {},
   "source": [
    "Define parameter grid"
   ]
  },
  {
   "cell_type": "code",
   "execution_count": 50,
   "id": "2eca41d5",
   "metadata": {},
   "outputs": [],
   "source": [
    "param_grid = {\n",
    "    \"learning_rate\": [0.001],\n",
    "    \"dropout\": [0.5],\n",
    "    \"hidden_input_dim\": [1024],\n",
    "    \"hidden_dim\": [512],\n",
    "    \"hidden_output_dim\": [256],\n",
    "    \"batch_size\": [256],\n",
    "    \"epochs\": [10],\n",
    "    \"weight_decay\": [0.015]\n",
    "}\n",
    "\n",
    "# Generate all combinations\n",
    "param_combinations = list(itertools.product(*param_grid.values()))"
   ]
  },
  {
   "cell_type": "markdown",
   "id": "8deee89e-7c60-4d96-b12e-03cc656c71ef",
   "metadata": {},
   "source": [
    "Run grid search and save results"
   ]
  },
  {
   "cell_type": "code",
   "execution_count": null,
   "id": "0825e947",
   "metadata": {},
   "outputs": [],
   "source": [
    "# Define CSV file path\n",
    "csv_filename = \"../Data/Tuning_Results/hyperparameter_results_RoBERTa_DenseNet.csv\"\n",
    "\n",
    "# Load existing results if the CSV exists\n",
    "if os.path.exists(csv_filename):\n",
    "    existing_results = pd.read_csv(csv_filename)\n",
    "else:\n",
    "    existing_results = pd.DataFrame(columns=[\"learning_rate\", \"dropout\", \"hidden_input_dim\", \"hidden_dim\", \"hidden_output_dim\", \"batch_size\", \"epochs\", \"weight_decay\", \"accuracy\", \"f1_score\", \"mcc\"])\n",
    "\n",
    "# Convert existing results to a set of tested hyperparameters\n",
    "tested_params = set(\n",
    "    tuple(row) for row in existing_results[[\"learning_rate\", \"dropout\", \"hidden_input_dim\", \"hidden_dim\", \"hidden_output_dim\", \"batch_size\", \"epochs\", \"weight_decay\"]].values\n",
    ")\n",
    "\n",
    "# Filter out already tested hyperparameters\n",
    "new_param_combinations = [params for params in param_combinations if params not in tested_params]\n",
    "\n",
    "print(f\"Total hyperparameter sets to test: {len(new_param_combinations)}\")\n",
    "\n",
    "# Loop through only new hyperparameter combinations\n",
    "for i, params in enumerate(new_param_combinations):\n",
    "    print(\"-----------------------------------------------------------------------------------------------------\")\n",
    "    print(f\"Processing parameters {i+1}/{len(new_param_combinations)}\") \n",
    "    \n",
    "    lr, dropout, hidden_input, hidden, hidden_output, batch_size, epochs, weight_decay = params\n",
    "\n",
    "    # Create Data Loaders\n",
    "    train_loader = DataLoader(train_dataset, batch_size=batch_size, shuffle=True, drop_last=True)\n",
    "    test_loader = DataLoader(test_dataset, batch_size=batch_size, shuffle=True)\n",
    "    \n",
    "    # Initialize model\n",
    "    model = DenseBotClassifier(\n",
    "        input_dim=train.shape[1],\n",
    "        output_dim=1,\n",
    "        hidden_input_dim=hidden_input,\n",
    "        hidden_dim=hidden,\n",
    "        hidden_output_dim=hidden_output,\n",
    "        dropout=dropout\n",
    "    ).to(device)\n",
    "\n",
    "    # Define loss and optimizer\n",
    "    criterion = nn.BCEWithLogitsLoss()\n",
    "    optimizer = optim.Adam(model.parameters(), lr=lr, weight_decay=weight_decay)\n",
    "    \n",
    "    # Train the model\n",
    "    train_model(model, train_loader, optimizer, criterion, epochs=epochs)\n",
    "    \n",
    "    # Evaluate the model\n",
    "    acc, f1, mcc = evaluate_model(model, test_loader)\n",
    "\n",
    "    # Save model checkpoint\n",
    "    model_filename = f\"../Data/Processed_Data/model_lr{lr}_dropout{dropout}_dim{hidden_input}-{hidden}-{hidden_output}_batch{batch_size}_epochs{epochs}_wd{weight_decay}.pth\"\n",
    "    torch.save(model.state_dict(), model_filename)\n",
    "    print(f\"Model saved: {model_filename}\")\n",
    "    \n",
    "    # Save results\n",
    "    df_new = pd.DataFrame([{\n",
    "        \"learning_rate\": lr,\n",
    "        \"dropout\": dropout,\n",
    "        \"hidden_input_dim\": hidden_input,\n",
    "        \"hidden_dim\": hidden,\n",
    "        \"hidden_output_dim\": hidden_output,\n",
    "        \"batch_size\": batch_size,\n",
    "        \"epochs\": epochs,\n",
    "        \"weight_decay\": weight_decay,\n",
    "        \"accuracy\": acc,\n",
    "        \"f1_score\": f1,\n",
    "        \"mcc\": mcc\n",
    "    }])\n",
    "    \n",
    "    df_new.to_csv(csv_filename, mode='a', header=not os.path.exists(csv_filename), index=False)\n",
    "\n",
    "print(\"Grid search complete. Results saved to hyperparameter_results_RoBERTa_DenseNet.csv.\")"
   ]
  }
 ],
 "metadata": {
  "kernelspec": {
   "display_name": "Python 3",
   "language": "python",
   "name": "python3"
  },
  "language_info": {
   "codemirror_mode": {
    "name": "ipython",
    "version": 3
   },
   "file_extension": ".py",
   "mimetype": "text/x-python",
   "name": "python",
   "nbconvert_exporter": "python",
   "pygments_lexer": "ipython3",
   "version": "3.10.10"
  }
 },
 "nbformat": 4,
 "nbformat_minor": 5
}

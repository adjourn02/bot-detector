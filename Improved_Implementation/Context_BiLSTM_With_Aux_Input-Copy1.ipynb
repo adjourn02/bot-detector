{
 "cells": [
  {
   "cell_type": "markdown",
   "id": "bb7b5605",
   "metadata": {},
   "source": [
    "# Contextual BiLSTM with Auxiliary Input(Metadata) followed by 2 fully connected layers"
   ]
  },
  {
   "cell_type": "markdown",
   "id": "2ca6d8d5",
   "metadata": {},
   "source": [
    "# Imports"
   ]
  },
  {
   "cell_type": "code",
   "execution_count": 68,
   "id": "9333d8db",
   "metadata": {
    "ExecuteTime": {
     "end_time": "2025-03-29T20:08:25.158253700Z",
     "start_time": "2025-03-29T20:08:24.835247800Z"
    }
   },
   "outputs": [],
   "source": [
    "import pandas as pd\n",
    "import torch\n",
    "import torch.nn as nn\n",
    "import torch.optim as optim\n",
    "from torch.utils.data import Dataset, DataLoader, TensorDataset\n",
    "import numpy as np\n",
    "\n",
    "# Visualization\n",
    "import matplotlib.pyplot as plt"
   ]
  },
  {
   "cell_type": "markdown",
   "id": "1bfda4c7",
   "metadata": {},
   "source": [
    "# Helper Functions"
   ]
  },
  {
   "cell_type": "code",
   "execution_count": 69,
   "id": "53c0f6cd",
   "metadata": {},
   "outputs": [],
   "source": [
    "# Function to calculate TP, FP, TN, FN\n",
    "def calculate_confusion_values(y_true, y_pred):\n",
    "    \"\"\"\n",
    "    Calculate TP, FP, TN, FN for binary classification.\n",
    "    \n",
    "    Args:\n",
    "        y_true (tensor): Ground truth labels.\n",
    "        y_pred (tensor): Predicted labels.\n",
    "        \n",
    "    Returns:\n",
    "        tuple: (TP, FP, TN, FN)\n",
    "    \"\"\"\n",
    "    TP = ((y_true == 1) & (y_pred == 1)).sum().item()  # True Positive: True labels are 1, Predicted labels are 1\n",
    "    FP = ((y_true == 0) & (y_pred == 1)).sum().item()  # False Positive: True labels are 0, Predicted labels are 1\n",
    "    TN = ((y_true == 0) & (y_pred == 0)).sum().item()  # True Negative: True labels are 0, Predicted labels are 0\n",
    "    FN = ((y_true == 1) & (y_pred == 0)).sum().item()  # False Negative: True labels are 1, Predicted labels are 0\n",
    "    \n",
    "    return TP, FP, TN, FN"
   ]
  },
  {
   "cell_type": "markdown",
   "id": "0b52c301",
   "metadata": {},
   "source": [
    "## Loading Data (Test, Train, Validate)"
   ]
  },
  {
   "cell_type": "code",
   "execution_count": 70,
   "id": "7feec608",
   "metadata": {
    "ExecuteTime": {
     "end_time": "2025-03-29T20:08:28.107869600Z",
     "start_time": "2025-03-29T20:08:24.884578400Z"
    }
   },
   "outputs": [],
   "source": [
    "\n",
    "# User Metadata\n",
    "train_metadata = torch.load(\"./Data/Processed_Data/train_metadata_tensor.pth\")\n",
    "test_metadata = torch.load(\"./Data/Processed_Data/test_metadata_tensor.pth\")\n",
    "validate_metadata = torch.load(\"./Data/Processed_Data/validate_metadata_tensor.pth\")\n",
    "\n",
    "# Tweets Data\n",
    "train_tweets = torch.load(\"./Data/Processed_Data/train_tweet_emb_tensor.pth\")\n",
    "test_tweets = torch.load(\"./Data/Processed_Data/test_tweet_emb_tensor.pth\")\n",
    "validate_tweets = torch.load(\"./Data/Processed_Data/validate_tweet_emb_tensor.pth\")\n",
    "\n",
    "# Labels\n",
    "train_labels = torch.load(\"./Data/Processed_Data/train_label_tensor.pth\")\n",
    "test_labels = torch.load(\"./Data/Processed_Data/test_label_tensor.pth\")\n",
    "validate_labels = torch.load(\"./Data/Processed_Data/validate_label_tensor.pth\")"
   ]
  },
  {
   "cell_type": "code",
   "execution_count": 71,
   "id": "6db83c63",
   "metadata": {
    "ExecuteTime": {
     "end_time": "2025-03-29T20:08:28.165371800Z",
     "start_time": "2025-03-29T20:08:28.098131900Z"
    }
   },
   "outputs": [
    {
     "name": "stdout",
     "output_type": "stream",
     "text": [
      "torch.Size([1398465, 200])\n",
      "torch.Size([199863, 200])\n",
      "torch.Size([401540, 200])\n"
     ]
    }
   ],
   "source": [
    "print(train_tweets.shape)\n",
    "print(test_tweets.shape)\n",
    "print(validate_tweets.shape)"
   ]
  },
  {
   "cell_type": "code",
   "execution_count": 72,
   "id": "f3c25343",
   "metadata": {},
   "outputs": [
    {
     "data": {
      "text/plain": [
       "<torch._C.Generator at 0x147c8e4f0>"
      ]
     },
     "execution_count": 72,
     "metadata": {},
     "output_type": "execute_result"
    }
   ],
   "source": [
    "# For Reproducability\n",
    "seed = 42\n",
    "torch.manual_seed(seed)"
   ]
  },
  {
   "cell_type": "code",
   "execution_count": 73,
   "id": "19b3e5ce",
   "metadata": {},
   "outputs": [
    {
     "name": "stdout",
     "output_type": "stream",
     "text": [
      "torch.Size([641831])\n",
      "torch.Size([756634])\n",
      "torch.Size([559386])\n",
      "torch.Size([559386])\n"
     ]
    }
   ],
   "source": [
    "# Using only 50% of training for time constraints\n",
    "num_samples = int(train_tweets.shape[0] * 0.8) // 2\n",
    "\n",
    "class_0_indices = torch.nonzero(train_labels == 0).squeeze()\n",
    "class_1_indices = torch.nonzero(train_labels == 1).squeeze()\n",
    "\n",
    "print(class_0_indices.shape)\n",
    "print(class_1_indices.shape)\n",
    "\n",
    "# Shuffle the indices using torch.randperm\n",
    "shuffled_class_0_indices = class_0_indices[torch.randperm(class_0_indices.size(0))]\n",
    "shuffled_class_1_indices = class_1_indices[torch.randperm(class_1_indices.size(0))]\n",
    "\n",
    "# Select an equal number of samples from each class\n",
    "class_0_sampled_indices = shuffled_class_0_indices[:num_samples]\n",
    "class_1_sampled_indices = shuffled_class_1_indices[:num_samples]\n",
    "\n",
    "print(class_0_sampled_indices.shape)\n",
    "print(class_1_sampled_indices.shape)\n",
    "\n",
    "# Combine the selected indices for a balanced dataset\n",
    "balanced_indices = torch.cat((class_0_sampled_indices, class_1_sampled_indices))"
   ]
  },
  {
   "cell_type": "code",
   "execution_count": 74,
   "id": "599e6c69",
   "metadata": {
    "ExecuteTime": {
     "end_time": "2025-03-29T20:08:29.199543400Z",
     "start_time": "2025-03-29T20:08:28.121957600Z"
    }
   },
   "outputs": [
    {
     "name": "stdout",
     "output_type": "stream",
     "text": [
      "torch.Size([1118772, 200])\n"
     ]
    }
   ],
   "source": [
    "train_tweets = train_tweets[balanced_indices]\n",
    "train_metadata = train_metadata[balanced_indices]\n",
    "train_labels = train_labels[balanced_indices]\n",
    "\n",
    "print(train_tweets.shape)"
   ]
  },
  {
   "cell_type": "code",
   "execution_count": 75,
   "id": "16594e92",
   "metadata": {},
   "outputs": [
    {
     "name": "stdout",
     "output_type": "stream",
     "text": [
      "tensor(0.5150)\n",
      "tensor(0.4850)\n"
     ]
    }
   ],
   "source": [
    "print((test_labels == True).sum() / test_labels.shape[0])\n",
    "print((test_labels == False).sum() / test_labels.shape[0])"
   ]
  },
  {
   "cell_type": "code",
   "execution_count": 76,
   "id": "846d2891",
   "metadata": {},
   "outputs": [
    {
     "name": "stdout",
     "output_type": "stream",
     "text": [
      "tensor(0.5000)\n",
      "tensor(0.5000)\n"
     ]
    }
   ],
   "source": [
    "print((train_labels == True).sum() / train_labels.shape[0])\n",
    "print((train_labels == False).sum() / train_labels.shape[0])"
   ]
  },
  {
   "cell_type": "markdown",
   "id": "6a327619",
   "metadata": {},
   "source": [
    "\n",
    "## Passing tweets through LSTM"
   ]
  },
  {
   "cell_type": "code",
   "execution_count": 77,
   "id": "96cf4293",
   "metadata": {
    "ExecuteTime": {
     "end_time": "2025-03-29T20:08:29.245355500Z",
     "start_time": "2025-03-29T20:08:29.192355100Z"
    }
   },
   "outputs": [],
   "source": [
    "# BiLSTM Model\n",
    "class LSTMModel(nn.Module):\n",
    "    \n",
    "    def __init__(self, input_size, hidden_size, output_size, num_layers=1, dropout_rate = 0.0):\n",
    "        super(LSTMModel, self).__init__()\n",
    "        \n",
    "        # Define the LSTM layer\n",
    "        self.lstm = nn.LSTM(input_size, hidden_size, num_layers, batch_first=False, bidirectional = True, dropout = dropout_rate)\n",
    "        \n",
    "        # Define a fully connected output layer\n",
    "        self.fc = nn.Linear(hidden_size * 2, output_size)\n",
    "        \n",
    "    def forward(self, x):\n",
    "        # Pass through BiLSTM\n",
    "        lstm_out, (hn, cn) = self.lstm(x)\n",
    "        \n",
    "        \n",
    "        output = self.fc(lstm_out[:, -1, :])\n",
    "         \n",
    "        return output"
   ]
  },
  {
   "cell_type": "code",
   "execution_count": 78,
   "id": "c39c0eda",
   "metadata": {
    "ExecuteTime": {
     "end_time": "2025-03-29T20:08:29.391024300Z",
     "start_time": "2025-03-29T20:08:29.220450100Z"
    }
   },
   "outputs": [],
   "source": [
    "# LSTM Model Parameters\n",
    "\n",
    "input_size = 200 # Number of features in input data(200 for 200D embeddings)\n",
    "hidden_size = 50\n",
    "output_size = 32\n",
    "number_layers = 1 # Number of LSTM Layers\n",
    "\n",
    "# Creating LSTM Model\n",
    "\n",
    "lstm_model = LSTMModel(input_size = input_size, hidden_size = hidden_size, output_size = output_size, \n",
    "                      num_layers = number_layers)"
   ]
  },
  {
   "cell_type": "code",
   "execution_count": 79,
   "id": "de497f17",
   "metadata": {
    "ExecuteTime": {
     "end_time": "2025-03-29T20:08:35.276191300Z",
     "start_time": "2025-03-29T20:08:29.246351900Z"
    }
   },
   "outputs": [],
   "source": [
    "train_input_data = train_tweets.unsqueeze(1)\n",
    "train_input_data = train_input_data.to(torch.float32)\n",
    "\n",
    "test_input_data = test_tweets.unsqueeze(1)\n",
    "test_input_data = test_input_data.to(torch.float32)\n",
    "\n",
    "validate_input_data = validate_tweets.unsqueeze(1)\n",
    "validate_input_data = validate_input_data.to(torch.float32)\n",
    "\n",
    "# Getting lstm_output for datasets\n",
    "train_lstm_output = lstm_model(train_input_data)\n",
    "train_lstm_output = train_lstm_output.detach()\n",
    "\n",
    "test_lstm_output = lstm_model(test_input_data)\n",
    "test_lstm_output = test_lstm_output.detach()\n",
    "\n",
    "validate_lstm_output = lstm_model(validate_input_data)\n",
    "validate_lstm_output = validate_lstm_output.detach()"
   ]
  },
  {
   "cell_type": "code",
   "execution_count": 80,
   "id": "53cd2ead",
   "metadata": {
    "ExecuteTime": {
     "end_time": "2025-03-29T20:08:35.301895700Z",
     "start_time": "2025-03-29T20:08:35.281195700Z"
    }
   },
   "outputs": [
    {
     "name": "stdout",
     "output_type": "stream",
     "text": [
      "torch.Size([1118772, 32])\n"
     ]
    }
   ],
   "source": [
    "print(train_lstm_output.shape)"
   ]
  },
  {
   "cell_type": "markdown",
   "id": "0016517a",
   "metadata": {},
   "source": [
    "## Concatenating with aux input (user metadata)"
   ]
  },
  {
   "cell_type": "code",
   "execution_count": 81,
   "id": "f4c34093",
   "metadata": {
    "ExecuteTime": {
     "end_time": "2025-03-29T20:08:35.394019800Z",
     "start_time": "2025-03-29T20:08:35.293893200Z"
    }
   },
   "outputs": [],
   "source": [
    "x_train = torch.hstack((train_lstm_output, train_metadata)).to(torch.float32)\n",
    "\n",
    "x_test = torch.hstack((test_lstm_output, test_metadata)).to(torch.float32)\n",
    "\n",
    "x_validate = torch.hstack((validate_lstm_output, validate_metadata)).to(torch.float32)"
   ]
  },
  {
   "cell_type": "code",
   "execution_count": 82,
   "id": "0dc5f66b",
   "metadata": {
    "ExecuteTime": {
     "end_time": "2025-03-29T20:08:35.418039Z",
     "start_time": "2025-03-29T20:08:35.400095700Z"
    }
   },
   "outputs": [],
   "source": [
    "y_train = train_labels.view(-1, 1).to(torch.float32)\n",
    "\n",
    "y_test = test_labels.view(-1, 1).to(torch.float32)\n",
    "\n",
    "y_validate = validate_labels.view(-1, 1).to(torch.float32)"
   ]
  },
  {
   "cell_type": "code",
   "execution_count": 83,
   "id": "cc829a3c",
   "metadata": {
    "ExecuteTime": {
     "end_time": "2025-03-29T20:08:35.442691200Z",
     "start_time": "2025-03-29T20:08:35.413719400Z"
    }
   },
   "outputs": [
    {
     "name": "stdout",
     "output_type": "stream",
     "text": [
      "torch.Size([1118772, 37]) torch.Size([1118772, 1])\n",
      "torch.Size([199863, 37]) torch.Size([199863, 1])\n",
      "torch.Size([401540, 37]) torch.Size([401540, 1])\n"
     ]
    }
   ],
   "source": [
    "print(x_train.shape, y_train.shape)\n",
    "print(x_test.shape, y_test.shape)\n",
    "print(x_validate.shape, y_validate.shape)"
   ]
  },
  {
   "cell_type": "code",
   "execution_count": 84,
   "id": "6743abae",
   "metadata": {
    "ExecuteTime": {
     "end_time": "2025-03-29T20:08:35.490668900Z",
     "start_time": "2025-03-29T20:08:35.426309600Z"
    }
   },
   "outputs": [
    {
     "data": {
      "text/plain": [
       "tensor([[0.],\n",
       "        [0.],\n",
       "        [0.],\n",
       "        ...,\n",
       "        [1.],\n",
       "        [1.],\n",
       "        [1.]])"
      ]
     },
     "execution_count": 84,
     "metadata": {},
     "output_type": "execute_result"
    }
   ],
   "source": [
    "x_train.requires_grad_(False)\n",
    "y_train.requires_grad_(False)"
   ]
  },
  {
   "cell_type": "markdown",
   "id": "60ae5e19",
   "metadata": {},
   "source": [
    "## Creating Neural Network"
   ]
  },
  {
   "cell_type": "code",
   "execution_count": 85,
   "id": "ef0a6065",
   "metadata": {
    "ExecuteTime": {
     "end_time": "2025-03-29T20:08:35.491653300Z",
     "start_time": "2025-03-29T20:08:35.457025Z"
    }
   },
   "outputs": [],
   "source": [
    "class NeuralNetwork(nn.Module):\n",
    "    \n",
    "    def __init__(self, input_size, hidden_size_1, hidden_size_2, output_size):\n",
    "        super(NeuralNetwork, self).__init__()\n",
    "        self.fc1 = nn.Linear(input_size, hidden_size_1)  # First fully connected layer\n",
    "        self.fc2 = nn.Linear(hidden_size_1, hidden_size_2)  # Second fully connected layer\n",
    "        self.out = nn.Linear(hidden_size_2, output_size)\n",
    "        self.dropout = nn.Dropout(p = 0.2)\n",
    "        \n",
    "    def forward(self, x):\n",
    "        x = torch.relu(self.fc1(x))  # Apply ReLU activation after the first layer\n",
    "        x = self.dropout(x)\n",
    "        x = torch.relu(self.fc2(x))  # Output layer\n",
    "        \n",
    "        x = self.out(x)\n",
    "        return x"
   ]
  },
  {
   "cell_type": "code",
   "execution_count": 86,
   "id": "02de3bae",
   "metadata": {
    "ExecuteTime": {
     "end_time": "2025-03-29T20:30:55.691292Z",
     "start_time": "2025-03-29T20:30:55.684281Z"
    }
   },
   "outputs": [],
   "source": [
    "# Network Parameters\n",
    "\n",
    "input_size = 37 #40  # Number of input features (tweet embeddings + metadata)\n",
    "hidden_size_1 = 128  # Number of hidden units in the first fully connected layer\n",
    "hidden_size_2 = 64  # Number of hidden units in the first fully connected layer\n",
    "output_size = 1  # Output size (binary classification: 1 output)\n",
    "batch_size = 64  # Batch size for training"
   ]
  },
  {
   "cell_type": "code",
   "execution_count": 87,
   "id": "eb299dc6",
   "metadata": {
    "ExecuteTime": {
     "end_time": "2025-03-29T20:30:56.813146300Z",
     "start_time": "2025-03-29T20:30:56.802580500Z"
    }
   },
   "outputs": [],
   "source": [
    "# Creating dataloader\n",
    "    \n",
    "dataset = TensorDataset(x_train, y_train)\n",
    "dataloader = DataLoader(dataset, batch_size=batch_size, shuffle=True)\n",
    "\n",
    "val_dataset = TensorDataset(x_validate, y_validate)\n",
    "validate_loader = DataLoader(val_dataset, batch_size = batch_size, shuffle = False)"
   ]
  },
  {
   "cell_type": "code",
   "execution_count": 88,
   "id": "25672dac",
   "metadata": {
    "ExecuteTime": {
     "end_time": "2025-03-29T20:30:57.937658400Z",
     "start_time": "2025-03-29T20:30:57.929123700Z"
    }
   },
   "outputs": [],
   "source": [
    "# Initialize mode, loss function, and optimizer\n",
    "torch.manual_seed(seed)\n",
    "model = NeuralNetwork(input_size, hidden_size_1, hidden_size_2, output_size)\n",
    "criterion = nn.BCEWithLogitsLoss()  # Binary Cross Entropy with logits\n",
    "optimizer = optim.Adam(model.parameters(), lr=0.0001)  "
   ]
  },
  {
   "cell_type": "code",
   "execution_count": 89,
   "id": "52005af5",
   "metadata": {
    "ExecuteTime": {
     "end_time": "2025-03-29T20:32:55.923284400Z",
     "start_time": "2025-03-29T20:30:59.732531200Z"
    },
    "scrolled": false
   },
   "outputs": [
    {
     "name": "stdout",
     "output_type": "stream",
     "text": [
      "Epoch [1/25], Loss: 58.3175\n",
      "Epoch [2/25], Loss: 6.6638\n",
      "Epoch [3/25], Loss: 0.6313\n",
      "Epoch [4/25], Loss: 0.5449\n",
      "Epoch [5/25], Loss: 0.5353\n",
      "Epoch [6/25], Loss: 0.5372\n",
      "Epoch [7/25], Loss: 0.5313\n",
      "Epoch [8/25], Loss: 0.5327\n",
      "Epoch [9/25], Loss: 0.5198\n",
      "Epoch [10/25], Loss: 0.5159\n",
      "Epoch [11/25], Loss: 0.5161\n",
      "Epoch [12/25], Loss: 0.5208\n",
      "Epoch [13/25], Loss: 0.5226\n",
      "Epoch [14/25], Loss: 0.5091\n",
      "Epoch [15/25], Loss: 0.5182\n",
      "Epoch [16/25], Loss: 0.5068\n",
      "Epoch [17/25], Loss: 0.5034\n",
      "Epoch [18/25], Loss: 0.4926\n",
      "Epoch [19/25], Loss: 0.4880\n",
      "Epoch [20/25], Loss: 0.4843\n",
      "Epoch [21/25], Loss: 0.4836\n",
      "Epoch [22/25], Loss: 0.4840\n",
      "Epoch [23/25], Loss: 0.4886\n",
      "Epoch [24/25], Loss: 0.4762\n",
      "Epoch [25/25], Loss: 0.4710\n"
     ]
    }
   ],
   "source": [
    "val_errors = []\n",
    "epochs = []\n",
    "train_errors = []\n",
    "# Training the model\n",
    "num_epochs = 25  # Number of epochs to train\n",
    "\n",
    "for epoch in range(num_epochs):\n",
    "    torch.manual_seed(seed)\n",
    "    model.train()  # Set the model to training mode\n",
    "    running_loss = 0.0\n",
    "    train_correct = 0\n",
    "    train_total = 0\n",
    "    for inputs, labels in dataloader:\n",
    "        # Zero the gradients\n",
    "        optimizer.zero_grad()\n",
    "        \n",
    "        # Forward pass\n",
    "        outputs = model(inputs)\n",
    "        \n",
    "        # Compute loss\n",
    "        loss = criterion(outputs, labels)\n",
    "        \n",
    "        # Backward pass and optimization\n",
    "        loss.backward()\n",
    "        optimizer.step()\n",
    "        \n",
    "        running_loss += loss.item()\n",
    "        \n",
    "        # Getting training error\n",
    "        predictions_binary = (outputs > 0).float()\n",
    "            \n",
    "        TP, FP, TN, FN = calculate_confusion_values(labels, predictions_binary)\n",
    "            \n",
    "        train_correct += (TP + TN) \n",
    "        train_total += labels.shape[0]\n",
    "            \n",
    "    train_error = 100 - (100 * (train_correct * 1.0 / train_total))\n",
    "    train_errors.append(train_error)\n",
    "    \n",
    "    avg_loss = running_loss / len(dataloader)\n",
    "    print(f\"Epoch [{epoch+1}/{num_epochs}], Loss: {avg_loss:.4f}\")\n",
    "    \n",
    "    # Validation Error\n",
    "    model.eval() \n",
    "    correct = 0\n",
    "    total = 0\n",
    "    with torch.no_grad(): \n",
    "        for inputs, labels in validate_loader:\n",
    "\n",
    "            predictions = model(inputs)\n",
    "            predictions_binary = (predictions > 0).float()\n",
    "            \n",
    "            TP, FP, TN, FN = calculate_confusion_values(labels, predictions_binary)\n",
    "            \n",
    "            correct += (TP + TN) \n",
    "            total += labels.shape[0]\n",
    "            \n",
    "    val_error = 100 - (100 * (correct * 1.0 / total))\n",
    "    val_errors.append(val_error)\n",
    "    epochs.append(epoch)"
   ]
  },
  {
   "cell_type": "markdown",
   "id": "e43f9f92",
   "metadata": {},
   "source": [
    "# Visualizing Training"
   ]
  },
  {
   "cell_type": "code",
   "execution_count": 90,
   "id": "61ac1434",
   "metadata": {},
   "outputs": [
    {
     "data": {
      "image/png": "[encoded data removed]",
      "text/plain": [
       "<Figure size 640x480 with 1 Axes>"
      ]
     },
     "metadata": {},
     "output_type": "display_data"
    }
   ],
   "source": [
    "plt.plot(epochs, val_errors, label = \"Val Error\")\n",
    "plt.plot(epochs, train_errors, label = \"Train Error\")\n",
    "plt.ylabel(\"Error\")\n",
    "plt.xlabel(\"Epoch\")\n",
    "plt.title(\"Training/Validation Error vs Epochs\")\n",
    "\n",
    "plt.legend()\n",
    "\n",
    "plt.show()"
   ]
  },
  {
   "cell_type": "markdown",
   "id": "9457eae0",
   "metadata": {},
   "source": [
    "## Metrics"
   ]
  },
  {
   "cell_type": "code",
   "execution_count": 91,
   "id": "b3a9e219",
   "metadata": {
    "ExecuteTime": {
     "end_time": "2025-03-29T20:33:43.741684100Z",
     "start_time": "2025-03-29T20:33:43.703455Z"
    }
   },
   "outputs": [
    {
     "name": "stdout",
     "output_type": "stream",
     "text": [
      "Predictions: tensor([[1.],\n",
      "        [1.],\n",
      "        [1.],\n",
      "        ...,\n",
      "        [1.],\n",
      "        [1.],\n",
      "        [1.]])\n"
     ]
    }
   ],
   "source": [
    "# Set the model to evaluation mode \n",
    "model.eval()\n",
    "\n",
    "# Make predictions\n",
    "with torch.no_grad():  # Disable gradient calculation to save memory and computations\n",
    "    predictions = model(x_test)\n",
    "    \n",
    "predictions_binary = (predictions > 0).float()\n",
    "print(\"Predictions:\", predictions_binary)"
   ]
  },
  {
   "cell_type": "code",
   "execution_count": 92,
   "id": "d10f8317",
   "metadata": {
    "ExecuteTime": {
     "end_time": "2025-03-29T20:33:48.135562100Z",
     "start_time": "2025-03-29T20:33:48.119039800Z"
    }
   },
   "outputs": [],
   "source": [
    "TP, FP, TN, FN = calculate_confusion_values(y_test, predictions_binary)"
   ]
  },
  {
   "cell_type": "code",
   "execution_count": 93,
   "id": "edc80754",
   "metadata": {
    "ExecuteTime": {
     "end_time": "2025-03-29T20:33:50.325264Z",
     "start_time": "2025-03-29T20:33:50.319777800Z"
    }
   },
   "outputs": [
    {
     "name": "stdout",
     "output_type": "stream",
     "text": [
      "Accuracy: 82.35991654283184\n",
      "F1-Score 84.18602147643782\n",
      "MCC Score: 65.48052341611161\n"
     ]
    }
   ],
   "source": [
    "# accuracy\n",
    "accuracy = (TP + TN) / (TP + FP + TN + FN) * 100.0\n",
    "print(\"Accuracy:\", accuracy)\n",
    "\n",
    "# F1\n",
    "f1_score = TP / (TP + 0.5 * (FP + FN)) * 100.0\n",
    "print(\"F1-Score\", f1_score)\n",
    "\n",
    "# MCC\n",
    "mcc_score = ((TP * TN) - (FP * FN)) / (((TP +FP) * (TP + FN) * (TN + FP) * (TN + FN)) ** 0.5) * 100.0\n",
    "\n",
    "print(\"MCC Score:\", mcc_score)"
   ]
  },
  {
   "cell_type": "code",
   "execution_count": 94,
   "id": "52507863",
   "metadata": {
    "ExecuteTime": {
     "end_time": "2025-03-29T20:33:52.252911100Z",
     "start_time": "2025-03-29T20:33:52.215412400Z"
    }
   },
   "outputs": [
    {
     "name": "stdout",
     "output_type": "stream",
     "text": [
      "195817\n"
     ]
    }
   ],
   "source": [
    "print(len(predictions.unique()))"
   ]
  },
  {
   "cell_type": "code",
   "execution_count": 95,
   "id": "61ab09b4",
   "metadata": {
    "ExecuteTime": {
     "end_time": "2025-03-29T20:33:53.719170300Z",
     "start_time": "2025-03-29T20:33:53.713133400Z"
    }
   },
   "outputs": [
    {
     "name": "stdout",
     "output_type": "stream",
     "text": [
      "93843 26166 70764 9090\n"
     ]
    }
   ],
   "source": [
    "print(TP, FP, TN, FN)"
   ]
  },
  {
   "cell_type": "code",
   "execution_count": null,
   "id": "04f5f039",
   "metadata": {},
   "outputs": [],
   "source": []
  }
 ],
 "metadata": {
  "kernelspec": {
   "display_name": "Python 3 (ipykernel)",
   "language": "python",
   "name": "python3"
  },
  "language_info": {
   "codemirror_mode": {
    "name": "ipython",
    "version": 3
   },
   "file_extension": ".py",
   "mimetype": "text/x-python",
   "name": "python",
   "nbconvert_exporter": "python",
   "pygments_lexer": "ipython3",
   "version": "3.11.5"
  }
 },
 "nbformat": 4,
 "nbformat_minor": 5
}

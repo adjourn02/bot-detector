{
 "cells": [
  {
   "cell_type": "markdown",
   "id": "-nmVYUn5wQ_E",
   "metadata": {
    "id": "-nmVYUn5wQ_E"
   },
   "source": []
  },
  {
   "cell_type": "markdown",
   "id": "896e16ff92eca711",
   "metadata": {
    "collapsed": false,
    "id": "896e16ff92eca711"
   },
   "source": [
    "# Improved Implementation: RoBERTa+BiLSTM\n",
    "\n",
    "Using best parameters on the full training dataset with metadata, the performance metric scores on the testing dataset are as follows:\n",
    "1. Test Accuracy: 0.6228\n",
    "2. F1 Score: 0.6171\n",
    "3. MCC: 0.2459"
   ]
  },
  {
   "cell_type": "markdown",
   "id": "47d395f90c0599ea",
   "metadata": {
    "collapsed": false,
    "id": "47d395f90c0599ea"
   },
   "source": [
    "## Import Libraries"
   ]
  },
  {
   "cell_type": "code",
   "execution_count": 1,
   "id": "a5c67f3cf6043b98",
   "metadata": {
    "executionInfo": {
     "elapsed": 6065,
     "status": "ok",
     "timestamp": 1744947482228,
     "user": {
      "displayName": "Daniel Solon",
      "userId": "11482946126254667365"
     },
     "user_tz": 420
    },
    "id": "a5c67f3cf6043b98",
    "ExecuteTime": {
     "end_time": "2025-04-20T00:31:41.747319200Z",
     "start_time": "2025-04-20T00:31:37.250574400Z"
    }
   },
   "outputs": [],
   "source": [
    "import os\n",
    "import torch\n",
    "import torch.nn as nn\n",
    "import torch.optim as optim\n",
    "from torch.utils.data import DataLoader, TensorDataset\n",
    "# from sklearn.model_selection import train_test_split\n",
    "from sklearn.metrics import accuracy_score, f1_score, matthews_corrcoef\n",
    "from tqdm import tqdm\n",
    "import itertools\n",
    "import pandas as pd"
   ]
  },
  {
   "cell_type": "markdown",
   "id": "acf931d619b31a8c",
   "metadata": {
    "collapsed": false,
    "id": "acf931d619b31a8c"
   },
   "source": [
    "## Set Device\n",
    "Set device to CUDA if available, else CPU"
   ]
  },
  {
   "cell_type": "code",
   "execution_count": 2,
   "id": "11e2adfb6a42e8ca",
   "metadata": {
    "colab": {
     "base_uri": "https://localhost:8080/"
    },
    "executionInfo": {
     "elapsed": 18,
     "status": "ok",
     "timestamp": 1744947485357,
     "user": {
      "displayName": "Daniel Solon",
      "userId": "11482946126254667365"
     },
     "user_tz": 420
    },
    "id": "11e2adfb6a42e8ca",
    "outputId": "430eb403-1d4a-4bef-bac5-0ecf25c1ad3d",
    "ExecuteTime": {
     "end_time": "2025-04-20T00:31:42.147124800Z",
     "start_time": "2025-04-20T00:31:41.750318100Z"
    }
   },
   "outputs": [
    {
     "name": "stdout",
     "output_type": "stream",
     "text": [
      "Using device: cuda\n"
     ]
    }
   ],
   "source": [
    "device = torch.device('cuda' if torch.cuda.is_available() else 'cpu')\n",
    "print(f'Using device: {device}')"
   ]
  },
  {
   "cell_type": "code",
   "execution_count": 3,
   "id": "c660fd97",
   "metadata": {
    "executionInfo": {
     "elapsed": 8,
     "status": "ok",
     "timestamp": 1744947486987,
     "user": {
      "displayName": "Daniel Solon",
      "userId": "11482946126254667365"
     },
     "user_tz": 420
    },
    "id": "c660fd97",
    "ExecuteTime": {
     "end_time": "2025-04-20T00:31:42.156079800Z",
     "start_time": "2025-04-20T00:31:42.149118100Z"
    }
   },
   "outputs": [],
   "source": [
    "if device == 'cuda':\n",
    "    torch.cuda.empty_cache()"
   ]
  },
  {
   "cell_type": "markdown",
   "id": "8a593c68010deef9",
   "metadata": {
    "collapsed": false,
    "id": "8a593c68010deef9"
   },
   "source": [
    "## Loading Data (Test, Train, Validate)"
   ]
  },
  {
   "cell_type": "code",
   "execution_count": 4,
   "id": "7fe6443cb58bcc50",
   "metadata": {
    "executionInfo": {
     "elapsed": 35164,
     "status": "ok",
     "timestamp": 1744947525922,
     "user": {
      "displayName": "Daniel Solon",
      "userId": "11482946126254667365"
     },
     "user_tz": 420
    },
    "id": "7fe6443cb58bcc50",
    "ExecuteTime": {
     "end_time": "2025-04-20T00:31:44.479100300Z",
     "start_time": "2025-04-20T00:31:42.156079800Z"
    }
   },
   "outputs": [],
   "source": [
    "# User Metadata\n",
    "train_metadata = torch.load(\"../Data/Processed_Data/train_metadata_tensor.pth\").to(device)\n",
    "test_metadata = torch.load(\"../Data/Processed_Data/test_metadata_tensor.pth\").to(device)\n",
    "# validate_metadata = torch.load(\"../Data/Processed_Data/validate_metadata_tensor.pth\").to(device)\n",
    "\n",
    "# Tweets Data\n",
    "train_tweets = torch.load(\"../Data/Processed_Data/train_tweet_emb_tensor.pth\").to(device)\n",
    "test_tweets = torch.load(\"../Data/Processed_Data/test_tweet_emb_tensor.pth\").to(device)\n",
    "# validate_tweets = torch.load(\"../Data/Processed_Data/validate_tweet_roberta_emb_tensor.pth\").to(device)\n",
    "\n",
    "# Labels\n",
    "train_labels = torch.load(\"../Data/Processed_Data/train_label_tensor.pth\").to(device)\n",
    "test_labels = torch.load(\"../Data/Processed_Data/test_label_tensor.pth\").to(device)\n",
    "# validate_labels = torch.load(\"../Data/Processed_Data/validate_label_tensor.pth\").to(device)"
   ]
  },
  {
   "cell_type": "code",
   "execution_count": 6,
   "id": "a865a28f03981526",
   "metadata": {
    "colab": {
     "base_uri": "https://localhost:8080/"
    },
    "executionInfo": {
     "elapsed": 6,
     "status": "ok",
     "timestamp": 1744947525931,
     "user": {
      "displayName": "Daniel Solon",
      "userId": "11482946126254667365"
     },
     "user_tz": 420
    },
    "id": "a865a28f03981526",
    "outputId": "7a2dfc6e-dd89-452f-b46a-40adad5ab5d1",
    "ExecuteTime": {
     "end_time": "2025-04-19T04:47:12.537703200Z",
     "start_time": "2025-04-19T04:47:12.531720500Z"
    }
   },
   "outputs": [
    {
     "name": "stdout",
     "output_type": "stream",
     "text": [
      "torch.Size([1398465, 200])\n",
      "torch.Size([199863, 200])\n",
      "torch.Size([1398465, 5])\n",
      "torch.Size([199863, 5])\n"
     ]
    }
   ],
   "source": [
    "print(train_tweets.shape)\n",
    "print(test_tweets.shape)\n",
    "# print(validate_tweets.shape)\n",
    "\n",
    "print(train_metadata.shape)\n",
    "print(test_metadata.shape)\n",
    "# print(validate_metadata.shape)"
   ]
  },
  {
   "cell_type": "markdown",
   "id": "e91c75d15d08e3ec",
   "metadata": {
    "collapsed": false,
    "id": "e91c75d15d08e3ec"
   },
   "source": [
    "Set seed for Reproducibility"
   ]
  },
  {
   "cell_type": "code",
   "execution_count": 5,
   "id": "645e59f07e6d2a8",
   "metadata": {
    "colab": {
     "base_uri": "https://localhost:8080/"
    },
    "executionInfo": {
     "elapsed": 8,
     "status": "ok",
     "timestamp": 1744947528008,
     "user": {
      "displayName": "Daniel Solon",
      "userId": "11482946126254667365"
     },
     "user_tz": 420
    },
    "id": "645e59f07e6d2a8",
    "outputId": "7fd56375-50b6-44a0-f8f1-9c2193649d5e",
    "ExecuteTime": {
     "end_time": "2025-04-20T00:31:46.084970100Z",
     "start_time": "2025-04-20T00:31:44.482132600Z"
    }
   },
   "outputs": [
    {
     "data": {
      "text/plain": "<torch._C.Generator at 0x16c73294190>"
     },
     "execution_count": 5,
     "metadata": {},
     "output_type": "execute_result"
    }
   ],
   "source": [
    "seed = 42\n",
    "torch.manual_seed(seed)"
   ]
  },
  {
   "cell_type": "markdown",
   "id": "87c79fe0c79e656e",
   "metadata": {
    "collapsed": false,
    "id": "87c79fe0c79e656e"
   },
   "source": [
    "Stratified sampling to expedite model training"
   ]
  },
  {
   "cell_type": "code",
   "execution_count": null,
   "id": "d8e8f5f1d3ff0842",
   "metadata": {
    "id": "d8e8f5f1d3ff0842"
   },
   "outputs": [],
   "source": [
    "\"\"\"\n",
    "# Move labels to CPU for processing\n",
    "train_labels_cpu = train_labels.cpu().numpy()\n",
    "# train_labels_cpu = test_labels.cpu().numpy()\n",
    "\n",
    "# Perform stratified sampling to maintain label distribution\n",
    "_, sampled_indices = train_test_split(\n",
    "    range(train_tweets.shape[0]),\n",
    "    # range(test_tweets.shape[0]),\n",
    "    test_size=0.3,\n",
    "    stratify=train_labels_cpu,\n",
    "    random_state=42\n",
    ")\n",
    "\n",
    "# Convert to tensor and move to device\n",
    "sampled_indices = torch.tensor(sampled_indices, device=device)\n",
    "\n",
    "train_tweets = train_tweets[sampled_indices].contiguous()\n",
    "# train_metadata = train_metadata[sampled_indices].contiguous()\n",
    "train_labels = train_labels[sampled_indices].contiguous()\n",
    "\n",
    "# test_tweets = test_tweets[sampled_indices].contiguous()\n",
    "# train_metadata = train_metadata[sampled_indices].contiguous()\n",
    "# test_labels = test_labels[sampled_indices].contiguous()\n",
    "\n",
    "print(train_tweets.shape)\n",
    "\"\"\""
   ]
  },
  {
   "cell_type": "markdown",
   "id": "178217a383989a43",
   "metadata": {
    "collapsed": false,
    "id": "178217a383989a43"
   },
   "source": [
    "\n",
    "## BiLSTM Model"
   ]
  },
  {
   "cell_type": "code",
   "execution_count": 6,
   "id": "b8ab45fefb689afe",
   "metadata": {
    "executionInfo": {
     "elapsed": 38,
     "status": "ok",
     "timestamp": 1744947530763,
     "user": {
      "displayName": "Daniel Solon",
      "userId": "11482946126254667365"
     },
     "user_tz": 420
    },
    "id": "b8ab45fefb689afe",
    "ExecuteTime": {
     "end_time": "2025-04-20T00:31:46.099910800Z",
     "start_time": "2025-04-20T00:31:46.081970300Z"
    }
   },
   "outputs": [],
   "source": [
    "class LSTMModel(nn.Module):\n",
    "\n",
    "    def __init__(self, input_size, hidden_size, output_size, num_layers=1, dropout_rate = 0.0):\n",
    "        super(LSTMModel, self).__init__()\n",
    "\n",
    "        # Define the LSTM layer\n",
    "        self.lstm = nn.LSTM(input_size, hidden_size, num_layers, batch_first=True, bidirectional = True, dropout = dropout_rate)\n",
    "\n",
    "        # Define a fully connected output layer\n",
    "        self.fc = nn.Linear(hidden_size * 2, output_size)\n",
    "\n",
    "    def forward(self, x):\n",
    "        # Pass through BiLSTM\n",
    "        lstm_out, (hn, cn) = self.lstm(x)\n",
    "\n",
    "        output = self.fc(lstm_out[:, -1, :])\n",
    "        return output"
   ]
  },
  {
   "cell_type": "code",
   "execution_count": 7,
   "id": "c096afd8d381a418",
   "metadata": {
    "executionInfo": {
     "elapsed": 3,
     "status": "ok",
     "timestamp": 1744947532730,
     "user": {
      "displayName": "Daniel Solon",
      "userId": "11482946126254667365"
     },
     "user_tz": 420
    },
    "id": "c096afd8d381a418",
    "ExecuteTime": {
     "end_time": "2025-04-20T00:31:48.109433800Z",
     "start_time": "2025-04-20T00:31:48.098886400Z"
    }
   },
   "outputs": [],
   "source": [
    "lstm_input_size = 200\n",
    "lstm_hidden_size = 50\n",
    "lstm_output_size = 32\n",
    "lstm_number_layers = 1 # Number of LSTM Layers\n",
    "lstm_dropout = 0."
   ]
  },
  {
   "cell_type": "code",
   "execution_count": null,
   "id": "-Jtg0qP0-m5l",
   "metadata": {
    "id": "-Jtg0qP0-m5l"
   },
   "outputs": [],
   "source": [
    "# Creating LSTM Model\n",
    "lstm_model = LSTMModel(input_size = lstm_input_size, hidden_size = lstm_hidden_size, output_size = lstm_output_size,\n",
    "                      num_layers = lstm_number_layers, dropout_rate=lstm_dropout).to(device)"
   ]
  },
  {
   "cell_type": "markdown",
   "id": "3c02f103",
   "metadata": {
    "id": "3c02f103"
   },
   "source": [
    "## Prepare Data"
   ]
  },
  {
   "cell_type": "markdown",
   "id": "3731fbae01ca9f7",
   "metadata": {
    "collapsed": false,
    "id": "3731fbae01ca9f7"
   },
   "source": [
    "Getting lstm_output for datasets"
   ]
  },
  {
   "cell_type": "code",
   "execution_count": 8,
   "id": "hz-dz6x4xTTk",
   "metadata": {
    "executionInfo": {
     "elapsed": 1040,
     "status": "ok",
     "timestamp": 1744947732906,
     "user": {
      "displayName": "Daniel Solon",
      "userId": "11482946126254667365"
     },
     "user_tz": 420
    },
    "id": "hz-dz6x4xTTk",
    "ExecuteTime": {
     "end_time": "2025-04-20T00:31:51.223559800Z",
     "start_time": "2025-04-20T00:31:51.213048500Z"
    }
   },
   "outputs": [],
   "source": [
    "train_tweets = train_tweets.unsqueeze(1).to(torch.float32)\n",
    "test_tweets = test_tweets.unsqueeze(1).to(torch.float32)"
   ]
  },
  {
   "cell_type": "code",
   "execution_count": null,
   "id": "ade7bc05883584fa",
   "metadata": {
    "id": "ade7bc05883584fa"
   },
   "outputs": [],
   "source": [
    "train_lstm_output = lstm_model(train_tweets)\n",
    "train_lstm_output = train_lstm_output.detach()\n",
    "\n",
    "test_lstm_output = lstm_model(test_tweets)\n",
    "test_lstm_output = test_lstm_output.detach()"
   ]
  },
  {
   "cell_type": "code",
   "execution_count": null,
   "id": "d51cb9e2-1fad-434c-9f0c-76bb1f19d40c",
   "metadata": {
    "id": "d51cb9e2-1fad-434c-9f0c-76bb1f19d40c"
   },
   "outputs": [],
   "source": [
    "print(train_lstm_output.shape)\n",
    "print(test_lstm_output.shape)"
   ]
  },
  {
   "cell_type": "markdown",
   "id": "b4a5bcae",
   "metadata": {
    "id": "b4a5bcae"
   },
   "source": [
    "Concatenate text embedding with metadata embedding"
   ]
  },
  {
   "cell_type": "code",
   "execution_count": null,
   "id": "1d01e3b2",
   "metadata": {
    "id": "1d01e3b2"
   },
   "outputs": [],
   "source": [
    "x_train = torch.hstack((train_lstm_output, train_metadata)).to(torch.float32)\n",
    "x_test = torch.hstack((test_lstm_output, test_metadata)).to(torch.float32)"
   ]
  },
  {
   "cell_type": "code",
   "execution_count": null,
   "id": "37f96514ee67e29b",
   "metadata": {
    "id": "37f96514ee67e29b"
   },
   "outputs": [],
   "source": [
    "y_train = train_labels.view(-1, 1).to(torch.float32)\n",
    "y_test = test_labels.view(-1, 1).to(torch.float32)"
   ]
  },
  {
   "cell_type": "code",
   "execution_count": null,
   "id": "55b755f3383ccbf5",
   "metadata": {
    "id": "55b755f3383ccbf5"
   },
   "outputs": [],
   "source": [
    "print(x_train.shape, y_train.shape)\n",
    "print(x_test.shape, y_test.shape)"
   ]
  },
  {
   "cell_type": "code",
   "execution_count": null,
   "id": "8331ead113c50263",
   "metadata": {
    "id": "8331ead113c50263"
   },
   "outputs": [],
   "source": [
    "x_train.requires_grad_(False)\n",
    "y_train.requires_grad_(False)"
   ]
  },
  {
   "cell_type": "markdown",
   "id": "1738147314b8537",
   "metadata": {
    "collapsed": false,
    "id": "1738147314b8537"
   },
   "source": [
    "## DenseNet\n",
    "Define Dense Classifier Model. The layers are as defined on the paper: Input Layer, Hidden Layer, then Output Layer. Model parameters are based on Table 2 from the paper. However, some parameter values might not match because of description ambiguity."
   ]
  },
  {
   "cell_type": "code",
   "execution_count": 9,
   "id": "3a0428f0296d9948",
   "metadata": {
    "executionInfo": {
     "elapsed": 9,
     "status": "ok",
     "timestamp": 1744947548236,
     "user": {
      "displayName": "Daniel Solon",
      "userId": "11482946126254667365"
     },
     "user_tz": 420
    },
    "id": "3a0428f0296d9948",
    "ExecuteTime": {
     "end_time": "2025-04-20T00:31:54.191937900Z",
     "start_time": "2025-04-20T00:31:54.182426800Z"
    }
   },
   "outputs": [],
   "source": [
    "class DenseBotClassifier(nn.Module):\n",
    "    def __init__(self, input_dim=37, output_dim=1, hidden_input_dim=64, hidden_dim=128, hidden_output_dim=64, dropout=0.2):\n",
    "        \"\"\"\n",
    "        :param input_dim: (RoBERTa embeddings + metadata) dimension\n",
    "        :param output_dim: 1 for binary classification\n",
    "        :param input_dim: input_layer input dimension\n",
    "        :param output_dim: input_layer output dimension\n",
    "        :param hidden_input_dim: hidden_layer input dimension\n",
    "        :param hidden_dim: hidden_layer intermediate dimension\n",
    "        :param hidden_output_dim: hidden_layer output dimension\n",
    "        :param dropout: adjust for hyperparameter tuning\n",
    "        \"\"\"\n",
    "        super(DenseBotClassifier, self).__init__()\n",
    "\n",
    "        self.input_layer = nn.Sequential(\n",
    "                            nn.Linear(input_dim, hidden_input_dim),\n",
    "                            nn.BatchNorm1d(hidden_input_dim),\n",
    "                            nn.SELU(),\n",
    "                            nn.Dropout(dropout)\n",
    "                        )\n",
    "\n",
    "        self.hidden_layer = nn.Sequential(\n",
    "                            nn.Linear(hidden_input_dim, hidden_dim),\n",
    "                            nn.BatchNorm1d(hidden_dim),\n",
    "                            nn.SELU(),\n",
    "                            nn.Linear(hidden_dim, hidden_output_dim),\n",
    "                            nn.BatchNorm1d(hidden_output_dim),\n",
    "                            nn.SELU(),\n",
    "                            nn.Dropout(dropout)\n",
    "                        )\n",
    "\n",
    "        self.output_layer = nn.Linear(hidden_output_dim, output_dim)\n",
    "\n",
    "    def forward(self, x):\n",
    "        input_layer_activation = self.input_layer(x)\n",
    "        hidden_layer_activation = self.hidden_layer(input_layer_activation)\n",
    "\n",
    "        return self.output_layer(hidden_layer_activation)"
   ]
  },
  {
   "cell_type": "markdown",
   "id": "420d2518",
   "metadata": {
    "id": "420d2518"
   },
   "source": [
    "## Create Dataloaders"
   ]
  },
  {
   "cell_type": "code",
   "execution_count": null,
   "id": "bb8d7698",
   "metadata": {
    "id": "bb8d7698"
   },
   "outputs": [],
   "source": [
    "batch_size = 64 # Batch size for training\n",
    "\n",
    "train_dataset = TensorDataset(x_train, y_train)\n",
    "train_loader = DataLoader(train_dataset, batch_size=batch_size, shuffle=True)\n",
    "\n",
    "test_dataset = TensorDataset(x_test, y_test)\n",
    "test_loader = DataLoader(test_dataset, batch_size=batch_size, shuffle=True)"
   ]
  },
  {
   "cell_type": "markdown",
   "id": "73380799711e3073",
   "metadata": {
    "collapsed": false,
    "id": "73380799711e3073"
   },
   "source": [
    "## Model Training"
   ]
  },
  {
   "cell_type": "markdown",
   "id": "810e4fd22abc0ec8",
   "metadata": {
    "collapsed": false,
    "id": "810e4fd22abc0ec8"
   },
   "source": [
    "Initialize model, loss function, and optimizer"
   ]
  },
  {
   "cell_type": "code",
   "execution_count": null,
   "id": "1ed327144e25f42b",
   "metadata": {
    "id": "1ed327144e25f42b"
   },
   "outputs": [],
   "source": [
    "torch.manual_seed(seed)\n",
    "model = DenseBotClassifier().to(device)\n",
    "criterion = nn.BCEWithLogitsLoss()  # Binary Cross Entropy with logits\n",
    "optimizer = optim.Adam(model.parameters(), lr=0.0001)"
   ]
  },
  {
   "cell_type": "markdown",
   "id": "23e589c55e31204c",
   "metadata": {
    "collapsed": false,
    "id": "23e589c55e31204c"
   },
   "source": [
    "Train model"
   ]
  },
  {
   "cell_type": "code",
   "execution_count": 10,
   "id": "3e57d9ef8568a91c",
   "metadata": {
    "executionInfo": {
     "elapsed": 4,
     "status": "ok",
     "timestamp": 1744947551908,
     "user": {
      "displayName": "Daniel Solon",
      "userId": "11482946126254667365"
     },
     "user_tz": 420
    },
    "id": "3e57d9ef8568a91c",
    "ExecuteTime": {
     "end_time": "2025-04-20T00:31:57.670605300Z",
     "start_time": "2025-04-20T00:31:57.644334200Z"
    }
   },
   "outputs": [],
   "source": [
    "def train_model(model, train_loader, optimizer, criterion, epochs=10):\n",
    "    \"\"\"\n",
    "    :param model: bot classifier\n",
    "    :param train_loader: training dataset\n",
    "    :param optimizer: Adam as specified on paper\n",
    "    :param criterion: BCE as specified on paper\n",
    "    :param epochs: adjust for hyperparameter tuning\n",
    "    :return: None\n",
    "    \"\"\"\n",
    "    model.train()\n",
    "    for epoch in range(epochs):\n",
    "        total_loss = 0\n",
    "        progress_bar = tqdm(train_loader, desc=f\"Epoch {epoch+1}/{epochs}\", leave=True, dynamic_ncols=True, position=0)\n",
    "\n",
    "        for i, batch in enumerate(progress_bar):\n",
    "            embeddings, labels = batch[0].float().to(device), batch[1].float().to(device)\n",
    "            optimizer.zero_grad()\n",
    "            outputs = model(embeddings)\n",
    "            loss = criterion(outputs, labels)\n",
    "            loss.backward()\n",
    "            optimizer.step()\n",
    "            total_loss += loss.item()\n",
    "\n",
    "            if i % 10 == 0:\n",
    "                progress_bar.set_postfix(loss=f\"{loss.item():.4f}\")"
   ]
  },
  {
   "cell_type": "code",
   "execution_count": null,
   "id": "8e6c7a51-5cd5-4041-994f-965c9c9c2cfb",
   "metadata": {
    "id": "8e6c7a51-5cd5-4041-994f-965c9c9c2cfb"
   },
   "outputs": [],
   "source": [
    "#train_model(model, train_loader, optimizer, criterion, epochs=10)"
   ]
  },
  {
   "cell_type": "markdown",
   "id": "4e2c97f4f66d9e66",
   "metadata": {
    "collapsed": false,
    "id": "4e2c97f4f66d9e66"
   },
   "source": [
    "## Model Evaluation"
   ]
  },
  {
   "cell_type": "markdown",
   "id": "5b76836d7136a84a",
   "metadata": {
    "collapsed": false,
    "id": "5b76836d7136a84a"
   },
   "source": [
    "Evaluate model"
   ]
  },
  {
   "cell_type": "code",
   "execution_count": 11,
   "id": "820cdf456fe7e3cb",
   "metadata": {
    "executionInfo": {
     "elapsed": 4,
     "status": "ok",
     "timestamp": 1744947553926,
     "user": {
      "displayName": "Daniel Solon",
      "userId": "11482946126254667365"
     },
     "user_tz": 420
    },
    "id": "820cdf456fe7e3cb",
    "ExecuteTime": {
     "end_time": "2025-04-20T00:31:59.855751200Z",
     "start_time": "2025-04-20T00:31:59.847629600Z"
    }
   },
   "outputs": [],
   "source": [
    "def evaluate_model(model, test_loader):\n",
    "    \"\"\"\n",
    "    :param model: bot classifier\n",
    "    :param test_loader: testing dataset\n",
    "    :return: None\n",
    "    \"\"\"\n",
    "    model.eval()\n",
    "    preds, true_labels = [], []\n",
    "\n",
    "    with torch.no_grad():\n",
    "        progress_bar = tqdm(test_loader, desc=\"Evaluating\", unit=\"batch\", dynamic_ncols=True, position=0)\n",
    "\n",
    "        for batch in progress_bar:\n",
    "            embeddings, labels = batch[0].float().to(device), batch[1].float().to(device)\n",
    "            outputs = model(embeddings)\n",
    "            probs = torch.sigmoid(outputs)\n",
    "            preds.extend((probs > 0.5).cpu().numpy())\n",
    "            true_labels.extend(labels.cpu().numpy())\n",
    "\n",
    "    acc = accuracy_score(true_labels, preds)\n",
    "    f1 = f1_score(true_labels, preds, average='weighted')  # Adjust 'weighted' if needed\n",
    "    mcc = matthews_corrcoef(true_labels, preds)\n",
    "\n",
    "    return acc, f1, mcc"
   ]
  },
  {
   "cell_type": "code",
   "execution_count": null,
   "id": "3bd0284e70703e8b",
   "metadata": {
    "id": "3bd0284e70703e8b"
   },
   "outputs": [],
   "source": [
    "#evaluate_model(model, test_loader)"
   ]
  },
  {
   "cell_type": "markdown",
   "id": "6a0d120d",
   "metadata": {
    "id": "6a0d120d"
   },
   "source": [
    "## Grid search"
   ]
  },
  {
   "cell_type": "markdown",
   "id": "e6d2a71b-248a-48ad-be85-3bd8d31d1e68",
   "metadata": {
    "id": "e6d2a71b-248a-48ad-be85-3bd8d31d1e68"
   },
   "source": [
    "Define parameter grid"
   ]
  },
  {
   "cell_type": "code",
   "execution_count": 30,
   "id": "2eca41d5",
   "metadata": {
    "executionInfo": {
     "elapsed": 4,
     "status": "ok",
     "timestamp": 1744953824216,
     "user": {
      "displayName": "Daniel Solon",
      "userId": "11482946126254667365"
     },
     "user_tz": 420
    },
    "id": "2eca41d5",
    "ExecuteTime": {
     "end_time": "2025-04-20T15:48:58.847929800Z",
     "start_time": "2025-04-20T15:48:58.838059100Z"
    }
   },
   "outputs": [],
   "source": [
    "param_grid = {\n",
    "    \"learning_rate\": [0.001],\n",
    "    \"lstm_dropout\": [0],\n",
    "    \"lstm_hidden_size\": [50],\n",
    "    \"lstm_output_size\": [32],\n",
    "    \"lstm_number_layers\": [1],\n",
    "    \"batch_size\": [128],\n",
    "    \"dropout\": [0.2],\n",
    "    \"hidden_input_dim\": [64, 128, 256],\n",
    "    \"hidden_dim\": [128, 256],\n",
    "    \"hidden_output_dim\": [64, 128],\n",
    "    \"epochs\": [10],\n",
    "    \"weight_decay\": [0]\n",
    "}\n",
    "\n",
    "# Generate all combinations\n",
    "param_combinations = list(itertools.product(*param_grid.values()))"
   ]
  },
  {
   "cell_type": "markdown",
   "id": "8deee89e-7c60-4d96-b12e-03cc656c71ef",
   "metadata": {
    "id": "8deee89e-7c60-4d96-b12e-03cc656c71ef"
   },
   "source": [
    "Run grid search and save results"
   ]
  },
  {
   "cell_type": "code",
   "execution_count": 13,
   "id": "jcUUSYfcz3Yw",
   "metadata": {
    "executionInfo": {
     "elapsed": 9,
     "status": "ok",
     "timestamp": 1744947720403,
     "user": {
      "displayName": "Daniel Solon",
      "userId": "11482946126254667365"
     },
     "user_tz": 420
    },
    "id": "jcUUSYfcz3Yw",
    "ExecuteTime": {
     "end_time": "2025-04-20T00:32:06.044280Z",
     "start_time": "2025-04-20T00:32:06.027315800Z"
    }
   },
   "outputs": [],
   "source": [
    "def extract_lstm_outputs(model, dataloader):\n",
    "    model.eval()\n",
    "    outputs = []\n",
    "    with torch.no_grad():\n",
    "        for (batch,) in dataloader:\n",
    "            batch = batch.to(device)\n",
    "            out = model(batch)\n",
    "            outputs.append(out.cpu())\n",
    "    return torch.cat(outputs, dim=0)"
   ]
  },
  {
   "cell_type": "code",
   "execution_count": 31,
   "id": "0825e947",
   "metadata": {
    "colab": {
     "background_save": true,
     "base_uri": "https://localhost:8080/"
    },
    "id": "0825e947",
    "ExecuteTime": {
     "end_time": "2025-04-20T16:21:59.615049200Z",
     "start_time": "2025-04-20T15:49:08.046891700Z"
    }
   },
   "outputs": [
    {
     "name": "stdout",
     "output_type": "stream",
     "text": [
      "Total hyperparameter sets to test: 11\n",
      "-----------------------------------------------------------------------------------------------------\n",
      "Processing parameters 1/11\n"
     ]
    },
    {
     "name": "stderr",
     "output_type": "stream",
     "text": [
      "Epoch 1/10: 100%|██████████| 10925/10925 [00:56<00:00, 192.00it/s, loss=0.6734]\n",
      "Epoch 2/10: 100%|██████████| 10925/10925 [00:55<00:00, 196.26it/s, loss=0.6227]\n",
      "Epoch 3/10: 100%|██████████| 10925/10925 [00:55<00:00, 197.25it/s, loss=0.6095]\n",
      "Epoch 4/10: 100%|██████████| 10925/10925 [00:55<00:00, 196.87it/s, loss=0.6559]\n",
      "Epoch 5/10: 100%|██████████| 10925/10925 [00:58<00:00, 185.90it/s, loss=0.6733]\n",
      "Epoch 6/10: 100%|██████████| 10925/10925 [01:01<00:00, 177.17it/s, loss=0.6357]\n",
      "Epoch 7/10: 100%|██████████| 10925/10925 [00:58<00:00, 185.23it/s, loss=0.6777]\n",
      "Epoch 8/10: 100%|██████████| 10925/10925 [00:58<00:00, 187.22it/s, loss=0.6622]\n",
      "Epoch 9/10: 100%|██████████| 10925/10925 [00:59<00:00, 184.37it/s, loss=0.6579]\n",
      "Epoch 10/10: 100%|██████████| 10925/10925 [00:59<00:00, 183.90it/s, loss=0.6370]\n",
      "Evaluating: 100%|██████████| 1562/1562 [00:03<00:00, 435.03batch/s]\n"
     ]
    },
    {
     "name": "stdout",
     "output_type": "stream",
     "text": [
      "-----------------------------------------------------------------------------------------------------\n",
      "Processing parameters 2/11\n"
     ]
    },
    {
     "name": "stderr",
     "output_type": "stream",
     "text": [
      "Epoch 1/10: 100%|██████████| 10925/10925 [00:55<00:00, 195.60it/s, loss=0.6989]\n",
      "Epoch 2/10: 100%|██████████| 10925/10925 [00:54<00:00, 199.39it/s, loss=0.6505]\n",
      "Epoch 3/10: 100%|██████████| 10925/10925 [00:54<00:00, 200.69it/s, loss=0.6410]\n",
      "Epoch 4/10: 100%|██████████| 10925/10925 [01:04<00:00, 170.15it/s, loss=0.6834]\n",
      "Epoch 5/10: 100%|██████████| 10925/10925 [01:03<00:00, 171.98it/s, loss=0.6679]\n",
      "Epoch 6/10: 100%|██████████| 10925/10925 [00:58<00:00, 185.38it/s, loss=0.6181]\n",
      "Epoch 7/10: 100%|██████████| 10925/10925 [00:56<00:00, 193.31it/s, loss=0.6643]\n",
      "Epoch 8/10: 100%|██████████| 10925/10925 [00:57<00:00, 189.44it/s, loss=0.6370]\n",
      "Epoch 9/10: 100%|██████████| 10925/10925 [00:57<00:00, 191.50it/s, loss=0.6387]\n",
      "Epoch 10/10: 100%|██████████| 10925/10925 [00:56<00:00, 192.37it/s, loss=0.6419]\n",
      "Evaluating: 100%|██████████| 1562/1562 [00:03<00:00, 436.70batch/s]\n"
     ]
    },
    {
     "name": "stdout",
     "output_type": "stream",
     "text": [
      "-----------------------------------------------------------------------------------------------------\n",
      "Processing parameters 3/11\n"
     ]
    },
    {
     "name": "stderr",
     "output_type": "stream",
     "text": [
      "Epoch 1/10: 100%|██████████| 10925/10925 [00:55<00:00, 195.43it/s, loss=0.6613]\n",
      "Epoch 2/10: 100%|██████████| 10925/10925 [00:55<00:00, 195.35it/s, loss=0.6686]\n",
      "Epoch 3/10: 100%|██████████| 10925/10925 [00:55<00:00, 197.56it/s, loss=0.6196]\n",
      "Epoch 4/10: 100%|██████████| 10925/10925 [00:57<00:00, 189.45it/s, loss=0.5734]\n",
      "Epoch 5/10: 100%|██████████| 10925/10925 [00:57<00:00, 190.57it/s, loss=0.5926]\n",
      "Epoch 6/10: 100%|██████████| 10925/10925 [00:57<00:00, 188.66it/s, loss=0.6469]\n",
      "Epoch 7/10: 100%|██████████| 10925/10925 [00:58<00:00, 186.63it/s, loss=0.6748]\n",
      "Epoch 8/10: 100%|██████████| 10925/10925 [00:59<00:00, 182.53it/s, loss=0.6059]\n",
      "Epoch 9/10: 100%|██████████| 10925/10925 [02:05<00:00, 87.40it/s, loss=0.6537] \n",
      "Epoch 10/10: 100%|██████████| 10925/10925 [01:02<00:00, 175.59it/s, loss=0.6384]\n",
      "Evaluating: 100%|██████████| 1562/1562 [00:06<00:00, 251.64batch/s]\n"
     ]
    },
    {
     "name": "stdout",
     "output_type": "stream",
     "text": [
      "-----------------------------------------------------------------------------------------------------\n",
      "Processing parameters 4/11\n"
     ]
    },
    {
     "name": "stderr",
     "output_type": "stream",
     "text": [
      "Epoch 1/10:  85%|████████▌ | 9337/10925 [00:54<00:09, 172.05it/s, loss=0.6463]\n",
      "\n",
      "KeyboardInterrupt\n",
      "\n"
     ]
    }
   ],
   "source": [
    "# Define CSV file path\n",
    "csv_filename = \"../Data/Processed_Data/hyperparameter_results_BiLSTM_DenseNet.csv\"\n",
    "\n",
    "# Load existing results if the CSV exists\n",
    "if os.path.exists(csv_filename):\n",
    "    existing_results = pd.read_csv(csv_filename)\n",
    "else:\n",
    "    existing_results = pd.DataFrame(columns=[\"learning_rate\", \"lstm_dropout\", \"lstm_hidden_size\", \"lstm_output_size\", \"lstm_number_layers\", \"batch_size\", \"dropout\", \"hidden_input_dim\", \"hidden_dim\", \"hidden_output_dim\", \"epochs\", \"weight_decay\", \"accuracy\", \"f1_score\", \"mcc\"])\n",
    "\n",
    "# Convert existing results to a set of tested hyperparameters\n",
    "tested_params = set(\n",
    "    tuple(row) for row in existing_results[[\"learning_rate\", \"lstm_dropout\", \"lstm_hidden_size\", \"lstm_output_size\", \"lstm_number_layers\", \"batch_size\", \"dropout\", \"hidden_input_dim\", \"hidden_dim\", \"hidden_output_dim\", \"epochs\", \"weight_decay\"]].values\n",
    ")\n",
    "\n",
    "# Filter out already tested hyperparameters\n",
    "new_param_combinations = [params for params in param_combinations if params not in tested_params]\n",
    "\n",
    "print(f\"Total hyperparameter sets to test: {len(new_param_combinations)}\")\n",
    "\n",
    "torch.manual_seed(seed)\n",
    "# Loop through only new hyperparameter combinations\n",
    "for i, params in enumerate(new_param_combinations):\n",
    "    print(\"-----------------------------------------------------------------------------------------------------\")\n",
    "    print(f\"Processing parameters {i+1}/{len(new_param_combinations)}\")\n",
    "\n",
    "    lr, lstm_dropout, lstm_hidden_size, lstm_output_size, lstm_number_layers, batch_size, dropout, hidden_input, hidden, hidden_output, epochs, weight_decay = params\n",
    "\n",
    "    # Initialize lstm model\n",
    "    lstm_model = LSTMModel(\n",
    "                    input_size = lstm_input_size,\n",
    "                    hidden_size = lstm_hidden_size,\n",
    "                    output_size = lstm_output_size,\n",
    "                    num_layers = lstm_number_layers,\n",
    "                    dropout_rate = lstm_dropout\n",
    "                ).to(device)\n",
    "\n",
    "    lstm_train_dataset = TensorDataset(train_tweets)\n",
    "    lstm_train_loader = DataLoader(lstm_train_dataset, batch_size=batch_size, shuffle=False)\n",
    "\n",
    "    lstm_test_dataset = TensorDataset(test_tweets)\n",
    "    lstm_test_loader = DataLoader(lstm_test_dataset, batch_size=batch_size, shuffle=False)\n",
    "\n",
    "    train_lstm_output = extract_lstm_outputs(lstm_model, lstm_train_loader).detach()\n",
    "    test_lstm_output = extract_lstm_outputs(lstm_model, lstm_test_loader).detach()\n",
    "\n",
    "    x_train = train_lstm_output\n",
    "    x_test = test_lstm_output\n",
    "\n",
    "    y_train = train_labels.view(-1, 1).to(torch.float32)\n",
    "    y_test = test_labels.view(-1, 1).to(torch.float32)\n",
    "\n",
    "    x_train.requires_grad_(False)\n",
    "    y_train.requires_grad_(False)\n",
    "\n",
    "    # Initialize neural network model\n",
    "    model = DenseBotClassifier(\n",
    "        input_dim=x_train.shape[1],\n",
    "        output_dim=1,\n",
    "        hidden_input_dim=hidden_input,\n",
    "        hidden_dim=hidden,\n",
    "        hidden_output_dim=hidden_output,\n",
    "        dropout=dropout\n",
    "    ).to(device)\n",
    "\n",
    "    # Define loss and optimizer\n",
    "    criterion = nn.BCEWithLogitsLoss()\n",
    "    optimizer = optim.Adam(model.parameters(), lr=lr, weight_decay=weight_decay)\n",
    "\n",
    "    # Create Data Loaders\n",
    "    train_dataset = TensorDataset(x_train, y_train)\n",
    "    train_loader = DataLoader(train_dataset, batch_size=batch_size, shuffle=True, drop_last=True)\n",
    "\n",
    "    test_dataset = TensorDataset(x_test, y_test)\n",
    "    test_loader = DataLoader(test_dataset, batch_size=batch_size, shuffle=True)\n",
    "\n",
    "    # Train the model\n",
    "    train_model(model, train_loader, optimizer, criterion, epochs=epochs)\n",
    "\n",
    "    # Evaluate the model\n",
    "    acc, f1, mcc = evaluate_model(model, test_loader)\n",
    "\n",
    "    # Save model checkpoint\n",
    "    # model_filename = f\"../Data/Processed_Data/model_lr{lr}_dropout{dropout}_dim{hidden_input}-{hidden}-{hidden_output}_batch{batch_size}_epochs{epochs}_wd{weight_decay}.pth\"\n",
    "    # torch.save(model.state_dict(), model_filename)\n",
    "    # print(f\"Model saved: {model_filename}\")\n",
    "\n",
    "    # Save results\n",
    "    df_new = pd.DataFrame([{\n",
    "        \"learning_rate\": lr,\n",
    "        \"lstm_dropout\": lstm_dropout,\n",
    "        \"lstm_hidden_size\": lstm_hidden_size,\n",
    "        \"lstm_output_size\": lstm_output_size,\n",
    "        \"lstm_number_layers\": lstm_number_layers,\n",
    "        \"batch_size\": batch_size,\n",
    "        \"dropout\": dropout,\n",
    "        \"hidden_input_dim\": hidden_input,\n",
    "        \"hidden_dim\": hidden,\n",
    "        \"hidden_output_dim\": hidden_output,\n",
    "        \"epochs\": epochs,\n",
    "        \"weight_decay\": weight_decay,\n",
    "        \"accuracy\": acc,\n",
    "        \"f1_score\": f1,\n",
    "        \"mcc\": mcc\n",
    "    }])\n",
    "\n",
    "    df_new.to_csv(csv_filename, mode='a', header=not os.path.exists(csv_filename), index=False)\n",
    "\n",
    "print(\"Grid search complete. Results saved to hyperparameter_results.csv.\")"
   ]
  }
 ],
 "metadata": {
  "accelerator": "GPU",
  "colab": {
   "gpuType": "T4",
   "name": "",
   "version": ""
  },
  "kernelspec": {
   "name": "python3",
   "language": "python",
   "display_name": "Python 3 (ipykernel)"
  },
  "language_info": {
   "codemirror_mode": {
    "name": "ipython",
    "version": 3
   },
   "file_extension": ".py",
   "mimetype": "text/x-python",
   "name": "python",
   "nbconvert_exporter": "python",
   "pygments_lexer": "ipython3",
   "version": "3.10.10"
  }
 },
 "nbformat": 4,
 "nbformat_minor": 5
}

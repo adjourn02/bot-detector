{
 "cells": [
  {
   "cell_type": "markdown",
   "source": [
    "# Improved Implementation: RoBERTa+DenseNet\n",
    "Based on \"A Deep Learning Approach for Robust Detection of Bots in Twitter Using Transformers\" paper where their best model is based on (RoBERTa + metadata) for the input feature vectors fed to a Dense network.\n",
    "\n",
    "Using default parameters on the full training dataset with metadata, the performance metric scores on the testing dataset are as follows: \n",
    "1. Test Accuracy: 0.4860\n",
    "2. F1 Score: 0.3190\n",
    "3. MCC: 0.0307"
   ],
   "metadata": {
    "collapsed": false
   },
   "id": "896e16ff92eca711"
  },
  {
   "cell_type": "markdown",
   "id": "47d395f90c0599ea",
   "metadata": {
    "collapsed": false
   },
   "source": [
    "## Import Libraries"
   ]
  },
  {
   "cell_type": "code",
   "execution_count": 2,
   "id": "a5c67f3cf6043b98",
   "metadata": {
    "ExecuteTime": {
     "end_time": "2025-03-30T17:33:40.203203100Z",
     "start_time": "2025-03-30T17:33:40.194888100Z"
    },
    "collapsed": false
   },
   "outputs": [],
   "source": [
    "import torch\n",
    "import torch.nn as nn\n",
    "import torch.optim as optim\n",
    "from torch.utils.data import DataLoader, TensorDataset\n",
    "from sklearn.model_selection import train_test_split\n",
    "from sklearn.metrics import accuracy_score, f1_score, matthews_corrcoef\n",
    "from tqdm import tqdm"
   ]
  },
  {
   "cell_type": "markdown",
   "id": "acf931d619b31a8c",
   "metadata": {
    "collapsed": false
   },
   "source": [
    "## Set Device\n",
    "Set device to CUDA if available, else CPU"
   ]
  },
  {
   "cell_type": "code",
   "execution_count": 3,
   "id": "11e2adfb6a42e8ca",
   "metadata": {
    "ExecuteTime": {
     "end_time": "2025-03-30T16:27:21.478631200Z",
     "start_time": "2025-03-30T16:27:20.563928400Z"
    },
    "collapsed": false
   },
   "outputs": [
    {
     "name": "stdout",
     "output_type": "stream",
     "text": [
      "Using device: cuda\n"
     ]
    }
   ],
   "source": [
    "device = torch.device('cuda' if torch.cuda.is_available() else 'cpu')\n",
    "print(f'Using device: {device}')"
   ]
  },
  {
   "cell_type": "markdown",
   "id": "8a593c68010deef9",
   "metadata": {
    "collapsed": false
   },
   "source": [
    "## Loading Data (Test, Train, Validate)"
   ]
  },
  {
   "cell_type": "code",
   "execution_count": 4,
   "id": "7fe6443cb58bcc50",
   "metadata": {
    "ExecuteTime": {
     "end_time": "2025-03-30T16:27:25.898206600Z",
     "start_time": "2025-03-30T16:27:24.991455600Z"
    },
    "collapsed": false
   },
   "outputs": [],
   "source": [
    "# User Metadata\n",
    "train_metadata = torch.load(\"../Data/Processed_Data/train_metadata_tensor.pth\").to(device)\n",
    "test_metadata = torch.load(\"../Data/Processed_Data/test_metadata_tensor.pth\").to(device)\n",
    "# validate_metadata = torch.load(\"../Data/Processed_Data/validate_metadata_tensor.pth\").to(device)\n",
    "\n",
    "# Tweets Data\n",
    "train_tweets = torch.load(\"../Data/Processed_Data/train_tweet_roberta_emb_tensor.pth\").to(device)\n",
    "test_tweets = torch.load(\"../Data/Processed_Data/test_tweet_roberta_emb_tensor.pth\").to(device)\n",
    "# validate_tweets = torch.load(\"../Data/Processed_Data/validate_tweet_roberta_emb_tensor.pth\").to(device)\n",
    "\n",
    "# Labels\n",
    "train_labels = torch.load(\"../Data/Processed_Data/train_label_tensor.pth\").to(device)\n",
    "test_labels = torch.load(\"../Data/Processed_Data/test_label_tensor.pth\").to(device)\n",
    "# validate_labels = torch.load(\"../Data/Processed_Data/validate_label_tensor.pth\").to(device)"
   ]
  },
  {
   "cell_type": "code",
   "execution_count": 5,
   "id": "a865a28f03981526",
   "metadata": {
    "ExecuteTime": {
     "end_time": "2025-03-30T16:27:33.418677200Z",
     "start_time": "2025-03-30T16:27:33.412839700Z"
    },
    "collapsed": false
   },
   "outputs": [
    {
     "name": "stdout",
     "output_type": "stream",
     "text": [
      "torch.Size([1398465, 768])\n",
      "torch.Size([199863, 768])\n",
      "torch.Size([1398465, 5])\n",
      "torch.Size([199863, 5])\n"
     ]
    }
   ],
   "source": [
    "print(train_tweets.shape)\n",
    "print(test_tweets.shape)\n",
    "# print(validate_tweets.shape)\n",
    "\n",
    "print(train_metadata.shape)\n",
    "print(test_metadata.shape)\n",
    "# print(validate_metadata.shape)"
   ]
  },
  {
   "cell_type": "markdown",
   "id": "87c79fe0c79e656e",
   "metadata": {
    "collapsed": false
   },
   "source": [
    "Stratified sampling to expedite model training"
   ]
  },
  {
   "cell_type": "code",
   "execution_count": null,
   "id": "d8e8f5f1d3ff0842",
   "metadata": {
    "collapsed": false
   },
   "outputs": [],
   "source": [
    "\"\"\"\n",
    "# Move labels to CPU for processing\n",
    "train_labels_cpu = train_labels.cpu().numpy()\n",
    "# train_labels_cpu = test_labels.cpu().numpy()\n",
    "\n",
    "# Perform stratified sampling to maintain label distribution\n",
    "_, sampled_indices = train_test_split(\n",
    "    range(train_tweets.shape[0]), \n",
    "    # range(test_tweets.shape[0]), \n",
    "    test_size=0.3, \n",
    "    stratify=train_labels_cpu, \n",
    "    random_state=42\n",
    ")\n",
    "\n",
    "# Convert to tensor and move to device\n",
    "sampled_indices = torch.tensor(sampled_indices, device=device)\n",
    "\n",
    "train_tweets = train_tweets[sampled_indices].contiguous()\n",
    "# train_metadata = train_metadata[sampled_indices].contiguous()\n",
    "train_labels = train_labels[sampled_indices].contiguous()\n",
    "\n",
    "# test_tweets = test_tweets[sampled_indices].contiguous()\n",
    "# train_metadata = train_metadata[sampled_indices].contiguous()\n",
    "# test_labels = test_labels[sampled_indices].contiguous()\n",
    "\n",
    "print(train_tweets.shape)\n",
    "\"\"\""
   ]
  },
  {
   "cell_type": "markdown",
   "id": "d908b156c6a297f0",
   "metadata": {
    "collapsed": false
   },
   "source": [
    "## DenseNet\n",
    "Define Dense Classifier Model. The layers are as defined on the paper: Input Layer, Hidden Layer, then Output Layer. Model parameters are based on Table 2 from the paper. However, some parameter values might not match because of description ambiguity."
   ]
  },
  {
   "cell_type": "code",
   "execution_count": 83,
   "id": "18e7330fa2b9ffc4",
   "metadata": {
    "collapsed": false,
    "ExecuteTime": {
     "end_time": "2025-03-31T03:32:16.182440600Z",
     "start_time": "2025-03-31T03:32:16.155595800Z"
    }
   },
   "outputs": [],
   "source": [
    "class DenseBotClassifier(nn.Module):\n",
    "    def __init__(self, input_dim=768, output_dim=1, hidden_input_dim=512, hidden_dim=256, hidden_output_dim=128, dropout=0.3):\n",
    "        \"\"\"\n",
    "        :param input_dim: (RoBERTa embeddings + metadata) dimension\n",
    "        :param output_dim: 1 for binary classification\n",
    "        :param input_dim: input_layer input dimension\n",
    "        :param output_dim: input_layer output dimension\n",
    "        :param hidden_input_dim: hidden_layer input dimension\n",
    "        :param hidden_dim: hidden_layer intermediate dimension\n",
    "        :param hidden_output_dim: hidden_layer output dimension\n",
    "        :param dropout: adjust for hyperparameter tuning\n",
    "        \"\"\"\n",
    "        super(DenseBotClassifier, self).__init__()\n",
    "        \n",
    "        self.input_layer = nn.Sequential(\n",
    "                            nn.Linear(input_dim, hidden_input_dim),\n",
    "                            nn.BatchNorm1d(hidden_input_dim),\n",
    "                            nn.SELU(),\n",
    "                            nn.Dropout(dropout)\n",
    "                        )\n",
    "        \n",
    "        self.hidden_layer = nn.Sequential(\n",
    "                            nn.Linear(hidden_input_dim, hidden_dim),\n",
    "                            nn.BatchNorm1d(hidden_dim),\n",
    "                            nn.SELU(),\n",
    "                            nn.Linear(hidden_dim, hidden_output_dim),\n",
    "                            nn.BatchNorm1d(hidden_output_dim),\n",
    "                            nn.SELU(),\n",
    "                            nn.Dropout(dropout)\n",
    "                        )                    \n",
    "        \n",
    "        self.output_layer = nn.Linear(hidden_output_dim, output_dim)\n",
    "    \n",
    "    def forward(self, x):\n",
    "        input_layer_activation = self.input_layer(x)\n",
    "        hidden_layer_activation = self.hidden_layer(input_layer_activation)\n",
    "\n",
    "        return self.output_layer(hidden_layer_activation)"
   ]
  },
  {
   "cell_type": "markdown",
   "id": "3c02f103",
   "metadata": {},
   "source": [
    "## Prepare Data"
   ]
  },
  {
   "cell_type": "markdown",
   "id": "b4a5bcae",
   "metadata": {},
   "source": [
    "Concatenate text embedding with metadata embedding"
   ]
  },
  {
   "cell_type": "code",
   "execution_count": 8,
   "id": "1d01e3b2",
   "metadata": {},
   "outputs": [],
   "source": [
    "train = torch.hstack((train_tweets, train_metadata))\n",
    "test = torch.hstack((test_tweets, test_metadata))"
   ]
  },
  {
   "cell_type": "code",
   "execution_count": 9,
   "id": "275020eb",
   "metadata": {},
   "outputs": [
    {
     "name": "stdout",
     "output_type": "stream",
     "text": [
      "torch.Size([1398465, 773])\n",
      "torch.Size([199863, 773])\n"
     ]
    }
   ],
   "source": [
    "print(train.shape)\n",
    "print(test.shape)"
   ]
  },
  {
   "cell_type": "markdown",
   "id": "420d2518",
   "metadata": {},
   "source": [
    "Create Dataloaders"
   ]
  },
  {
   "cell_type": "code",
   "execution_count": 10,
   "id": "bb8d7698",
   "metadata": {},
   "outputs": [],
   "source": [
    "batch_size = 64  # Batch size for training\n",
    "\n",
    "train_dataset = TensorDataset(train, train_labels)\n",
    "train_loader = DataLoader(train_dataset, batch_size=batch_size, shuffle=True, drop_last=True)\n",
    "\n",
    "test_dataset = TensorDataset(test, test_labels)\n",
    "test_loader = DataLoader(test_dataset, batch_size=batch_size, shuffle=True)"
   ]
  },
  {
   "cell_type": "markdown",
   "id": "73380799711e3073",
   "metadata": {
    "collapsed": false
   },
   "source": [
    "## Model Training"
   ]
  },
  {
   "cell_type": "markdown",
   "id": "810e4fd22abc0ec8",
   "metadata": {
    "collapsed": false
   },
   "source": [
    "Initialize model, loss function, and optimizer"
   ]
  },
  {
   "cell_type": "code",
   "execution_count": 11,
   "id": "1ed327144e25f42b",
   "metadata": {
    "ExecuteTime": {
     "end_time": "2025-03-30T17:02:47.419633400Z",
     "start_time": "2025-03-30T17:02:47.114149700Z"
    },
    "collapsed": false
   },
   "outputs": [],
   "source": [
    "input_size = train.shape[1] # Number of input features (tweet embeddings + metadata)\n",
    "\n",
    "model = DenseBotClassifier(input_size).to(device)\n",
    "criterion = nn.BCEWithLogitsLoss()  # Binary Cross Entropy with logits\n",
    "optimizer = optim.Adam(model.parameters(), lr=0.001)  "
   ]
  },
  {
   "cell_type": "markdown",
   "id": "23e589c55e31204c",
   "metadata": {
    "collapsed": false
   },
   "source": [
    "Train model"
   ]
  },
  {
   "cell_type": "code",
   "execution_count": 12,
   "id": "3e57d9ef8568a91c",
   "metadata": {
    "ExecuteTime": {
     "end_time": "2025-03-30T17:26:47.222252400Z",
     "start_time": "2025-03-30T17:26:47.207762Z"
    },
    "collapsed": false
   },
   "outputs": [],
   "source": [
    "def train_model(model, train_loader, optimizer, criterion, epochs=10):\n",
    "    \"\"\"\n",
    "    :param model: bot classifier\n",
    "    :param train_loader: training dataset\n",
    "    :param optimizer: Adam as specified on paper\n",
    "    :param criterion: BCE as specified on paper\n",
    "    :param epochs: adjust for hyperparameter tuning\n",
    "    :return: None\n",
    "    \"\"\"\n",
    "    model.train()\n",
    "    for epoch in range(epochs):\n",
    "        total_loss = 0\n",
    "        progress_bar = tqdm(train_loader, desc=f\"Epoch {epoch+1}/{epochs}\", leave=True, dynamic_ncols=True, position=0) \n",
    "        \n",
    "        for batch in progress_bar:\n",
    "            embeddings, labels = batch[0].float().to(device), batch[1].float().to(device)\n",
    "            optimizer.zero_grad()\n",
    "            outputs = model(embeddings).squeeze(1)  # Ensure correct shape\n",
    "            loss = criterion(outputs, labels)\n",
    "            loss.backward()\n",
    "            optimizer.step()\n",
    "            total_loss += loss.item()\n",
    "            \n",
    "            progress_bar.set_postfix(loss=f\"{loss.item():.4f}\")"
   ]
  },
  {
   "cell_type": "code",
   "execution_count": 13,
   "id": "c313be716d04e765",
   "metadata": {
    "ExecuteTime": {
     "end_time": "2025-03-30T17:27:55.515076200Z",
     "start_time": "2025-03-30T17:26:48.864661500Z"
    },
    "collapsed": false
   },
   "outputs": [
    {
     "name": "stderr",
     "output_type": "stream",
     "text": [
      "Epoch 1/10: 100%|██████████| 21851/21851 [01:34<00:00, 231.85it/s, loss=0.5796]\n",
      "Epoch 2/10: 100%|██████████| 21851/21851 [01:36<00:00, 227.00it/s, loss=0.5392]\n",
      "Epoch 3/10: 100%|██████████| 21851/21851 [01:31<00:00, 238.47it/s, loss=0.5768]\n",
      "Epoch 4/10: 100%|██████████| 21851/21851 [01:33<00:00, 232.88it/s, loss=0.4992]\n",
      "Epoch 5/10: 100%|██████████| 21851/21851 [01:38<00:00, 221.36it/s, loss=0.5004]\n",
      "Epoch 6/10: 100%|██████████| 21851/21851 [01:33<00:00, 234.20it/s, loss=0.5256]\n",
      "Epoch 7/10: 100%|██████████| 21851/21851 [01:34<00:00, 232.42it/s, loss=0.4924]\n",
      "Epoch 8/10: 100%|██████████| 21851/21851 [01:34<00:00, 231.72it/s, loss=0.6003]\n",
      "Epoch 9/10: 100%|██████████| 21851/21851 [01:35<00:00, 227.69it/s, loss=0.4458]\n",
      "Epoch 10/10: 100%|██████████| 21851/21851 [01:36<00:00, 227.53it/s, loss=0.5498]\n"
     ]
    }
   ],
   "source": [
    "train_model(model, train_loader, optimizer, criterion, epochs=10)"
   ]
  },
  {
   "cell_type": "markdown",
   "id": "4e2c97f4f66d9e66",
   "metadata": {
    "collapsed": false
   },
   "source": [
    "## Model Evaluation"
   ]
  },
  {
   "cell_type": "markdown",
   "id": "5b76836d7136a84a",
   "metadata": {
    "collapsed": false
   },
   "source": [
    "Evaluate model"
   ]
  },
  {
   "cell_type": "code",
   "execution_count": 16,
   "id": "820cdf456fe7e3cb",
   "metadata": {
    "ExecuteTime": {
     "end_time": "2025-03-30T17:34:10.462433800Z",
     "start_time": "2025-03-30T17:34:10.452921800Z"
    },
    "collapsed": false
   },
   "outputs": [],
   "source": [
    "def evaluate_model(model, test_loader):\n",
    "    \"\"\"\n",
    "    :param model: bot classifier\n",
    "    :param test_loader: testing dataset\n",
    "    :return: None\n",
    "    \"\"\"\n",
    "    model.eval()\n",
    "    preds, true_labels = [], []\n",
    "    \n",
    "    with torch.no_grad():\n",
    "        for batch in tqdm(test_loader, desc=\"Evaluating\", unit=\"batch\"):\n",
    "            embeddings, labels = batch[0].float().to(device), batch[1].float().to(device)\n",
    "            outputs = model(embeddings).squeeze(1)\n",
    "            probs = torch.sigmoid(outputs)\n",
    "            preds.extend((probs > 0.5).cpu().numpy())\n",
    "            true_labels.extend(labels.cpu().numpy())\n",
    "    \n",
    "    acc = accuracy_score(true_labels, preds)\n",
    "    f1 = f1_score(true_labels, preds, average='weighted')  # Adjust 'weighted' if needed\n",
    "    mcc = matthews_corrcoef(true_labels, preds)\n",
    "    \n",
    "    print(f'Test Accuracy: {acc:.4f}')\n",
    "    print(f'F1 Score: {f1:.4f}')\n",
    "    print(f'MCC: {mcc:.4f}')"
   ]
  },
  {
   "cell_type": "code",
   "execution_count": 17,
   "id": "3bd0284e70703e8b",
   "metadata": {
    "ExecuteTime": {
     "end_time": "2025-03-30T17:34:27.295288300Z",
     "start_time": "2025-03-30T17:34:25.221089900Z"
    },
    "collapsed": false
   },
   "outputs": [
    {
     "name": "stderr",
     "output_type": "stream",
     "text": [
      "Evaluating: 100%|██████████| 3123/3123 [00:03<00:00, 849.65batch/s]\n"
     ]
    },
    {
     "name": "stdout",
     "output_type": "stream",
     "text": [
      "Test Accuracy: 0.4860\n",
      "F1 Score: 0.3190\n",
      "MCC: 0.0307\n"
     ]
    }
   ],
   "source": [
    "evaluate_model(model, test_loader)"
   ]
  }
 ],
 "metadata": {
  "kernelspec": {
   "display_name": "Python 3",
   "language": "python",
   "name": "python3"
  },
  "language_info": {
   "codemirror_mode": {
    "name": "ipython",
    "version": 2
   },
   "file_extension": ".py",
   "mimetype": "text/x-python",
   "name": "python",
   "nbconvert_exporter": "python",
   "pygments_lexer": "ipython2",
   "version": "2.7.6"
  }
 },
 "nbformat": 4,
 "nbformat_minor": 5
}

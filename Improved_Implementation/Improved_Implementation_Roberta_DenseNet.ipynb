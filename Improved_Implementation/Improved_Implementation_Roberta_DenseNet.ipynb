{
 "cells": [
  {
   "cell_type": "markdown",
   "source": [
    "# Improved Implementation: RoBERTa+DenseNet\n",
    "Based on \"A Deep Learning Approach for Robust Detection of Bots in Twitter Using Transformers\" paper where their best model is based on (RoBERTa + metadata) for the input feature vectors fed to a Dense network."
   ],
   "metadata": {
    "collapsed": false
   },
   "id": "7b563b944d6d7046"
  },
  {
   "cell_type": "markdown",
   "source": [
    "## Import Libraries"
   ],
   "metadata": {
    "collapsed": false
   },
   "id": "47d395f90c0599ea"
  },
  {
   "cell_type": "code",
   "execution_count": 68,
   "outputs": [],
   "source": [
    "import torch\n",
    "import torch.nn as nn\n",
    "import torch.optim as optim\n",
    "from torch.utils.data import DataLoader, TensorDataset\n",
    "from sklearn.model_selection import train_test_split\n",
    "from sklearn.metrics import accuracy_score, f1_score, matthews_corrcoef\n",
    "from tqdm import tqdm"
   ],
   "metadata": {
    "collapsed": false,
    "ExecuteTime": {
     "end_time": "2025-03-30T17:33:40.203203100Z",
     "start_time": "2025-03-30T17:33:40.194888100Z"
    }
   },
   "id": "a5c67f3cf6043b98"
  },
  {
   "cell_type": "markdown",
   "source": [
    "## Set Device"
   ],
   "metadata": {
    "collapsed": false
   },
   "id": "acf931d619b31a8c"
  },
  {
   "cell_type": "code",
   "execution_count": 2,
   "outputs": [
    {
     "name": "stdout",
     "output_type": "stream",
     "text": [
      "Using device: cuda\n"
     ]
    }
   ],
   "source": [
    "# Set device to CUDA if available, else CPU\n",
    "device = torch.device('cuda' if torch.cuda.is_available() else 'cpu')\n",
    "print(f'Using device: {device}')"
   ],
   "metadata": {
    "collapsed": false,
    "ExecuteTime": {
     "end_time": "2025-03-30T16:27:21.478631200Z",
     "start_time": "2025-03-30T16:27:20.563928400Z"
    }
   },
   "id": "11e2adfb6a42e8ca"
  },
  {
   "cell_type": "markdown",
   "source": [
    "## Loading Data (Test, Train, Validate)"
   ],
   "metadata": {
    "collapsed": false
   },
   "id": "8a593c68010deef9"
  },
  {
   "cell_type": "code",
   "execution_count": 3,
   "outputs": [],
   "source": [
    "# User Metadata\n",
    "# train_metadata = torch.load(\"../Data/Processed_Data/train_metadata_tensor.pth\").to(device)\n",
    "# test_metadata = torch.load(\"../Data/Processed_Data/test_metadata_tensor.pth\").to(device)\n",
    "# validate_metadata = torch.load(\"../Data/Processed_Data/validate_metadata_tensor.pth\").to(device)\n",
    "\n",
    "# Tweets Data\n",
    "train_tweets = torch.load(\"../Data/Processed_Data/train_tweet_roberta_emb_tensor.pth\").to(device)\n",
    "test_tweets = torch.load(\"../Data/Processed_Data/test_tweet_roberta_emb_tensor.pth\").to(device)\n",
    "# validate_tweets = torch.load(\"../Data/Processed_Data/validate_tweet_roberta_emb_tensor.pth\").to(device)\n",
    "\n",
    "# Labels\n",
    "train_labels = torch.load(\"../Data/Processed_Data/train_label_tensor.pth\").to(device)\n",
    "test_labels = torch.load(\"../Data/Processed_Data/test_label_tensor.pth\").to(device)\n",
    "# validate_labels = torch.load(\"../Data/Processed_Data/validate_label_tensor.pth\").to(device)"
   ],
   "metadata": {
    "collapsed": false,
    "ExecuteTime": {
     "end_time": "2025-03-30T16:27:25.898206600Z",
     "start_time": "2025-03-30T16:27:24.991455600Z"
    }
   },
   "id": "7fe6443cb58bcc50"
  },
  {
   "cell_type": "code",
   "execution_count": 4,
   "outputs": [
    {
     "name": "stdout",
     "output_type": "stream",
     "text": [
      "torch.Size([199863, 768])\n"
     ]
    }
   ],
   "source": [
    "print(train_tweets.shape)\n",
    "print(test_tweets.shape)\n",
    "# print(validate_tweets.shape)\n",
    "\n",
    "print(train_labels.shape)\n",
    "print(test_labels.shape)\n",
    "# print(validate_labels.shape)"
   ],
   "metadata": {
    "collapsed": false,
    "ExecuteTime": {
     "end_time": "2025-03-30T16:27:33.418677200Z",
     "start_time": "2025-03-30T16:27:33.412839700Z"
    }
   },
   "id": "a865a28f03981526"
  },
  {
   "cell_type": "markdown",
   "source": [
    "Stratified sampling to expedite model training"
   ],
   "metadata": {
    "collapsed": false
   },
   "id": "87c79fe0c79e656e"
  },
  {
   "cell_type": "code",
   "execution_count": 5,
   "outputs": [
    {
     "name": "stdout",
     "output_type": "stream",
     "text": [
      "torch.Size([59959, 768])\n"
     ]
    }
   ],
   "source": [
    "# Move labels to CPU for processing\n",
    "train_labels_cpu = train_labels.cpu().numpy()\n",
    "# train_labels_cpu = test_labels.cpu().numpy()\n",
    "\n",
    "# Perform stratified sampling to maintain label distribution\n",
    "_, sampled_indices = train_test_split(\n",
    "    range(train_tweets.shape[0]), \n",
    "    # range(test_tweets.shape[0]), \n",
    "    test_size=0.3, \n",
    "    stratify=train_labels_cpu, \n",
    "    random_state=42\n",
    ")\n",
    "\n",
    "# Convert to tensor and move to device\n",
    "sampled_indices = torch.tensor(sampled_indices, device=device)\n",
    "\n",
    "train_tweets = train_tweets[sampled_indices].contiguous()\n",
    "# train_metadata = train_metadata[sampled_indices].contiguous()\n",
    "train_labels = train_labels[sampled_indices].contiguous()\n",
    "\n",
    "print(train_tweets.shape)"
   ],
   "metadata": {
    "collapsed": false,
    "ExecuteTime": {
     "end_time": "2025-03-30T16:29:09.279322300Z",
     "start_time": "2025-03-30T16:29:08.737607200Z"
    }
   },
   "id": "d8e8f5f1d3ff0842"
  },
  {
   "cell_type": "markdown",
   "source": [
    "## DenseNet"
   ],
   "metadata": {
    "collapsed": false
   },
   "id": "d908b156c6a297f0"
  },
  {
   "cell_type": "markdown",
   "source": [
    "Define Dense Classifier Model. The layers are as defined on the paper: Input Layer, Hidden Layer, then Output Layer. Model parameters are based on Table 2 from the paper. However, some parameter values might not match because of description ambiguity."
   ],
   "metadata": {
    "collapsed": false
   },
   "id": "e2f0c7bc006abca7"
  },
  {
   "cell_type": "code",
   "execution_count": 8,
   "outputs": [],
   "source": [
    "class DenseBotClassifier(nn.Module):\n",
    "    def __init__(self, input_dim=768, output_dim=1, hidden_input_dim=512, hidden_dim=256, hidden_output_dim=128, dropout=0.3):\n",
    "        \"\"\"\n",
    "        :param input_dim: (RoBERTa embeddings + metadata) dimension\n",
    "        :param output_dim: 1 for binary classification\n",
    "        :param input_dim: input_layer input dimension\n",
    "        :param output_dim: input_layer output dimension\n",
    "        :param hidden_input_dim: hidden_layer input dimension\n",
    "        :param hidden_dim: hidden_layer intermediate dimension\n",
    "        :param hidden_output_dim: hidden_layer output dimension\n",
    "        :param dropout: adjust for hyperparameter tuning\n",
    "        \"\"\"\n",
    "        super(DenseBotClassifier, self).__init__()\n",
    "        \n",
    "        self.input_layer = nn.Sequential(\n",
    "                            nn.Linear(input_dim, hidden_input_dim),\n",
    "                            nn.BatchNorm1d(hidden_input_dim),\n",
    "                            nn.SELU(),\n",
    "                            nn.Dropout(dropout)\n",
    "                        )\n",
    "        \n",
    "        self.hidden_layer = nn.Sequential(\n",
    "                            nn.Linear(hidden_input_dim, hidden_dim),\n",
    "                            nn.BatchNorm1d(hidden_dim),\n",
    "                            nn.SELU(),\n",
    "                            nn.Linear(hidden_dim, hidden_output_dim),\n",
    "                            nn.BatchNorm1d(hidden_output_dim),\n",
    "                            nn.SELU(),\n",
    "                            nn.Dropout(dropout)\n",
    "                        )                    \n",
    "        \n",
    "        self.output_layer = nn.Sequential(\n",
    "                            nn.Linear(hidden_output_dim, output_dim),\n",
    "                            nn.Sigmoid()\n",
    "                        )\n",
    "    \n",
    "    def forward(self, x):\n",
    "        input_layer_activation = self.input_layer(x)\n",
    "        hidden_layer_activation = self.hidden_layer(input_layer_activation)\n",
    "\n",
    "        return self.output_layer(hidden_layer_activation)"
   ],
   "metadata": {
    "collapsed": false,
    "ExecuteTime": {
     "end_time": "2025-03-30T16:45:02.080756200Z",
     "start_time": "2025-03-30T16:45:02.072658600Z"
    }
   },
   "id": "18e7330fa2b9ffc4"
  },
  {
   "cell_type": "markdown",
   "source": [
    "Define model parameters"
   ],
   "metadata": {
    "collapsed": false
   },
   "id": "b638a7847c426c67"
  },
  {
   "cell_type": "code",
   "execution_count": 9,
   "outputs": [],
   "source": [
    "input_size = 768 # Number of input features (tweet embeddings + metadata)\n",
    "batch_size = 64  # Batch size for training"
   ],
   "metadata": {
    "collapsed": false
   },
   "id": "53372f65a2dadba8"
  },
  {
   "cell_type": "markdown",
   "source": [
    "## Model Training"
   ],
   "metadata": {
    "collapsed": false
   },
   "id": "73380799711e3073"
  },
  {
   "cell_type": "markdown",
   "source": [
    "Create Dataloaders"
   ],
   "metadata": {
    "collapsed": false
   },
   "id": "ffe75420aedbc9bf"
  },
  {
   "cell_type": "code",
   "execution_count": 13,
   "outputs": [],
   "source": [
    "train_dataset = TensorDataset(train_tweets, train_labels)\n",
    "train_loader = DataLoader(train_dataset, batch_size=batch_size, shuffle=True)"
   ],
   "metadata": {
    "collapsed": false,
    "ExecuteTime": {
     "end_time": "2025-03-30T16:59:43.137366500Z",
     "start_time": "2025-03-30T16:59:43.124300400Z"
    }
   },
   "id": "f44404e8c700a97d"
  },
  {
   "cell_type": "markdown",
   "source": [
    "Initialize model, loss function, and optimizer"
   ],
   "metadata": {
    "collapsed": false
   },
   "id": "810e4fd22abc0ec8"
  },
  {
   "cell_type": "code",
   "execution_count": 73,
   "outputs": [],
   "source": [
    "model = DenseBotClassifier(input_size).to(device)\n",
    "criterion = nn.BCEWithLogitsLoss()  # Binary Cross Entropy with logits\n",
    "optimizer = optim.Adam(model.parameters(), lr=0.001)  "
   ],
   "metadata": {
    "collapsed": false,
    "ExecuteTime": {
     "end_time": "2025-03-30T18:09:32.746074200Z",
     "start_time": "2025-03-30T18:09:32.709723600Z"
    }
   },
   "id": "1ed327144e25f42b"
  },
  {
   "cell_type": "markdown",
   "source": [
    "Train model"
   ],
   "metadata": {
    "collapsed": false
   },
   "id": "23e589c55e31204c"
  },
  {
   "cell_type": "code",
   "execution_count": 64,
   "outputs": [],
   "source": [
    "def train_model(model, train_loader, optimizer, criterion, epochs=10):\n",
    "    \"\"\"\n",
    "    :param model: bot classifier\n",
    "    :param train_loader: training dataset\n",
    "    :param optimizer: Adam as specified on paper\n",
    "    :param criterion: BCE as specified on paper\n",
    "    :param epochs: adjust for hyperparameter tuning\n",
    "    :return: None\n",
    "    \"\"\"\n",
    "    model.train()\n",
    "    for epoch in range(epochs):\n",
    "        total_loss = 0\n",
    "        progress_bar = tqdm(train_loader, desc=f\"Epoch {epoch+1}/{epochs}\", leave=True, dynamic_ncols=True, position=0) \n",
    "        \n",
    "        for batch in progress_bar:\n",
    "            embeddings, labels = batch[0].to(device), batch[1].float().to(device)\n",
    "            optimizer.zero_grad()\n",
    "            outputs = model(embeddings).squeeze(1)  # Ensure correct shape\n",
    "            loss = criterion(outputs, labels)\n",
    "            loss.backward()\n",
    "            optimizer.step()\n",
    "            total_loss += loss.item()\n",
    "            \n",
    "            progress_bar.set_postfix(loss=f\"{loss.item():.4f}\")"
   ],
   "metadata": {
    "collapsed": false,
    "ExecuteTime": {
     "end_time": "2025-03-30T17:26:47.222252400Z",
     "start_time": "2025-03-30T17:26:47.207762Z"
    }
   },
   "id": "3e57d9ef8568a91c"
  },
  {
   "cell_type": "code",
   "execution_count": 65,
   "outputs": [
    {
     "name": "stderr",
     "output_type": "stream",
     "text": [
      "Epoch 1/10: 100%|██████████| 937/937 [00:05<00:00, 166.09it/s, loss=0.6137]\n",
      "Epoch 2/10: 100%|██████████| 937/937 [00:05<00:00, 169.93it/s, loss=0.6172]\n",
      "Epoch 3/10: 100%|██████████| 937/937 [00:05<00:00, 156.74it/s, loss=0.6463]\n",
      "Epoch 4/10: 100%|██████████| 937/937 [00:06<00:00, 148.74it/s, loss=0.5849]\n",
      "Epoch 5/10: 100%|██████████| 937/937 [00:06<00:00, 146.27it/s, loss=0.6163]\n",
      "Epoch 6/10: 100%|██████████| 937/937 [00:07<00:00, 130.53it/s, loss=0.5923]\n",
      "Epoch 7/10: 100%|██████████| 937/937 [00:07<00:00, 129.13it/s, loss=0.5618]\n",
      "Epoch 8/10: 100%|██████████| 937/937 [00:07<00:00, 124.56it/s, loss=0.5924]\n",
      "Epoch 9/10: 100%|██████████| 937/937 [00:07<00:00, 127.38it/s, loss=0.6270]\n",
      "Epoch 10/10: 100%|██████████| 937/937 [00:07<00:00, 125.83it/s, loss=0.6269]\n"
     ]
    }
   ],
   "source": [
    "train_model(model, train_loader, optimizer, criterion, epochs=10)"
   ],
   "metadata": {
    "collapsed": false,
    "ExecuteTime": {
     "end_time": "2025-03-30T17:27:55.515076200Z",
     "start_time": "2025-03-30T17:26:48.864661500Z"
    }
   },
   "id": "c313be716d04e765"
  },
  {
   "cell_type": "markdown",
   "source": [
    "## Model Evaluation"
   ],
   "metadata": {
    "collapsed": false
   },
   "id": "4e2c97f4f66d9e66"
  },
  {
   "cell_type": "markdown",
   "source": [
    "Create Dataloaders"
   ],
   "metadata": {
    "collapsed": false
   },
   "id": "3efc1e792d83dac1"
  },
  {
   "cell_type": "code",
   "execution_count": 13,
   "outputs": [],
   "source": [
    "test_dataset = TensorDataset(test_tweets, test_labels)\n",
    "test_loader = DataLoader(test_dataset, batch_size=batch_size, shuffle=True)"
   ],
   "metadata": {
    "collapsed": false
   },
   "id": "4d80f7a6529e1eb2"
  },
  {
   "cell_type": "markdown",
   "source": [
    "Evaluate model"
   ],
   "metadata": {
    "collapsed": false
   },
   "id": "5b76836d7136a84a"
  },
  {
   "cell_type": "code",
   "execution_count": 74,
   "outputs": [],
   "source": [
    "from tqdm import tqdm\n",
    "from sklearn.metrics import accuracy_score, f1_score, matthews_corrcoef\n",
    "\n",
    "def evaluate_model(model, test_loader):\n",
    "    \"\"\"\n",
    "    :param model: bot classifier\n",
    "    :param test_loader: testing dataset\n",
    "    :return: None\n",
    "    \"\"\"\n",
    "    model.eval()\n",
    "    preds, true_labels = [], []\n",
    "    \n",
    "    with torch.no_grad():\n",
    "        for batch in tqdm(test_loader, desc=\"Evaluating\", unit=\"batch\"):\n",
    "            embeddings, labels = batch[0].to(device), batch[1].float().to(device)\n",
    "            outputs = model(embeddings)\n",
    "            preds.extend(torch.argmax(outputs, dim=1).cpu().numpy())\n",
    "            true_labels.extend(labels.cpu().numpy())\n",
    "    \n",
    "    acc = accuracy_score(true_labels, preds)\n",
    "    f1 = f1_score(true_labels, preds, average='weighted')  # Adjust 'weighted' if needed\n",
    "    mcc = matthews_corrcoef(true_labels, preds)\n",
    "    \n",
    "    print(f'Test Accuracy: {acc:.4f}')\n",
    "    print(f'F1 Score: {f1:.4f}')\n",
    "    print(f'MCC: {mcc:.4f}')"
   ],
   "metadata": {
    "collapsed": false,
    "ExecuteTime": {
     "end_time": "2025-03-30T18:11:35.265257700Z",
     "start_time": "2025-03-30T18:11:35.257728900Z"
    }
   },
   "id": "820cdf456fe7e3cb"
  },
  {
   "cell_type": "code",
   "execution_count": 71,
   "outputs": [
    {
     "name": "stdout",
     "output_type": "stream",
     "text": [
      "Test Accuracy: 0.4850\n",
      "F1 Score: 0.3168\n",
      "MCC: 0.0000\n"
     ]
    }
   ],
   "source": [
    "evaluate_model(model, train_loader)"
   ],
   "metadata": {
    "collapsed": false,
    "ExecuteTime": {
     "end_time": "2025-03-30T17:34:27.295288300Z",
     "start_time": "2025-03-30T17:34:25.221089900Z"
    }
   },
   "id": "3bd0284e70703e8b"
  }
 ],
 "metadata": {
  "kernelspec": {
   "display_name": "Python 3",
   "language": "python",
   "name": "python3"
  },
  "language_info": {
   "codemirror_mode": {
    "name": "ipython",
    "version": 2
   },
   "file_extension": ".py",
   "mimetype": "text/x-python",
   "name": "python",
   "nbconvert_exporter": "python",
   "pygments_lexer": "ipython2",
   "version": "2.7.6"
  }
 },
 "nbformat": 4,
 "nbformat_minor": 5
}

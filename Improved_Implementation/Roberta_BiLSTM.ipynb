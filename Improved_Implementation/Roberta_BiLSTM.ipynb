{
 "cells": [
  {
   "cell_type": "markdown",
   "id": "896e16ff92eca711",
   "metadata": {
    "collapsed": false
   },
   "source": [
    "# Improved Implementation: RoBERTa+BiLSTM\n",
    "\n",
    "Using best parameters on the full training dataset with metadata, the performance metric scores on the test dataset are as follows: \n",
    "1. ACC: 0.8044\n",
    "2. F1: 0.8017\n",
    "3. MCC: 0.6198"
   ]
  },
  {
   "cell_type": "markdown",
   "id": "47d395f90c0599ea",
   "metadata": {
    "collapsed": false
   },
   "source": [
    "## Import Libraries"
   ]
  },
  {
   "cell_type": "code",
   "execution_count": 1,
   "id": "a5c67f3cf6043b98",
   "metadata": {
    "collapsed": false,
    "ExecuteTime": {
     "end_time": "2025-04-21T16:34:35.774367700Z",
     "start_time": "2025-04-21T16:34:30.653057300Z"
    }
   },
   "outputs": [],
   "source": [
    "import os\n",
    "import torch\n",
    "import torch.nn as nn\n",
    "import torch.optim as optim\n",
    "from torch.utils.data import DataLoader, TensorDataset\n",
    "# from sklearn.model_selection import train_test_split\n",
    "from sklearn.metrics import accuracy_score, f1_score, matthews_corrcoef\n",
    "from tqdm import tqdm\n",
    "import itertools\n",
    "import pandas as pd"
   ]
  },
  {
   "cell_type": "markdown",
   "id": "acf931d619b31a8c",
   "metadata": {
    "collapsed": false
   },
   "source": [
    "## Set Device\n",
    "Set device to CUDA if available, else CPU"
   ]
  },
  {
   "cell_type": "code",
   "execution_count": 2,
   "id": "11e2adfb6a42e8ca",
   "metadata": {
    "collapsed": false,
    "ExecuteTime": {
     "end_time": "2025-04-21T16:34:35.883663800Z",
     "start_time": "2025-04-21T16:34:35.880285100Z"
    }
   },
   "outputs": [
    {
     "name": "stdout",
     "output_type": "stream",
     "text": [
      "Using device: cuda\n"
     ]
    }
   ],
   "source": [
    "device = torch.device('cuda' if torch.cuda.is_available() else 'cpu')\n",
    "print(f'Using device: {device}')"
   ]
  },
  {
   "cell_type": "code",
   "execution_count": 3,
   "id": "c660fd97",
   "metadata": {
    "ExecuteTime": {
     "end_time": "2025-04-21T16:34:35.893822300Z",
     "start_time": "2025-04-21T16:34:35.886665800Z"
    }
   },
   "outputs": [],
   "source": [
    "if device == 'cuda': \n",
    "    torch.cuda.empty_cache()"
   ]
  },
  {
   "cell_type": "markdown",
   "id": "8a593c68010deef9",
   "metadata": {
    "collapsed": false
   },
   "source": [
    "## Loading Data (Test, Train, Validate)"
   ]
  },
  {
   "cell_type": "code",
   "execution_count": 4,
   "id": "7fe6443cb58bcc50",
   "metadata": {
    "collapsed": false,
    "ExecuteTime": {
     "end_time": "2025-04-21T16:34:57.144759900Z",
     "start_time": "2025-04-21T16:34:48.751863900Z"
    }
   },
   "outputs": [],
   "source": [
    "# User Metadata\n",
    "train_metadata = torch.load(\"../Data/Processed_Data/train_metadata_tensor.pth\").to(device)\n",
    "test_metadata = torch.load(\"../Data/Processed_Data/test_metadata_tensor.pth\").to(device)\n",
    "# validate_metadata = torch.load(\"../Data/Processed_Data/validate_metadata_tensor.pth\").to(device)\n",
    "\n",
    "# Tweets Data\n",
    "train_tweets = torch.load(\"../Data/Processed_Data/train_tweet_roberta_emb_tensor.pth\")[:,:200].to(device)\n",
    "test_tweets = torch.load(\"../Data/Processed_Data/test_tweet_roberta_emb_tensor.pth\")[:,:200].to(device)\n",
    "# validate_tweets = torch.load(\"../Data/Processed_Data/validate_tweet_roberta_emb_tensor.pth\").to(device)\n",
    "\n",
    "# Labels\n",
    "train_labels = torch.load(\"../Data/Processed_Data/train_label_tensor.pth\").to(device)\n",
    "test_labels = torch.load(\"../Data/Processed_Data/test_label_tensor.pth\").to(device)\n",
    "# validate_labels = torch.load(\"../Data/Processed_Data/validate_label_tensor.pth\").to(device)"
   ]
  },
  {
   "cell_type": "code",
   "execution_count": 5,
   "id": "a865a28f03981526",
   "metadata": {
    "collapsed": false,
    "ExecuteTime": {
     "end_time": "2025-04-21T16:34:57.145757Z",
     "start_time": "2025-04-21T16:34:57.137865200Z"
    }
   },
   "outputs": [
    {
     "name": "stdout",
     "output_type": "stream",
     "text": [
      "torch.Size([1398465, 200])\n",
      "torch.Size([199863, 200])\n",
      "torch.Size([1398465, 5])\n",
      "torch.Size([199863, 5])\n"
     ]
    }
   ],
   "source": [
    "print(train_tweets.shape)\n",
    "print(test_tweets.shape)\n",
    "# print(validate_tweets.shape)\n",
    "\n",
    "print(train_metadata.shape)\n",
    "print(test_metadata.shape)\n",
    "# print(validate_metadata.shape)"
   ]
  },
  {
   "cell_type": "markdown",
   "id": "e91c75d15d08e3ec",
   "metadata": {
    "collapsed": false
   },
   "source": [
    "Set seed for Reproducability"
   ]
  },
  {
   "cell_type": "code",
   "execution_count": 6,
   "id": "645e59f07e6d2a8",
   "metadata": {
    "collapsed": false,
    "ExecuteTime": {
     "end_time": "2025-04-21T16:35:05.845147600Z",
     "start_time": "2025-04-21T16:35:05.823371500Z"
    }
   },
   "outputs": [
    {
     "data": {
      "text/plain": "<torch._C.Generator at 0x1b91e5a4190>"
     },
     "execution_count": 6,
     "metadata": {},
     "output_type": "execute_result"
    }
   ],
   "source": [
    "seed = 42\n",
    "torch.manual_seed(seed)"
   ]
  },
  {
   "cell_type": "markdown",
   "id": "87c79fe0c79e656e",
   "metadata": {
    "collapsed": false
   },
   "source": [
    "Stratified sampling to expedite model training"
   ]
  },
  {
   "cell_type": "code",
   "execution_count": null,
   "id": "d8e8f5f1d3ff0842",
   "metadata": {
    "collapsed": false
   },
   "outputs": [],
   "source": [
    "\"\"\"\n",
    "# Move labels to CPU for processing\n",
    "train_labels_cpu = train_labels.cpu().numpy()\n",
    "# train_labels_cpu = test_labels.cpu().numpy()\n",
    "\n",
    "# Perform stratified sampling to maintain label distribution\n",
    "_, sampled_indices = train_test_split(\n",
    "    range(train_tweets.shape[0]), \n",
    "    # range(test_tweets.shape[0]), \n",
    "    test_size=0.3, \n",
    "    stratify=train_labels_cpu, \n",
    "    random_state=42\n",
    ")\n",
    "\n",
    "# Convert to tensor and move to device\n",
    "sampled_indices = torch.tensor(sampled_indices, device=device)\n",
    "\n",
    "train_tweets = train_tweets[sampled_indices].contiguous()\n",
    "# train_metadata = train_metadata[sampled_indices].contiguous()\n",
    "train_labels = train_labels[sampled_indices].contiguous()\n",
    "\n",
    "# test_tweets = test_tweets[sampled_indices].contiguous()\n",
    "# train_metadata = train_metadata[sampled_indices].contiguous()\n",
    "# test_labels = test_labels[sampled_indices].contiguous()\n",
    "\n",
    "print(train_tweets.shape)\n",
    "\"\"\""
   ]
  },
  {
   "cell_type": "markdown",
   "id": "178217a383989a43",
   "metadata": {
    "collapsed": false
   },
   "source": [
    "\n",
    "## BiLSTM Model"
   ]
  },
  {
   "cell_type": "code",
   "execution_count": 19,
   "id": "b8ab45fefb689afe",
   "metadata": {
    "collapsed": false,
    "ExecuteTime": {
     "end_time": "2025-04-21T16:39:32.161364800Z",
     "start_time": "2025-04-21T16:39:32.131458Z"
    }
   },
   "outputs": [],
   "source": [
    "class LSTMModel(nn.Module):\n",
    "    \n",
    "    def __init__(self, input_size=200, hidden_size=50, output_size=32, num_layers=1, dropout_rate = 0.0):\n",
    "        super(LSTMModel, self).__init__()\n",
    "        \n",
    "        # Define the LSTM layer\n",
    "        self.lstm = nn.LSTM(input_size, hidden_size, num_layers, batch_first=False, bidirectional = True, dropout = dropout_rate)\n",
    "        \n",
    "        # Define a fully connected output layer\n",
    "        self.fc = nn.Linear(hidden_size * 2, output_size)\n",
    "        \n",
    "        \n",
    "    def forward(self, x):\n",
    "        # Pass through BiLSTM\n",
    "        lstm_out, (hn, cn) = self.lstm(x)\n",
    "        \n",
    "        output = self.fc(lstm_out[:, -1, :])\n",
    "        return output"
   ]
  },
  {
   "cell_type": "code",
   "execution_count": 8,
   "id": "c096afd8d381a418",
   "metadata": {
    "collapsed": false
   },
   "outputs": [],
   "source": [
    "lstm_input_size = 200 #768 # Number of features in input data (768 for Roberta Embeddings)\n",
    "lstm_hidden_size = 50\n",
    "lstm_output_size = 32\n",
    "lstm_number_layers = 1 # Number of LSTM Layers\n",
    "lstm_dropout = 0"
   ]
  },
  {
   "cell_type": "code",
   "execution_count": null,
   "outputs": [],
   "source": [
    "# Creating LSTM Model\n",
    "lstm_model = LSTMModel(input_size = lstm_input_size, hidden_size = lstm_hidden_size, output_size = lstm_output_size, \n",
    "                      num_layers = lstm_number_layers, dropout_rate=lstm_dropout).to(device)"
   ],
   "metadata": {
    "collapsed": false
   },
   "id": "c2b2d5dcf56f4170"
  },
  {
   "cell_type": "markdown",
   "id": "3c02f103",
   "metadata": {},
   "source": [
    "## Prepare Data"
   ]
  },
  {
   "cell_type": "markdown",
   "id": "3731fbae01ca9f7",
   "metadata": {
    "collapsed": false
   },
   "source": [
    "Getting lstm_output for datasets"
   ]
  },
  {
   "cell_type": "code",
   "execution_count": 21,
   "outputs": [],
   "source": [
    "train_tweets = train_tweets.unsqueeze(1).to(torch.float32)\n",
    "test_tweets = test_tweets.unsqueeze(1).to(torch.float32)"
   ],
   "metadata": {
    "collapsed": false,
    "ExecuteTime": {
     "end_time": "2025-04-21T16:41:43.790337200Z",
     "start_time": "2025-04-21T16:41:43.769331500Z"
    }
   },
   "id": "75a29e8e855e1141"
  },
  {
   "cell_type": "code",
   "execution_count": 9,
   "id": "ade7bc05883584fa",
   "metadata": {
    "collapsed": false
   },
   "outputs": [],
   "source": [
    "train_lstm_output = lstm_model(train_tweets)\n",
    "train_lstm_output = train_lstm_output.detach()\n",
    "\n",
    "test_lstm_output = lstm_model(test_tweets)\n",
    "test_lstm_output = test_lstm_output.detach()"
   ]
  },
  {
   "cell_type": "code",
   "execution_count": 10,
   "id": "d51cb9e2-1fad-434c-9f0c-76bb1f19d40c",
   "metadata": {},
   "outputs": [
    {
     "name": "stdout",
     "output_type": "stream",
     "text": [
      "torch.Size([1398465, 32])\n",
      "torch.Size([199863, 32])\n"
     ]
    }
   ],
   "source": [
    "print(train_lstm_output.shape)\n",
    "print(test_lstm_output.shape)"
   ]
  },
  {
   "cell_type": "markdown",
   "id": "b4a5bcae",
   "metadata": {},
   "source": [
    "Concatenate text embedding with metadata embedding"
   ]
  },
  {
   "cell_type": "code",
   "execution_count": 11,
   "id": "1d01e3b2",
   "metadata": {},
   "outputs": [],
   "source": [
    "x_train = torch.hstack((train_lstm_output, train_metadata)).to(torch.float32)\n",
    "x_test = torch.hstack((test_lstm_output, test_metadata)).to(torch.float32)"
   ]
  },
  {
   "cell_type": "code",
   "execution_count": 12,
   "id": "37f96514ee67e29b",
   "metadata": {
    "collapsed": false
   },
   "outputs": [],
   "source": [
    "y_train = train_labels.view(-1, 1).to(torch.float32)\n",
    "y_test = test_labels.view(-1, 1).to(torch.float32)"
   ]
  },
  {
   "cell_type": "code",
   "execution_count": 13,
   "id": "55b755f3383ccbf5",
   "metadata": {
    "collapsed": false
   },
   "outputs": [
    {
     "name": "stdout",
     "output_type": "stream",
     "text": [
      "torch.Size([1398465, 37]) torch.Size([1398465, 1])\n",
      "torch.Size([199863, 37]) torch.Size([199863, 1])\n"
     ]
    }
   ],
   "source": [
    "print(x_train.shape, y_train.shape)\n",
    "print(x_test.shape, y_test.shape)"
   ]
  },
  {
   "cell_type": "code",
   "execution_count": 14,
   "id": "8331ead113c50263",
   "metadata": {
    "collapsed": false
   },
   "outputs": [
    {
     "data": {
      "text/plain": [
       "tensor([[0.],\n",
       "        [0.],\n",
       "        [0.],\n",
       "        ...,\n",
       "        [1.],\n",
       "        [1.],\n",
       "        [1.]], device='cuda:0')"
      ]
     },
     "execution_count": 14,
     "metadata": {},
     "output_type": "execute_result"
    }
   ],
   "source": [
    "x_train.requires_grad_(False)\n",
    "y_train.requires_grad_(False)"
   ]
  },
  {
   "cell_type": "markdown",
   "id": "1903b1956ac88084",
   "metadata": {
    "collapsed": false
   },
   "source": [
    "## Final Layer"
   ]
  },
  {
   "cell_type": "code",
   "execution_count": 17,
   "id": "af87a678d7cb89e3",
   "metadata": {
    "collapsed": false,
    "ExecuteTime": {
     "end_time": "2025-04-21T16:38:53.601977100Z",
     "start_time": "2025-04-21T16:38:53.571101700Z"
    }
   },
   "outputs": [],
   "source": [
    "class NeuralNetwork(nn.Module):\n",
    "    \n",
    "    def __init__(self, input_size, hidden_size_1, hidden_size_2, output_size=1, dropout=0.2):\n",
    "        super(NeuralNetwork, self).__init__()\n",
    "        self.fc1 = nn.Linear(input_size, hidden_size_1)  # First fully connected layer\n",
    "        self.fc2 = nn.Linear(hidden_size_1, hidden_size_2)  # Second fully connected layer\n",
    "        self.out = nn.Linear(hidden_size_2, output_size)\n",
    "        self.dropout = nn.Dropout(p = dropout)\n",
    "        \n",
    "        \n",
    "    def forward(self, x):\n",
    "        x = torch.relu(self.fc1(x))  # Apply ReLU activation after the first layer\n",
    "        x = self.dropout(x)\n",
    "        x = torch.relu(self.fc2(x))  # Output layer\n",
    "        \n",
    "        x = self.out(x)\n",
    "        return x"
   ]
  },
  {
   "cell_type": "code",
   "execution_count": 16,
   "id": "f035ebeb707789eb",
   "metadata": {
    "collapsed": false
   },
   "outputs": [],
   "source": [
    "# Network Parameters\n",
    "input_size = 37 # Number of input features (tweet embeddings + metadata)\n",
    "hidden_size_1 = 128  # Number of hidden units in the first fully connected layer\n",
    "hidden_size_2 = 64  # Number of hidden units in the first fully connected layer\n",
    "output_size = 1  # Output size (binary classification: 1 output)"
   ]
  },
  {
   "cell_type": "markdown",
   "id": "420d2518",
   "metadata": {},
   "source": [
    "## Create Dataloaders"
   ]
  },
  {
   "cell_type": "code",
   "execution_count": 17,
   "id": "bb8d7698",
   "metadata": {},
   "outputs": [],
   "source": [
    "batch_size = 64 # Batch size for training\n",
    "\n",
    "train_dataset = TensorDataset(x_train, y_train)\n",
    "train_loader = DataLoader(train_dataset, batch_size=batch_size, shuffle=True)\n",
    "\n",
    "test_dataset = TensorDataset(x_test, y_test)\n",
    "test_loader = DataLoader(test_dataset, batch_size=batch_size, shuffle=True)"
   ]
  },
  {
   "cell_type": "markdown",
   "id": "73380799711e3073",
   "metadata": {
    "collapsed": false
   },
   "source": [
    "## Model Training"
   ]
  },
  {
   "cell_type": "markdown",
   "id": "810e4fd22abc0ec8",
   "metadata": {
    "collapsed": false
   },
   "source": [
    "Initialize model, loss function, and optimizer"
   ]
  },
  {
   "cell_type": "code",
   "execution_count": 18,
   "id": "1ed327144e25f42b",
   "metadata": {
    "ExecuteTime": {
     "end_time": "2025-03-30T17:02:47.419633400Z",
     "start_time": "2025-03-30T17:02:47.114149700Z"
    },
    "collapsed": false
   },
   "outputs": [],
   "source": [
    "torch.manual_seed(seed)\n",
    "model = NeuralNetwork(input_size, hidden_size_1, hidden_size_2, output_size).to(device)\n",
    "criterion = nn.BCEWithLogitsLoss()  # Binary Cross Entropy with logits\n",
    "optimizer = optim.Adam(model.parameters(), lr=0.0001)"
   ]
  },
  {
   "cell_type": "markdown",
   "id": "23e589c55e31204c",
   "metadata": {
    "collapsed": false
   },
   "source": [
    "Train model"
   ]
  },
  {
   "cell_type": "code",
   "execution_count": 9,
   "id": "3e57d9ef8568a91c",
   "metadata": {
    "collapsed": false,
    "ExecuteTime": {
     "end_time": "2025-04-21T16:35:37.341409900Z",
     "start_time": "2025-04-21T16:35:37.325930900Z"
    }
   },
   "outputs": [],
   "source": [
    "def train_model(model, train_loader, optimizer, criterion, epochs=10):\n",
    "    \"\"\"\n",
    "    :param model: bot classifier\n",
    "    :param train_loader: training dataset\n",
    "    :param optimizer: Adam as specified on paper\n",
    "    :param criterion: BCE as specified on paper\n",
    "    :param epochs: adjust for hyperparameter tuning\n",
    "    :return: None\n",
    "    \"\"\"\n",
    "    model.train()\n",
    "    for epoch in range(epochs):\n",
    "        total_loss = 0\n",
    "        progress_bar = tqdm(train_loader, desc=f\"Epoch {epoch+1}/{epochs}\", leave=True, dynamic_ncols=True, position=0) \n",
    "        \n",
    "        for i, batch in enumerate(progress_bar):\n",
    "            embeddings, labels = batch[0].float().to(device), batch[1].float().to(device)\n",
    "            optimizer.zero_grad()\n",
    "            outputs = model(embeddings)\n",
    "            loss = criterion(outputs, labels)\n",
    "            loss.backward()\n",
    "            optimizer.step()\n",
    "            total_loss += loss.item()\n",
    "\n",
    "            if i % 10 == 0:\n",
    "                progress_bar.set_postfix(loss=f\"{loss.item():.4f}\")"
   ]
  },
  {
   "cell_type": "code",
   "execution_count": 25,
   "id": "8e6c7a51-5cd5-4041-994f-965c9c9c2cfb",
   "metadata": {},
   "outputs": [
    {
     "name": "stderr",
     "output_type": "stream",
     "text": [
      "Epoch 1/10: 100%|██████████| 21852/21852 [00:46<00:00, 469.58it/s, loss=3.7123]  \n",
      "Epoch 2/10: 100%|██████████| 21852/21852 [00:47<00:00, 462.30it/s, loss=0.5805] \n",
      "Epoch 3/10: 100%|██████████| 21852/21852 [00:47<00:00, 457.80it/s, loss=0.5366] \n",
      "Epoch 4/10: 100%|██████████| 21852/21852 [00:47<00:00, 461.57it/s, loss=0.4693]\n",
      "Epoch 5/10: 100%|██████████| 21852/21852 [00:45<00:00, 475.20it/s, loss=0.5689]\n",
      "Epoch 6/10: 100%|██████████| 21852/21852 [00:46<00:00, 469.88it/s, loss=0.5335] \n",
      "Epoch 7/10: 100%|██████████| 21852/21852 [00:48<00:00, 453.41it/s, loss=0.4210]\n",
      "Epoch 8/10: 100%|██████████| 21852/21852 [00:47<00:00, 456.20it/s, loss=0.7942] \n",
      "Epoch 9/10: 100%|██████████| 21852/21852 [00:46<00:00, 469.60it/s, loss=0.4894]\n",
      "Epoch 10/10: 100%|██████████| 21852/21852 [00:46<00:00, 473.38it/s, loss=0.4773]\n"
     ]
    }
   ],
   "source": [
    "train_model(model, train_loader, optimizer, criterion, epochs=10)"
   ]
  },
  {
   "cell_type": "markdown",
   "id": "4e2c97f4f66d9e66",
   "metadata": {
    "collapsed": false
   },
   "source": [
    "## Model Evaluation"
   ]
  },
  {
   "cell_type": "markdown",
   "id": "5b76836d7136a84a",
   "metadata": {
    "collapsed": false
   },
   "source": [
    "Evaluate model"
   ]
  },
  {
   "cell_type": "code",
   "execution_count": 10,
   "id": "820cdf456fe7e3cb",
   "metadata": {
    "collapsed": false,
    "ExecuteTime": {
     "end_time": "2025-04-21T16:35:40.574618800Z",
     "start_time": "2025-04-21T16:35:40.547460200Z"
    }
   },
   "outputs": [],
   "source": [
    "def evaluate_model(model, test_loader):\n",
    "    \"\"\"\n",
    "    :param model: bot classifier\n",
    "    :param test_loader: testing dataset\n",
    "    :return: None\n",
    "    \"\"\"\n",
    "    model.eval()\n",
    "    preds, true_labels = [], []\n",
    "    \n",
    "    with torch.no_grad():\n",
    "        progress_bar = tqdm(test_loader, desc=\"Evaluating\", unit=\"batch\", dynamic_ncols=True, position=0)\n",
    "        \n",
    "        for batch in progress_bar:\n",
    "            embeddings, labels = batch[0].float().to(device), batch[1].float().to(device)\n",
    "            outputs = model(embeddings)\n",
    "            probs = torch.sigmoid(outputs)\n",
    "            preds.extend((probs > 0.5).cpu().numpy())\n",
    "            true_labels.extend(labels.cpu().numpy())\n",
    "    \n",
    "    acc = accuracy_score(true_labels, preds)\n",
    "    f1 = f1_score(true_labels, preds, average='weighted')  # Adjust 'weighted' if needed\n",
    "    mcc = matthews_corrcoef(true_labels, preds)\n",
    "    \n",
    "    return acc, f1, mcc"
   ]
  },
  {
   "cell_type": "code",
   "execution_count": 27,
   "id": "3bd0284e70703e8b",
   "metadata": {
    "ExecuteTime": {
     "end_time": "2025-03-30T17:34:27.295288300Z",
     "start_time": "2025-03-30T17:34:25.221089900Z"
    },
    "collapsed": false
   },
   "outputs": [
    {
     "name": "stderr",
     "output_type": "stream",
     "text": [
      "Evaluating: 100%|██████████| 3123/3123 [00:02<00:00, 1172.49batch/s]\n"
     ]
    },
    {
     "data": {
      "text/plain": [
       "(0.8044960798146731, 0.8017276384516153, 0.6198985535659354)"
      ]
     },
     "execution_count": 27,
     "metadata": {},
     "output_type": "execute_result"
    }
   ],
   "source": [
    "evaluate_model(model, test_loader)"
   ]
  },
  {
   "cell_type": "markdown",
   "source": [
    "## Grid search"
   ],
   "metadata": {
    "collapsed": false
   },
   "id": "b10a4f496ce0b2c9"
  },
  {
   "cell_type": "markdown",
   "source": [
    "Batch data fed to LSTM to fit in GPU"
   ],
   "metadata": {
    "collapsed": false
   },
   "id": "707196a0f8feb66e"
  },
  {
   "cell_type": "code",
   "execution_count": 11,
   "outputs": [],
   "source": [
    "def extract_lstm_outputs(model, dataloader):\n",
    "    model.eval()\n",
    "    outputs = []\n",
    "    with torch.no_grad():\n",
    "        for (batch,) in dataloader:\n",
    "            batch = batch.to(device)\n",
    "            out = model(batch)\n",
    "            outputs.append(out.cpu())\n",
    "    return torch.cat(outputs, dim=0)"
   ],
   "metadata": {
    "collapsed": false,
    "ExecuteTime": {
     "end_time": "2025-04-21T16:35:43.159842800Z",
     "start_time": "2025-04-21T16:35:43.144386400Z"
    }
   },
   "id": "959e90899d74f17b"
  },
  {
   "cell_type": "markdown",
   "source": [
    "Define parameter grid"
   ],
   "metadata": {
    "collapsed": false
   },
   "id": "1e683d6048ae10c3"
  },
  {
   "cell_type": "code",
   "execution_count": 14,
   "outputs": [],
   "source": [
    "param_grid = {\n",
    "    \"learning_rate\": [0.0001],\n",
    "    \"lstm_dropout\": [0],\n",
    "    \"lstm_hidden_size\": [50],\n",
    "    \"lstm_output_size\": [32],\n",
    "    \"lstm_number_layers\": [1],\n",
    "    \"batch_size\": [64],\n",
    "    \"dropout\": [0.2],\n",
    "    \"hidden_size_1\": [128],\n",
    "    \"hidden_size_2\": [64],\n",
    "    \"epochs\": [10],\n",
    "    \"weight_decay\": [0]\n",
    "}\n",
    "\n",
    "# Generate all combinations\n",
    "param_combinations = list(itertools.product(*param_grid.values()))"
   ],
   "metadata": {
    "collapsed": false,
    "ExecuteTime": {
     "end_time": "2025-04-21T16:36:48.959382700Z",
     "start_time": "2025-04-21T16:36:48.938331Z"
    }
   },
   "id": "ed8fa5e06cc855ba"
  },
  {
   "cell_type": "markdown",
   "source": [
    "Run grid search and save results"
   ],
   "metadata": {
    "collapsed": false
   },
   "id": "deb2218ba0c11dd2"
  },
  {
   "cell_type": "code",
   "execution_count": 25,
   "outputs": [
    {
     "name": "stdout",
     "output_type": "stream",
     "text": [
      "Total hyperparameter sets to test: 1\n",
      "-----------------------------------------------------------------------------------------------------\n",
      "Processing parameters 1/1\n"
     ]
    },
    {
     "name": "stderr",
     "output_type": "stream",
     "text": [
      "Epoch 1/10: 100%|██████████| 21851/21851 [01:06<00:00, 326.15it/s, loss=0.6807]\n",
      "Epoch 2/10: 100%|██████████| 21851/21851 [01:08<00:00, 317.96it/s, loss=0.6772]\n",
      "Epoch 3/10: 100%|██████████| 21851/21851 [01:10<00:00, 308.52it/s, loss=0.6044]\n",
      "Epoch 4/10: 100%|██████████| 21851/21851 [01:12<00:00, 302.03it/s, loss=0.6332]\n",
      "Epoch 5/10: 100%|██████████| 21851/21851 [01:07<00:00, 323.35it/s, loss=0.6051]\n",
      "Epoch 6/10: 100%|██████████| 21851/21851 [02:01<00:00, 180.14it/s, loss=0.5797]\n",
      "Epoch 7/10: 100%|██████████| 21851/21851 [01:12<00:00, 299.85it/s, loss=0.6168]\n",
      "Epoch 8/10: 100%|██████████| 21851/21851 [01:08<00:00, 318.90it/s, loss=0.5804]\n",
      "Epoch 9/10: 100%|██████████| 21851/21851 [01:08<00:00, 318.23it/s, loss=0.6383]\n",
      "Epoch 10/10: 100%|██████████| 21851/21851 [01:09<00:00, 316.34it/s, loss=0.7165]\n",
      "Evaluating: 100%|██████████| 3123/3123 [00:03<00:00, 782.71batch/s]\n"
     ]
    },
    {
     "name": "stdout",
     "output_type": "stream",
     "text": [
      "Grid search complete. Results saved to hyperparameter_results_Roberta_BiLSTM.csv.\n"
     ]
    }
   ],
   "source": [
    "# Define CSV file path\n",
    "csv_filename = \"../Data/Tuning_Results/hyperparameter_results_Roberta_BiLSTM.csv\"\n",
    "\n",
    "# Load existing results if the CSV exists\n",
    "if os.path.exists(csv_filename):\n",
    "    existing_results = pd.read_csv(csv_filename)\n",
    "else:\n",
    "    existing_results = pd.DataFrame(columns=[\"learning_rate\", \"lstm_dropout\", \"lstm_hidden_size\", \"lstm_output_size\", \"lstm_number_layers\", \"batch_size\", \"dropout\", \"hidden_size_1\", \"hidden_size_2\", \"epochs\", \"weight_decay\", \"accuracy\", \"f1_score\", \"mcc\"])\n",
    "\n",
    "# Convert existing results to a set of tested hyperparameters\n",
    "tested_params = set(\n",
    "    tuple(row) for row in existing_results[[\"learning_rate\", \"lstm_dropout\", \"lstm_hidden_size\", \"lstm_output_size\", \"lstm_number_layers\", \"batch_size\", \"dropout\", \"hidden_size_1\", \"hidden_size_2\", \"epochs\", \"weight_decay\"]].values\n",
    ")\n",
    "\n",
    "# Filter out already tested hyperparameters\n",
    "new_param_combinations = [params for params in param_combinations if params not in tested_params]\n",
    "\n",
    "print(f\"Total hyperparameter sets to test: {len(new_param_combinations)}\")\n",
    "\n",
    "torch.manual_seed(seed)\n",
    "# Loop through only new hyperparameter combinations\n",
    "for i, params in enumerate(new_param_combinations):\n",
    "    print(\"-----------------------------------------------------------------------------------------------------\")\n",
    "    print(f\"Processing parameters {i+1}/{len(new_param_combinations)}\")\n",
    "\n",
    "    lr, lstm_dropout, lstm_hidden_size, lstm_output_size, lstm_number_layers, batch_size, dropout, hidden_size_1, hidden_size_2, epochs, weight_decay = params\n",
    "\n",
    "    # Initialize lstm model\n",
    "    lstm_model = LSTMModel(\n",
    "                    input_size = train_tweets.shape[-1],\n",
    "                    hidden_size = lstm_hidden_size,\n",
    "                    output_size = lstm_output_size,\n",
    "                    num_layers = lstm_number_layers,\n",
    "                    dropout_rate = lstm_dropout\n",
    "                ).to(device)\n",
    "\n",
    "    lstm_train_dataset = TensorDataset(train_tweets)\n",
    "    lstm_train_loader = DataLoader(lstm_train_dataset, batch_size=batch_size, shuffle=False)\n",
    "\n",
    "    lstm_test_dataset = TensorDataset(test_tweets)\n",
    "    lstm_test_loader = DataLoader(lstm_test_dataset, batch_size=batch_size, shuffle=False)\n",
    "\n",
    "    train_lstm_output = extract_lstm_outputs(lstm_model, lstm_train_loader).detach()\n",
    "    test_lstm_output = extract_lstm_outputs(lstm_model, lstm_test_loader).detach()\n",
    "\n",
    "    x_train = train_lstm_output\n",
    "    x_test = test_lstm_output\n",
    "\n",
    "    y_train = train_labels.view(-1, 1).to(torch.float32)\n",
    "    y_test = test_labels.view(-1, 1).to(torch.float32)\n",
    "\n",
    "    x_train.requires_grad_(False)\n",
    "    y_train.requires_grad_(False)\n",
    "\n",
    "    # Initialize neural network model\n",
    "    model = NeuralNetwork(\n",
    "        input_size=x_train.shape[1],\n",
    "        hidden_size_1=hidden_size_1,\n",
    "        hidden_size_2=hidden_size_2,\n",
    "        dropout=dropout\n",
    "    ).to(device)\n",
    "\n",
    "    # Define loss and optimizer\n",
    "    criterion = nn.BCEWithLogitsLoss()\n",
    "    optimizer = optim.Adam(model.parameters(), lr=lr, weight_decay=weight_decay)\n",
    "\n",
    "    # Create Data Loaders\n",
    "    train_dataset = TensorDataset(x_train, y_train)\n",
    "    train_loader = DataLoader(train_dataset, batch_size=batch_size, shuffle=True, drop_last=True)\n",
    "\n",
    "    test_dataset = TensorDataset(x_test, y_test)\n",
    "    test_loader = DataLoader(test_dataset, batch_size=batch_size, shuffle=True)\n",
    "\n",
    "    # Train the model\n",
    "    train_model(model, train_loader, optimizer, criterion, epochs=epochs)\n",
    "\n",
    "    # Evaluate the model\n",
    "    acc, f1, mcc = evaluate_model(model, test_loader)\n",
    "\n",
    "    # Save model checkpoint\n",
    "    # model_filename = f\"../Data/Processed_Data/model_lr{lr}_dropout{dropout}_dim{hidden_input}-{hidden}-{hidden_output}_batch{batch_size}_epochs{epochs}_wd{weight_decay}.pth\"\n",
    "    # torch.save(model.state_dict(), model_filename)\n",
    "    # print(f\"Model saved: {model_filename}\")\n",
    "\n",
    "    # Save results\n",
    "    df_new = pd.DataFrame([{\n",
    "        \"learning_rate\": lr,\n",
    "        \"lstm_dropout\": lstm_dropout,\n",
    "        \"lstm_hidden_size\": lstm_hidden_size,\n",
    "        \"lstm_output_size\": lstm_output_size,\n",
    "        \"lstm_number_layers\": lstm_number_layers,\n",
    "        \"batch_size\": batch_size,\n",
    "        \"dropout\": dropout,\n",
    "        \"hidden_size_1\": hidden_size_1,\n",
    "        \"hidden_size_2\": hidden_size_2,\n",
    "        \"epochs\": epochs,\n",
    "        \"weight_decay\": weight_decay,\n",
    "        \"accuracy\": acc,\n",
    "        \"f1_score\": f1,\n",
    "        \"mcc\": mcc\n",
    "    }])\n",
    "\n",
    "    df_new.to_csv(csv_filename, mode='a', header=not os.path.exists(csv_filename), index=False)\n",
    "\n",
    "print(\"Grid search complete. Results saved to hyperparameter_results_Roberta_BiLSTM.csv.\")"
   ],
   "metadata": {
    "collapsed": false,
    "ExecuteTime": {
     "end_time": "2025-04-21T17:18:21.729818800Z",
     "start_time": "2025-04-21T17:05:22.706558400Z"
    }
   },
   "id": "e76866427e6feb6e"
  }
 ],
 "metadata": {
  "kernelspec": {
   "display_name": "Python 3",
   "language": "python",
   "name": "python3"
  },
  "language_info": {
   "codemirror_mode": {
    "name": "ipython",
    "version": 3
   },
   "file_extension": ".py",
   "mimetype": "text/x-python",
   "name": "python",
   "nbconvert_exporter": "python",
   "pygments_lexer": "ipython3",
   "version": "3.10.10"
  }
 },
 "nbformat": 4,
 "nbformat_minor": 5
}

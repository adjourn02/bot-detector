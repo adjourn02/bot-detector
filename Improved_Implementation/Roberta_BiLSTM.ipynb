{
 "cells": [
  {
   "cell_type": "markdown",
   "id": "896e16ff92eca711",
   "metadata": {
    "collapsed": false
   },
   "source": [
    "# Improved Implementation: RoBERTa+BiLSTM\n",
    "\n",
    "Using best parameters on the full training dataset with metadata, the performance metric scores on the test dataset are as follows: \n",
    "1. ACC: 0.8044\n",
    "2. F1: 0.8017\n",
    "3. MCC: 0.6198"
   ]
  },
  {
   "cell_type": "markdown",
   "id": "47d395f90c0599ea",
   "metadata": {
    "collapsed": false
   },
   "source": [
    "## Import Libraries"
   ]
  },
  {
   "cell_type": "code",
   "execution_count": 1,
   "id": "a5c67f3cf6043b98",
   "metadata": {
    "ExecuteTime": {
     "end_time": "2025-03-30T17:33:40.203203100Z",
     "start_time": "2025-03-30T17:33:40.194888100Z"
    },
    "collapsed": false
   },
   "outputs": [],
   "source": [
    "import os\n",
    "import torch\n",
    "import torch.nn as nn\n",
    "import torch.optim as optim\n",
    "from torch.utils.data import DataLoader, TensorDataset\n",
    "# from sklearn.model_selection import train_test_split\n",
    "from sklearn.metrics import accuracy_score, f1_score, matthews_corrcoef\n",
    "from tqdm import tqdm\n",
    "import itertools\n",
    "import pandas as pd"
   ]
  },
  {
   "cell_type": "markdown",
   "id": "acf931d619b31a8c",
   "metadata": {
    "collapsed": false
   },
   "source": [
    "## Set Device\n",
    "Set device to CUDA if available, else CPU"
   ]
  },
  {
   "cell_type": "code",
   "execution_count": 2,
   "id": "11e2adfb6a42e8ca",
   "metadata": {
    "ExecuteTime": {
     "end_time": "2025-03-30T16:27:21.478631200Z",
     "start_time": "2025-03-30T16:27:20.563928400Z"
    },
    "collapsed": false
   },
   "outputs": [
    {
     "name": "stdout",
     "output_type": "stream",
     "text": [
      "Using device: cuda\n"
     ]
    }
   ],
   "source": [
    "device = torch.device('cuda' if torch.cuda.is_available() else 'cpu')\n",
    "print(f'Using device: {device}')"
   ]
  },
  {
   "cell_type": "code",
   "execution_count": 3,
   "id": "c660fd97",
   "metadata": {},
   "outputs": [],
   "source": [
    "if device == 'cuda': \n",
    "    torch.cuda.empty_cache()"
   ]
  },
  {
   "cell_type": "markdown",
   "id": "8a593c68010deef9",
   "metadata": {
    "collapsed": false
   },
   "source": [
    "## Loading Data (Test, Train, Validate)"
   ]
  },
  {
   "cell_type": "code",
   "execution_count": 4,
   "id": "7fe6443cb58bcc50",
   "metadata": {
    "ExecuteTime": {
     "end_time": "2025-03-30T16:27:25.898206600Z",
     "start_time": "2025-03-30T16:27:24.991455600Z"
    },
    "collapsed": false
   },
   "outputs": [],
   "source": [
    "# User Metadata\n",
    "train_metadata = torch.load(\"../Data/Processed_Data/train_metadata_tensor.pth\").to(device)\n",
    "test_metadata = torch.load(\"../Data/Processed_Data/test_metadata_tensor.pth\").to(device)\n",
    "# validate_metadata = torch.load(\"../Data/Processed_Data/validate_metadata_tensor.pth\").to(device)\n",
    "\n",
    "# Tweets Data\n",
    "train_tweets = torch.load(\"../Data/Processed_Data/train_tweet_roberta_emb_tensor.pth\")[:,:200].to(device)\n",
    "test_tweets = torch.load(\"../Data/Processed_Data/test_tweet_roberta_emb_tensor.pth\")[:,:200].to(device)\n",
    "# validate_tweets = torch.load(\"../Data/Processed_Data/validate_tweet_roberta_emb_tensor.pth\").to(device)\n",
    "\n",
    "# Labels\n",
    "train_labels = torch.load(\"../Data/Processed_Data/train_label_tensor.pth\").to(device)\n",
    "test_labels = torch.load(\"../Data/Processed_Data/test_label_tensor.pth\").to(device)\n",
    "# validate_labels = torch.load(\"../Data/Processed_Data/validate_label_tensor.pth\").to(device)"
   ]
  },
  {
   "cell_type": "code",
   "execution_count": 5,
   "id": "a865a28f03981526",
   "metadata": {
    "ExecuteTime": {
     "end_time": "2025-03-30T16:27:33.418677200Z",
     "start_time": "2025-03-30T16:27:33.412839700Z"
    },
    "collapsed": false
   },
   "outputs": [
    {
     "name": "stdout",
     "output_type": "stream",
     "text": [
      "torch.Size([1398465, 200])\n",
      "torch.Size([199863, 200])\n",
      "torch.Size([1398465, 5])\n",
      "torch.Size([199863, 5])\n"
     ]
    }
   ],
   "source": [
    "print(train_tweets.shape)\n",
    "print(test_tweets.shape)\n",
    "# print(validate_tweets.shape)\n",
    "\n",
    "print(train_metadata.shape)\n",
    "print(test_metadata.shape)\n",
    "# print(validate_metadata.shape)"
   ]
  },
  {
   "cell_type": "markdown",
   "id": "e91c75d15d08e3ec",
   "metadata": {
    "collapsed": false
   },
   "source": [
    "Set seed for Reproducability"
   ]
  },
  {
   "cell_type": "code",
   "execution_count": 6,
   "id": "645e59f07e6d2a8",
   "metadata": {
    "collapsed": false
   },
   "outputs": [
    {
     "data": {
      "text/plain": [
       "<torch._C.Generator at 0x7f726d4c9e30>"
      ]
     },
     "execution_count": 6,
     "metadata": {},
     "output_type": "execute_result"
    }
   ],
   "source": [
    "seed = 42\n",
    "torch.manual_seed(seed)"
   ]
  },
  {
   "cell_type": "markdown",
   "id": "87c79fe0c79e656e",
   "metadata": {
    "collapsed": false
   },
   "source": [
    "Stratified sampling to expedite model training"
   ]
  },
  {
   "cell_type": "code",
   "execution_count": null,
   "id": "d8e8f5f1d3ff0842",
   "metadata": {
    "collapsed": false
   },
   "outputs": [],
   "source": [
    "\"\"\"\n",
    "# Move labels to CPU for processing\n",
    "train_labels_cpu = train_labels.cpu().numpy()\n",
    "# train_labels_cpu = test_labels.cpu().numpy()\n",
    "\n",
    "# Perform stratified sampling to maintain label distribution\n",
    "_, sampled_indices = train_test_split(\n",
    "    range(train_tweets.shape[0]), \n",
    "    # range(test_tweets.shape[0]), \n",
    "    test_size=0.3, \n",
    "    stratify=train_labels_cpu, \n",
    "    random_state=42\n",
    ")\n",
    "\n",
    "# Convert to tensor and move to device\n",
    "sampled_indices = torch.tensor(sampled_indices, device=device)\n",
    "\n",
    "train_tweets = train_tweets[sampled_indices].contiguous()\n",
    "# train_metadata = train_metadata[sampled_indices].contiguous()\n",
    "train_labels = train_labels[sampled_indices].contiguous()\n",
    "\n",
    "# test_tweets = test_tweets[sampled_indices].contiguous()\n",
    "# train_metadata = train_metadata[sampled_indices].contiguous()\n",
    "# test_labels = test_labels[sampled_indices].contiguous()\n",
    "\n",
    "print(train_tweets.shape)\n",
    "\"\"\""
   ]
  },
  {
   "cell_type": "markdown",
   "id": "178217a383989a43",
   "metadata": {
    "collapsed": false
   },
   "source": [
    "\n",
    "## BiLSTM Model"
   ]
  },
  {
   "cell_type": "code",
   "execution_count": 7,
   "id": "b8ab45fefb689afe",
   "metadata": {
    "collapsed": false
   },
   "outputs": [],
   "source": [
    "class LSTMModel(nn.Module):\n",
    "    \n",
    "    def __init__(self, input_size, hidden_size, output_size, num_layers=1, dropout_rate = 0.0):\n",
    "        super(LSTMModel, self).__init__()\n",
    "        \n",
    "        # Define the LSTM layer\n",
    "        self.lstm = nn.LSTM(input_size, hidden_size, num_layers, batch_first=False, bidirectional = True, dropout = dropout_rate)\n",
    "        \n",
    "        # Define a fully connected output layer\n",
    "        self.fc = nn.Linear(hidden_size * 2, output_size)\n",
    "        \n",
    "        \n",
    "    def forward(self, x):\n",
    "        # Pass through BiLSTM\n",
    "        lstm_out, (hn, cn) = self.lstm(x)\n",
    "        \n",
    "        output = self.fc(lstm_out[:, -1, :])\n",
    "        return output"
   ]
  },
  {
   "cell_type": "code",
   "execution_count": 8,
   "id": "c096afd8d381a418",
   "metadata": {
    "collapsed": false
   },
   "outputs": [],
   "source": [
    "lstm_input_size = 200 #768 # Number of features in input data (768 for Roberta Embeddings)\n",
    "lstm_hidden_size = 50\n",
    "lstm_output_size = 32\n",
    "lstm_number_layers = 1 # Number of LSTM Layers\n",
    "lstm_dropout = 0\n",
    "\n",
    "# Creating LSTM Model\n",
    "lstm_model = LSTMModel(input_size = lstm_input_size, hidden_size = lstm_hidden_size, output_size = lstm_output_size, \n",
    "                      num_layers = lstm_number_layers, dropout_rate=lstm_dropout).to(device)"
   ]
  },
  {
   "cell_type": "markdown",
   "id": "3c02f103",
   "metadata": {},
   "source": [
    "## Prepare Data"
   ]
  },
  {
   "cell_type": "markdown",
   "id": "3731fbae01ca9f7",
   "metadata": {
    "collapsed": false
   },
   "source": [
    "Getting lstm_output for datasets"
   ]
  },
  {
   "cell_type": "code",
   "execution_count": 9,
   "id": "ade7bc05883584fa",
   "metadata": {
    "collapsed": false
   },
   "outputs": [],
   "source": [
    "train_tweets = train_tweets.unsqueeze(1).to(torch.float32)\n",
    "test_tweets = test_tweets.unsqueeze(1).to(torch.float32)\n",
    "                \n",
    "train_lstm_output = lstm_model(train_tweets)\n",
    "train_lstm_output = train_lstm_output.detach()\n",
    "\n",
    "test_lstm_output = lstm_model(test_tweets)\n",
    "test_lstm_output = test_lstm_output.detach()"
   ]
  },
  {
   "cell_type": "code",
   "execution_count": 10,
   "id": "d51cb9e2-1fad-434c-9f0c-76bb1f19d40c",
   "metadata": {},
   "outputs": [
    {
     "name": "stdout",
     "output_type": "stream",
     "text": [
      "torch.Size([1398465, 32])\n",
      "torch.Size([199863, 32])\n"
     ]
    }
   ],
   "source": [
    "print(train_lstm_output.shape)\n",
    "print(test_lstm_output.shape)"
   ]
  },
  {
   "cell_type": "markdown",
   "id": "b4a5bcae",
   "metadata": {},
   "source": [
    "Concatenate text embedding with metadata embedding"
   ]
  },
  {
   "cell_type": "code",
   "execution_count": 11,
   "id": "1d01e3b2",
   "metadata": {},
   "outputs": [],
   "source": [
    "x_train = torch.hstack((train_lstm_output, train_metadata)).to(torch.float32)\n",
    "x_test = torch.hstack((test_lstm_output, test_metadata)).to(torch.float32)"
   ]
  },
  {
   "cell_type": "code",
   "execution_count": 12,
   "id": "37f96514ee67e29b",
   "metadata": {
    "collapsed": false
   },
   "outputs": [],
   "source": [
    "y_train = train_labels.view(-1, 1).to(torch.float32)\n",
    "y_test = test_labels.view(-1, 1).to(torch.float32)"
   ]
  },
  {
   "cell_type": "code",
   "execution_count": 13,
   "id": "55b755f3383ccbf5",
   "metadata": {
    "collapsed": false
   },
   "outputs": [
    {
     "name": "stdout",
     "output_type": "stream",
     "text": [
      "torch.Size([1398465, 37]) torch.Size([1398465, 1])\n",
      "torch.Size([199863, 37]) torch.Size([199863, 1])\n"
     ]
    }
   ],
   "source": [
    "print(x_train.shape, y_train.shape)\n",
    "print(x_test.shape, y_test.shape)"
   ]
  },
  {
   "cell_type": "code",
   "execution_count": 14,
   "id": "8331ead113c50263",
   "metadata": {
    "collapsed": false
   },
   "outputs": [
    {
     "data": {
      "text/plain": [
       "tensor([[0.],\n",
       "        [0.],\n",
       "        [0.],\n",
       "        ...,\n",
       "        [1.],\n",
       "        [1.],\n",
       "        [1.]], device='cuda:0')"
      ]
     },
     "execution_count": 14,
     "metadata": {},
     "output_type": "execute_result"
    }
   ],
   "source": [
    "x_train.requires_grad_(False)\n",
    "y_train.requires_grad_(False)"
   ]
  },
  {
   "cell_type": "markdown",
   "id": "1903b1956ac88084",
   "metadata": {
    "collapsed": false
   },
   "source": [
    "## Final Layer"
   ]
  },
  {
   "cell_type": "code",
   "execution_count": 15,
   "id": "af87a678d7cb89e3",
   "metadata": {
    "collapsed": false
   },
   "outputs": [],
   "source": [
    "class NeuralNetwork(nn.Module):\n",
    "    \n",
    "    def __init__(self, input_size, hidden_size_1, hidden_size_2, output_size=1, dropout=0.2):\n",
    "        super(NeuralNetwork, self).__init__()\n",
    "        self.fc1 = nn.Linear(input_size, hidden_size_1)  # First fully connected layer\n",
    "        self.fc2 = nn.Linear(hidden_size_1, hidden_size_2)  # Second fully connected layer\n",
    "        self.out = nn.Linear(hidden_size_2, output_size)\n",
    "        self.dropout = nn.Dropout(p = dropout)\n",
    "        \n",
    "        \n",
    "    def forward(self, x):\n",
    "        x = torch.relu(self.fc1(x))  # Apply ReLU activation after the first layer\n",
    "        x = self.dropout(x)\n",
    "        x = torch.relu(self.fc2(x))  # Output layer\n",
    "        \n",
    "        x = self.out(x)\n",
    "        return x"
   ]
  },
  {
   "cell_type": "code",
   "execution_count": 16,
   "id": "f035ebeb707789eb",
   "metadata": {
    "collapsed": false
   },
   "outputs": [],
   "source": [
    "# Network Parameters\n",
    "input_size = 37 # Number of input features (tweet embeddings + metadata)\n",
    "hidden_size_1 = 128  # Number of hidden units in the first fully connected layer\n",
    "hidden_size_2 = 64  # Number of hidden units in the first fully connected layer\n",
    "output_size = 1  # Output size (binary classification: 1 output)"
   ]
  },
  {
   "cell_type": "markdown",
   "id": "420d2518",
   "metadata": {},
   "source": [
    "## Create Dataloaders"
   ]
  },
  {
   "cell_type": "code",
   "execution_count": 17,
   "id": "bb8d7698",
   "metadata": {},
   "outputs": [],
   "source": [
    "batch_size = 64 # Batch size for training\n",
    "\n",
    "train_dataset = TensorDataset(x_train, y_train)\n",
    "train_loader = DataLoader(train_dataset, batch_size=batch_size, shuffle=True)\n",
    "\n",
    "test_dataset = TensorDataset(x_test, y_test)\n",
    "test_loader = DataLoader(test_dataset, batch_size=batch_size, shuffle=True)"
   ]
  },
  {
   "cell_type": "markdown",
   "id": "73380799711e3073",
   "metadata": {
    "collapsed": false
   },
   "source": [
    "## Model Training"
   ]
  },
  {
   "cell_type": "markdown",
   "id": "810e4fd22abc0ec8",
   "metadata": {
    "collapsed": false
   },
   "source": [
    "Initialize model, loss function, and optimizer"
   ]
  },
  {
   "cell_type": "code",
   "execution_count": 18,
   "id": "1ed327144e25f42b",
   "metadata": {
    "ExecuteTime": {
     "end_time": "2025-03-30T17:02:47.419633400Z",
     "start_time": "2025-03-30T17:02:47.114149700Z"
    },
    "collapsed": false
   },
   "outputs": [],
   "source": [
    "torch.manual_seed(seed)\n",
    "model = NeuralNetwork(input_size, hidden_size_1, hidden_size_2, output_size).to(device)\n",
    "criterion = nn.BCEWithLogitsLoss()  # Binary Cross Entropy with logits\n",
    "optimizer = optim.Adam(model.parameters(), lr=0.0001)"
   ]
  },
  {
   "cell_type": "markdown",
   "id": "23e589c55e31204c",
   "metadata": {
    "collapsed": false
   },
   "source": [
    "Train model"
   ]
  },
  {
   "cell_type": "code",
   "execution_count": 19,
   "id": "3e57d9ef8568a91c",
   "metadata": {
    "ExecuteTime": {
     "end_time": "2025-03-30T17:26:47.222252400Z",
     "start_time": "2025-03-30T17:26:47.207762Z"
    },
    "collapsed": false
   },
   "outputs": [],
   "source": [
    "def train_model(model, train_loader, optimizer, criterion, epochs=10):\n",
    "    \"\"\"\n",
    "    :param model: bot classifier\n",
    "    :param train_loader: training dataset\n",
    "    :param optimizer: Adam as specified on paper\n",
    "    :param criterion: BCE as specified on paper\n",
    "    :param epochs: adjust for hyperparameter tuning\n",
    "    :return: None\n",
    "    \"\"\"\n",
    "    model.train()\n",
    "    for epoch in range(epochs):\n",
    "        total_loss = 0\n",
    "        progress_bar = tqdm(train_loader, desc=f\"Epoch {epoch+1}/{epochs}\", leave=True, dynamic_ncols=True, position=0) \n",
    "        \n",
    "        for i, batch in enumerate(progress_bar):\n",
    "            embeddings, labels = batch[0].float().to(device), batch[1].float().to(device)\n",
    "            optimizer.zero_grad()\n",
    "            outputs = model(embeddings)\n",
    "            loss = criterion(outputs, labels)\n",
    "            loss.backward()\n",
    "            optimizer.step()\n",
    "            total_loss += loss.item()\n",
    "\n",
    "            if i % 10 == 0:\n",
    "                progress_bar.set_postfix(loss=f\"{loss.item():.4f}\")"
   ]
  },
  {
   "cell_type": "code",
   "execution_count": 25,
   "id": "8e6c7a51-5cd5-4041-994f-965c9c9c2cfb",
   "metadata": {},
   "outputs": [
    {
     "name": "stderr",
     "output_type": "stream",
     "text": [
      "Epoch 1/10: 100%|██████████| 21852/21852 [00:46<00:00, 469.58it/s, loss=3.7123]  \n",
      "Epoch 2/10: 100%|██████████| 21852/21852 [00:47<00:00, 462.30it/s, loss=0.5805] \n",
      "Epoch 3/10: 100%|██████████| 21852/21852 [00:47<00:00, 457.80it/s, loss=0.5366] \n",
      "Epoch 4/10: 100%|██████████| 21852/21852 [00:47<00:00, 461.57it/s, loss=0.4693]\n",
      "Epoch 5/10: 100%|██████████| 21852/21852 [00:45<00:00, 475.20it/s, loss=0.5689]\n",
      "Epoch 6/10: 100%|██████████| 21852/21852 [00:46<00:00, 469.88it/s, loss=0.5335] \n",
      "Epoch 7/10: 100%|██████████| 21852/21852 [00:48<00:00, 453.41it/s, loss=0.4210]\n",
      "Epoch 8/10: 100%|██████████| 21852/21852 [00:47<00:00, 456.20it/s, loss=0.7942] \n",
      "Epoch 9/10: 100%|██████████| 21852/21852 [00:46<00:00, 469.60it/s, loss=0.4894]\n",
      "Epoch 10/10: 100%|██████████| 21852/21852 [00:46<00:00, 473.38it/s, loss=0.4773]\n"
     ]
    }
   ],
   "source": [
    "train_model(model, train_loader, optimizer, criterion, epochs=10)"
   ]
  },
  {
   "cell_type": "markdown",
   "id": "4e2c97f4f66d9e66",
   "metadata": {
    "collapsed": false
   },
   "source": [
    "## Model Evaluation"
   ]
  },
  {
   "cell_type": "markdown",
   "id": "5b76836d7136a84a",
   "metadata": {
    "collapsed": false
   },
   "source": [
    "Evaluate model"
   ]
  },
  {
   "cell_type": "code",
   "execution_count": 20,
   "id": "820cdf456fe7e3cb",
   "metadata": {
    "ExecuteTime": {
     "end_time": "2025-03-30T17:34:10.462433800Z",
     "start_time": "2025-03-30T17:34:10.452921800Z"
    },
    "collapsed": false
   },
   "outputs": [],
   "source": [
    "def evaluate_model(model, test_loader):\n",
    "    \"\"\"\n",
    "    :param model: bot classifier\n",
    "    :param test_loader: testing dataset\n",
    "    :return: None\n",
    "    \"\"\"\n",
    "    model.eval()\n",
    "    preds, true_labels = [], []\n",
    "    \n",
    "    with torch.no_grad():\n",
    "        progress_bar = tqdm(test_loader, desc=\"Evaluating\", unit=\"batch\", dynamic_ncols=True, position=0)\n",
    "        \n",
    "        for batch in progress_bar:\n",
    "            embeddings, labels = batch[0].float().to(device), batch[1].float().to(device)\n",
    "            outputs = model(embeddings)\n",
    "            probs = torch.sigmoid(outputs)\n",
    "            preds.extend((probs > 0.5).cpu().numpy())\n",
    "            true_labels.extend(labels.cpu().numpy())\n",
    "    \n",
    "    acc = accuracy_score(true_labels, preds)\n",
    "    f1 = f1_score(true_labels, preds, average='weighted')  # Adjust 'weighted' if needed\n",
    "    mcc = matthews_corrcoef(true_labels, preds)\n",
    "    \n",
    "    return acc, f1, mcc"
   ]
  },
  {
   "cell_type": "code",
   "execution_count": 27,
   "id": "3bd0284e70703e8b",
   "metadata": {
    "ExecuteTime": {
     "end_time": "2025-03-30T17:34:27.295288300Z",
     "start_time": "2025-03-30T17:34:25.221089900Z"
    },
    "collapsed": false
   },
   "outputs": [
    {
     "name": "stderr",
     "output_type": "stream",
     "text": [
      "Evaluating: 100%|██████████| 3123/3123 [00:02<00:00, 1172.49batch/s]\n"
     ]
    },
    {
     "data": {
      "text/plain": [
       "(0.8044960798146731, 0.8017276384516153, 0.6198985535659354)"
      ]
     },
     "execution_count": 27,
     "metadata": {},
     "output_type": "execute_result"
    }
   ],
   "source": [
    "evaluate_model(model, test_loader)"
   ]
  }
 ],
 "metadata": {
  "kernelspec": {
   "display_name": "Python 3",
   "language": "python",
   "name": "python3"
  },
  "language_info": {
   "codemirror_mode": {
    "name": "ipython",
    "version": 3
   },
   "file_extension": ".py",
   "mimetype": "text/x-python",
   "name": "python",
   "nbconvert_exporter": "python",
   "pygments_lexer": "ipython3",
   "version": "3.10.10"
  }
 },
 "nbformat": 4,
 "nbformat_minor": 5
}

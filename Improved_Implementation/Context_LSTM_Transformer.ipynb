{
 "cells": [
  {
   "cell_type": "markdown",
   "id": "adfa4e7e",
   "metadata": {},
   "source": [
    "# Context LSTM with Aux Input/Output + Transformer\n",
    "\n",
    "Based on the baseline implementation with the addition of a transformer"
   ]
  },
  {
   "cell_type": "markdown",
   "id": "4e822e3a",
   "metadata": {},
   "source": [
    "## Setup"
   ]
  },
  {
   "cell_type": "code",
   "execution_count": 56,
   "id": "4926d16d",
   "metadata": {},
   "outputs": [],
   "source": [
    "# libraries\n",
    "import pandas as pd\n",
    "import torch\n",
    "import torch.nn as nn\n",
    "import torch.optim as optim\n",
    "from torch.utils.data import Dataset, DataLoader, TensorDataset\n",
    "import numpy as np"
   ]
  },
  {
   "cell_type": "code",
   "execution_count": null,
   "id": "224d578d",
   "metadata": {},
   "outputs": [
    {
     "data": {
      "text/plain": [
       "device(type='cuda')"
      ]
     },
     "execution_count": 57,
     "metadata": {},
     "output_type": "execute_result"
    }
   ],
   "source": [
    "# set device\n",
    "device = torch.device(\"cuda\" if torch.cuda.is_available() else \"cpu\")\n",
    "device"
   ]
  },
  {
   "cell_type": "code",
   "execution_count": 58,
   "id": "ab07dfea",
   "metadata": {},
   "outputs": [
    {
     "data": {
      "text/plain": [
       "<torch._C.Generator at 0x20269bd4630>"
      ]
     },
     "execution_count": 58,
     "metadata": {},
     "output_type": "execute_result"
    }
   ],
   "source": [
    "# set seed for reproducibility\n",
    "seed = 123\n",
    "torch.manual_seed(seed)"
   ]
  },
  {
   "cell_type": "markdown",
   "id": "5779e4b1",
   "metadata": {},
   "source": [
    "## Prepare Data"
   ]
  },
  {
   "cell_type": "code",
   "execution_count": 68,
   "id": "1200cb44",
   "metadata": {},
   "outputs": [],
   "source": [
    "# User Metadata\n",
    "train_metadata = torch.load(\"../Data/Processed_Data/train_metadata_tensor.pth\")\n",
    "test_metadata = torch.load(\"../Data/Processed_Data/test_metadata_tensor.pth\")\n",
    "validate_metadata = torch.load(\"../Data/Processed_Data/validate_metadata_tensor.pth\")\n",
    "\n",
    "# Tweets Data\n",
    "train_tweets = torch.load(\"../Data/Processed_Data/train_tweet_emb_tensor.pth\")\n",
    "test_tweets = torch.load(\"../Data/Processed_Data/test_tweet_emb_tensor.pth\")\n",
    "validate_tweets = torch.load(\"../Data/Processed_Data/validate_tweet_emb_tensor.pth\")\n",
    "\n",
    "# Labels\n",
    "train_labels = torch.load(\"../Data/Processed_Data/train_label_tensor.pth\")\n",
    "test_labels = torch.load(\"../Data/Processed_Data/test_label_tensor.pth\")\n",
    "validate_labels = torch.load(\"../Data/Processed_Data/validate_label_tensor.pth\")"
   ]
  },
  {
   "cell_type": "code",
   "execution_count": 69,
   "id": "30e7cdf7",
   "metadata": {},
   "outputs": [
    {
     "name": "stdout",
     "output_type": "stream",
     "text": [
      "torch.Size([641831])\n",
      "torch.Size([756634])\n",
      "torch.Size([139846])\n",
      "torch.Size([139846])\n"
     ]
    }
   ],
   "source": [
    "# do 20% for speed, update later on\n",
    "num_samples = int(train_tweets.shape[0] * 0.2) // 2\n",
    "\n",
    "class_0_indices = torch.nonzero(train_labels == 0).squeeze()\n",
    "class_1_indices = torch.nonzero(train_labels == 1).squeeze()\n",
    "\n",
    "print(class_0_indices.shape)\n",
    "print(class_1_indices.shape)\n",
    "\n",
    "# Shuffle the indices using torch.randperm\n",
    "shuffled_class_0_indices = class_0_indices[torch.randperm(class_0_indices.size(0))]\n",
    "shuffled_class_1_indices = class_1_indices[torch.randperm(class_1_indices.size(0))]\n",
    "\n",
    "# Select an equal number of samples from each class\n",
    "class_0_sampled_indices = shuffled_class_0_indices[:num_samples]\n",
    "class_1_sampled_indices = shuffled_class_1_indices[:num_samples]\n",
    "\n",
    "print(class_0_sampled_indices.shape)\n",
    "print(class_1_sampled_indices.shape)\n",
    "\n",
    "# Combine the selected indices for a balanced dataset\n",
    "balanced_indices = torch.cat((class_0_sampled_indices, class_1_sampled_indices))"
   ]
  },
  {
   "cell_type": "code",
   "execution_count": 70,
   "id": "e1be405d",
   "metadata": {},
   "outputs": [
    {
     "name": "stdout",
     "output_type": "stream",
     "text": [
      "torch.Size([279692, 200])\n",
      "torch.Size([279692, 5])\n",
      "torch.Size([279692])\n"
     ]
    }
   ],
   "source": [
    "train_tweets = train_tweets[balanced_indices]\n",
    "train_metadata = train_metadata[balanced_indices]\n",
    "train_labels = train_labels[balanced_indices]\n",
    "\n",
    "print(train_tweets.shape)\n",
    "print(train_metadata.shape)\n",
    "print(train_labels.shape)"
   ]
  },
  {
   "cell_type": "markdown",
   "id": "f811e89a",
   "metadata": {},
   "source": [
    "## Set up LSTM + Transformer"
   ]
  },
  {
   "cell_type": "code",
   "execution_count": 100,
   "id": "72b72280",
   "metadata": {},
   "outputs": [],
   "source": [
    "class LSTMTransformerModel(nn.Module):\n",
    "    \n",
    "    # initialization\n",
    "    def __init__(self, input_size, hidden_size, lstm_output_size, metadata_size, output_size, device, \n",
    "                 n_heads = 2, dim_feedforward = 2048, dropout = 0.1, lstm_layers=1, transformer_layers=1):\n",
    "        super(LSTMTransformerModel, self).__init__()\n",
    "\n",
    "        # set up the device\n",
    "        self.device = device\n",
    "\n",
    "        # LSTM layer\n",
    "        self.lstm = nn.LSTM(input_size, hidden_size, lstm_layers, batch_first=False)\n",
    "\n",
    "        # transformer\n",
    "        self.transformer = nn.Transformer(\n",
    "            d_model= hidden_size,\n",
    "            nhead= n_heads,\n",
    "            num_encoder_layers= transformer_layers,\n",
    "            num_decoder_layers= transformer_layers,\n",
    "            dim_feedforward= dim_feedforward,\n",
    "            dropout= dropout,\n",
    "            batch_first= False\n",
    "        )\n",
    "\n",
    "        # fully connected layers for the end LSTM + Transformer\n",
    "        self.fc1 = nn.Linear(hidden_size, lstm_output_size) # for the initial LSTM & transformer pass through\n",
    "\n",
    "        # 2-layer relu for the end for lstm_output & aux_output\n",
    "        self.fc2_lstm = nn.Linear(lstm_output_size + metadata_size, hidden_size) \n",
    "        self.fc2_aux = nn.Linear(lstm_output_size, hidden_size)\n",
    " \n",
    "        self.fc3 = nn.Linear(hidden_size, output_size) # check the dimensions\n",
    "        self.relu = nn.ReLU()\n",
    "\n",
    "\n",
    "    def forward(self, src, metadata):\n",
    "        # send through LSTM\n",
    "        lstm_out, (h_n, c_n) = self.lstm(src)\n",
    "\n",
    "        # dummy tensor to start for decoder\n",
    "        tgt = torch.zeros(lstm_out.shape, device= device)\n",
    "\n",
    "        # send through transformer\n",
    "        transformer_out = self.transformer(lstm_out, tgt)\n",
    "\n",
    "        # take the last output\n",
    "        lstm_trans_out = self.fc1(transformer_out[:, -1, :])\n",
    "\n",
    "\n",
    "        # make the aux input/output\n",
    "        aux_in = torch.hstack((lstm_trans_out, metadata[:, -1, :])).to(torch.float32).to(self.device)\n",
    "        aux_out = lstm_trans_out\n",
    "\n",
    "        # pass through 2-layer relu\n",
    "        main_out = self.fc2_lstm(aux_in)\n",
    "        main_out = self.fc3(main_out)\n",
    "        main_out = self.relu(main_out)\n",
    "\n",
    "        aux_out = self.fc2_aux(aux_out)\n",
    "        aux_out = self.fc3(aux_out)\n",
    "        aux_out = self.relu(aux_out)\n",
    "\n",
    "        return main_out, aux_out\n",
    "\n"
   ]
  },
  {
   "cell_type": "code",
   "execution_count": 106,
   "id": "636f58c8",
   "metadata": {},
   "outputs": [],
   "source": [
    "# LSTM + Transformer Hyperparameters\n",
    "batch_size = 64\n",
    "input_size = 200 # number of features in input data(200 for 200D embeddings)\n",
    "hidden_size = 50\n",
    "lstm_output_size = 32\n",
    "metadata_size = train_metadata.size(1)\n",
    "output_size = 1\n",
    "n_heads = 2 # heads for the transformer\n",
    "dim_feedforward = 2048 # dimension for feedforward network in transformer\n",
    "dropout = 0.1\n",
    "lstm_layers = 1 # number of LSTM Layers\n",
    "transformer_layers = 1 # number of encoder and decoder layers"
   ]
  },
  {
   "cell_type": "code",
   "execution_count": 107,
   "id": "8ac4fd16",
   "metadata": {},
   "outputs": [
    {
     "name": "stdout",
     "output_type": "stream",
     "text": [
      "torch.Size([279692, 1, 200])\n",
      "torch.Size([279692, 1, 5])\n",
      "torch.Size([279692, 1])\n"
     ]
    }
   ],
   "source": [
    "# set up training data to be proper size\n",
    "x_train = train_tweets.unsqueeze(1)\n",
    "x_train = x_train.to(torch.float32).to(device)\n",
    "print(x_train.shape)\n",
    "\n",
    "metadata_train = train_metadata.unsqueeze(1)\n",
    "metadata_train = metadata_train.to(torch.float32).to(device)\n",
    "print(metadata_train.shape)\n",
    "\n",
    "y_train = train_labels.view(-1, 1).to(torch.float32).to(device)\n",
    "print(y_train.shape)"
   ]
  },
  {
   "cell_type": "code",
   "execution_count": null,
   "id": "6081dc07",
   "metadata": {},
   "outputs": [],
   "source": [
    "# Creating dataloader\n",
    "dataset = TensorDataset(x_train, metadata_train, y_train)\n",
    "dataloader = DataLoader(dataset, batch_size=batch_size, shuffle=True)\n",
    "\n",
    "# Set up model\n",
    "model = LSTMTransformerModel(input_size, hidden_size, lstm_output_size, metadata_size, output_size, device, \n",
    "                                              n_heads, dim_feedforward, dropout, lstm_layers, transformer_layers)\n",
    "model.to(device)\n",
    "criterion = nn.BCEWithLogitsLoss()  # Binary Cross Entropy with logits\n",
    "optimizer = optim.Adam(model.parameters(), lr=0.0001)  "
   ]
  },
  {
   "cell_type": "code",
   "execution_count": 109,
   "id": "e956203e",
   "metadata": {},
   "outputs": [
    {
     "name": "stdout",
     "output_type": "stream",
     "text": [
      "Epoch [1/15], Loss: 40.9575\n",
      "Epoch [2/15], Loss: 0.6931\n",
      "Epoch [3/15], Loss: 0.6931\n",
      "Epoch [4/15], Loss: 0.6931\n",
      "Epoch [5/15], Loss: 0.6931\n",
      "Epoch [6/15], Loss: 0.6931\n",
      "Epoch [7/15], Loss: 0.6931\n",
      "Epoch [8/15], Loss: 0.6931\n",
      "Epoch [9/15], Loss: 0.6931\n",
      "Epoch [10/15], Loss: 0.6931\n",
      "Epoch [11/15], Loss: 0.6931\n",
      "Epoch [12/15], Loss: 0.6931\n",
      "Epoch [13/15], Loss: 0.6931\n",
      "Epoch [14/15], Loss: 0.6931\n",
      "Epoch [15/15], Loss: 0.6931\n"
     ]
    }
   ],
   "source": [
    "# Training loop\n",
    "num_epochs = 15  # Number of epochs to train\n",
    "\n",
    "for epoch in range(num_epochs):\n",
    "    model.train()  # Set the model to training mode\n",
    "    running_loss = 0.0\n",
    "    \n",
    "    for inputs, metadata, labels in dataloader:\n",
    "        # Zero the gradients\n",
    "        optimizer.zero_grad()\n",
    "        \n",
    "        # Forward pass\n",
    "        main_out, aux_out = model(inputs, metadata)\n",
    "        \n",
    "        # Compute individual loss\n",
    "        loss = criterion(main_out, labels)\n",
    "        aux_loss = criterion(aux_out, labels)\n",
    "\n",
    "        # Total loss\n",
    "        total_loss = 0.8* loss + 0.2*aux_loss\n",
    "        \n",
    "        # Backward pass and optimization\n",
    "        total_loss.backward()\n",
    "        optimizer.step()\n",
    "        \n",
    "        running_loss += loss.item()\n",
    "    \n",
    "    avg_loss = running_loss / len(dataloader)\n",
    "    print(f\"Epoch [{epoch+1}/{num_epochs}], Loss: {avg_loss:.4f}\")"
   ]
  },
  {
   "cell_type": "code",
   "execution_count": 148,
   "id": "89cf18b8",
   "metadata": {},
   "outputs": [
    {
     "name": "stdout",
     "output_type": "stream",
     "text": [
      "Predictions: tensor([0., 0., 0.,  ..., 0., 0., 0.], device='cuda:0')\n",
      "199863\n"
     ]
    }
   ],
   "source": [
    "# Set the model to evaluation mode \n",
    "model.eval()\n",
    "\n",
    "# Set up testing data\n",
    "x_test = test_tweets.unsqueeze(1)\n",
    "x_test = x_test.to(torch.float32).to(device)\n",
    "\n",
    "metadata_test = test_metadata.unsqueeze(1)\n",
    "metadata_test = metadata_test.to(torch.float32).to(device)\n",
    "\n",
    "\n",
    "# set up dataloader\n",
    "test_dataset = TensorDataset(x_test, metadata_test)\n",
    "test_dataloader = DataLoader(test_dataset, batch_size=batch_size, shuffle=False)\n",
    "\n",
    "# set up label list\n",
    "predicted_labels = []\n",
    "\n",
    "# Make predictions\n",
    "with torch.no_grad():  # Disable gradient calculation to save memory and computations\n",
    "    for inputs, metadata in test_dataloader:\n",
    "        \n",
    "        # Forward pass\n",
    "        main_out, aux_out = model(inputs, metadata)\n",
    "        \n",
    "        # predictions\n",
    "        predictions= (main_out > 0.5).float()\n",
    "        predicted_labels.append(predictions)\n",
    "\n",
    "predicted_labels = torch.cat(predicted_labels, dim=0).flatten()\n",
    "predicted_labels.to(device)\n",
    "\n",
    "print(\"Predictions:\", predicted_labels)\n",
    "print(len(predicted_labels))"
   ]
  },
  {
   "cell_type": "code",
   "execution_count": 139,
   "id": "4d6094e4",
   "metadata": {},
   "outputs": [],
   "source": [
    "# Function to calculate TP, FP, TN, FN\n",
    "def calculate_confusion_values(y_true, y_pred):\n",
    "    \"\"\"\n",
    "    Calculate TP, FP, TN, FN for binary classification.\n",
    "    \n",
    "    Args:\n",
    "        y_true (tensor): Ground truth labels.\n",
    "        y_pred (tensor): Predicted labels.\n",
    "        \n",
    "    Returns:\n",
    "        tuple: (TP, FP, TN, FN)\n",
    "    \"\"\"\n",
    "    TP = ((y_true == 1) & (y_pred == 1)).sum().item()  # True Positive: True labels are 1, Predicted labels are 1\n",
    "    FP = ((y_true == 0) & (y_pred == 1)).sum().item()  # False Positive: True labels are 0, Predicted labels are 1\n",
    "    TN = ((y_true == 0) & (y_pred == 0)).sum().item()  # True Negative: True labels are 0, Predicted labels are 0\n",
    "    FN = ((y_true == 1) & (y_pred == 0)).sum().item()  # False Negative: True labels are 1, Predicted labels are 0\n",
    "    \n",
    "    return TP, FP, TN, FN"
   ]
  },
  {
   "cell_type": "code",
   "execution_count": 151,
   "id": "6815e056",
   "metadata": {},
   "outputs": [],
   "source": [
    "TP, FP, TN, FN = calculate_confusion_values(test_labels.to(device), predicted_labels)"
   ]
  },
  {
   "cell_type": "code",
   "execution_count": 154,
   "id": "bcb68051",
   "metadata": {},
   "outputs": [
    {
     "name": "stdout",
     "output_type": "stream",
     "text": [
      "0 0 96930 102933\n"
     ]
    }
   ],
   "source": [
    "print(TP, FP, TN, FN)"
   ]
  },
  {
   "cell_type": "code",
   "execution_count": 153,
   "id": "182c11db",
   "metadata": {},
   "outputs": [
    {
     "name": "stdout",
     "output_type": "stream",
     "text": [
      "Accuracy: 48.498221281577884\n",
      "F1-Score 0.0\n"
     ]
    },
    {
     "ename": "ZeroDivisionError",
     "evalue": "float division by zero",
     "output_type": "error",
     "traceback": [
      "\u001b[1;31m---------------------------------------------------------------------------\u001b[0m",
      "\u001b[1;31mZeroDivisionError\u001b[0m                         Traceback (most recent call last)",
      "Cell \u001b[1;32mIn[153], line 10\u001b[0m\n\u001b[0;32m      7\u001b[0m \u001b[38;5;28mprint\u001b[39m(\u001b[38;5;124m\"\u001b[39m\u001b[38;5;124mF1-Score\u001b[39m\u001b[38;5;124m\"\u001b[39m, f1_score)\n\u001b[0;32m      9\u001b[0m \u001b[38;5;66;03m# MCC\u001b[39;00m\n\u001b[1;32m---> 10\u001b[0m mcc_score \u001b[38;5;241m=\u001b[39m ((TP \u001b[38;5;241m*\u001b[39m TN) \u001b[38;5;241m-\u001b[39m (FP \u001b[38;5;241m*\u001b[39m FN)) \u001b[38;5;241m/\u001b[39m (((TP \u001b[38;5;241m+\u001b[39mFP) \u001b[38;5;241m*\u001b[39m (TP \u001b[38;5;241m+\u001b[39m FN) \u001b[38;5;241m*\u001b[39m (TN \u001b[38;5;241m+\u001b[39m FP) \u001b[38;5;241m*\u001b[39m (TN \u001b[38;5;241m+\u001b[39m FN)) \u001b[38;5;241m*\u001b[39m\u001b[38;5;241m*\u001b[39m \u001b[38;5;241m0.5\u001b[39m) \u001b[38;5;241m*\u001b[39m \u001b[38;5;241m100.0\u001b[39m\n\u001b[0;32m     12\u001b[0m \u001b[38;5;28mprint\u001b[39m(\u001b[38;5;124m\"\u001b[39m\u001b[38;5;124mMCC Score:\u001b[39m\u001b[38;5;124m\"\u001b[39m, mcc_score)\n",
      "\u001b[1;31mZeroDivisionError\u001b[0m: float division by zero"
     ]
    }
   ],
   "source": [
    "# accuracy\n",
    "accuracy = (TP + TN) / (TP + FP + TN + FN) * 100.0\n",
    "print(\"Accuracy:\", accuracy)\n",
    "\n",
    "# F1\n",
    "f1_score = TP / (TP + 0.5 * (FP + FN)) * 100.0\n",
    "print(\"F1-Score\", f1_score)\n",
    "\n",
    "# MCC\n",
    "mcc_score = ((TP * TN) - (FP * FN)) / (((TP +FP) * (TP + FN) * (TN + FP) * (TN + FN)) ** 0.5) * 100.0\n",
    "\n",
    "print(\"MCC Score:\", mcc_score)"
   ]
  }
 ],
 "metadata": {
  "kernelspec": {
   "display_name": "bot-detector",
   "language": "python",
   "name": "python3"
  },
  "language_info": {
   "codemirror_mode": {
    "name": "ipython",
    "version": 3
   },
   "file_extension": ".py",
   "mimetype": "text/x-python",
   "name": "python",
   "nbconvert_exporter": "python",
   "pygments_lexer": "ipython3",
   "version": "3.12.9"
  }
 },
 "nbformat": 4,
 "nbformat_minor": 5
}
